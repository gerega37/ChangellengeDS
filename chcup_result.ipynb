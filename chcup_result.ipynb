{
 "cells": [
  {
   "cell_type": "markdown",
   "id": "a1906b4d",
   "metadata": {},
   "source": [
    "# CupIT2023–DS–MIPT\n",
    "\n",
    "Команда: Олеся Цветкова, Андрей Евтеев, Наталья Катаева, Елена \n"
   ]
  },
  {
   "cell_type": "code",
   "execution_count": 1576,
   "id": "878a1ee1",
   "metadata": {},
   "outputs": [],
   "source": [
    "import re\n",
    "import json\n",
    "import spacy\n",
    "import random\n",
    "import numpy as np\n",
    "import pandas as pd\n",
    "import seaborn as sns\n",
    "import matplotlib.pyplot as plt\n",
    "\n",
    "from tqdm import tqdm\n",
    "from pathlib import Path\n",
    "from stop_words import get_stop_words\n",
    "\n",
    "from sklearn.pipeline import Pipeline, make_pipeline\n",
    "from imblearn.pipeline import Pipeline as imbpipeline\n",
    "\n",
    "\n",
    "from sklearn.utils import shuffle\n",
    "from sklearn.metrics import f1_score\n",
    "from sklearn.metrics import ndcg_score\n",
    "from sklearn.model_selection import GridSearchCV\n",
    "from sklearn.model_selection import train_test_split\n",
    "from sklearn.feature_extraction.text import CountVectorizer\n",
    "from sklearn.feature_extraction.text import TfidfVectorizer\n",
    "\n",
    "import lightgbm as lgb\n",
    "from lightgbm import LGBMRanker\n",
    "from lightgbm import LGBMRegressor\n",
    "from lightgbm import LGBMClassifier\n",
    "from lightgbm import plot_importance\n",
    "from sklearn.linear_model import LogisticRegression\n",
    "\n",
    "\n",
    "from sklearn.metrics.pairwise import cosine_similarity\n",
    "from sklearn.metrics.pairwise import euclidean_distances\n",
    "\n",
    "import gensim\n",
    "from gensim.parsing.preprocessing import remove_stopwords, STOPWORDS as stp_words"
   ]
  },
  {
   "cell_type": "markdown",
   "id": "af8392d9",
   "metadata": {},
   "source": [
    "## Исследование и очистка данных"
   ]
  },
  {
   "cell_type": "markdown",
   "id": "5d1b044e",
   "metadata": {},
   "source": [
    "### Загрузка файла"
   ]
  },
  {
   "cell_type": "code",
   "execution_count": 2,
   "id": "f0bcd4a2",
   "metadata": {},
   "outputs": [],
   "source": [
    "df = pd.read_json('C:/Andrey/datasets/chg/ranking_train.jsonl', lines = True)"
   ]
  },
  {
   "cell_type": "code",
   "execution_count": 3,
   "id": "3c323402",
   "metadata": {
    "scrolled": true
   },
   "outputs": [
    {
     "data": {
      "text/html": [
       "<div>\n",
       "<style scoped>\n",
       "    .dataframe tbody tr th:only-of-type {\n",
       "        vertical-align: middle;\n",
       "    }\n",
       "\n",
       "    .dataframe tbody tr th {\n",
       "        vertical-align: top;\n",
       "    }\n",
       "\n",
       "    .dataframe thead th {\n",
       "        text-align: right;\n",
       "    }\n",
       "</style>\n",
       "<table border=\"1\" class=\"dataframe\">\n",
       "  <thead>\n",
       "    <tr style=\"text-align: right;\">\n",
       "      <th></th>\n",
       "      <th>text</th>\n",
       "      <th>comments</th>\n",
       "    </tr>\n",
       "  </thead>\n",
       "  <tbody>\n",
       "    <tr>\n",
       "      <th>0</th>\n",
       "      <td>How many summer Y Combinator fundees decided n...</td>\n",
       "      <td>[{'text': 'Going back to school is not identic...</td>\n",
       "    </tr>\n",
       "    <tr>\n",
       "      <th>1</th>\n",
       "      <td>CBS acquires last.fm for $280m</td>\n",
       "      <td>[{'text': 'It will be curious to see where thi...</td>\n",
       "    </tr>\n",
       "    <tr>\n",
       "      <th>2</th>\n",
       "      <td>How Costco Became the Anti-Wal-Mart</td>\n",
       "      <td>[{'text': 'I really hate it when people falsel...</td>\n",
       "    </tr>\n",
       "    <tr>\n",
       "      <th>3</th>\n",
       "      <td>Fortune Favors Big Turds | Screw The Money, Th...</td>\n",
       "      <td>[{'text': 'His real point is that something ca...</td>\n",
       "    </tr>\n",
       "    <tr>\n",
       "      <th>4</th>\n",
       "      <td>StartupWeekend: 70 Founders Create One Company...</td>\n",
       "      <td>[{'text': 'Looks like someone hasn't read The ...</td>\n",
       "    </tr>\n",
       "  </tbody>\n",
       "</table>\n",
       "</div>"
      ],
      "text/plain": [
       "                                                text  \\\n",
       "0  How many summer Y Combinator fundees decided n...   \n",
       "1                     CBS acquires last.fm for $280m   \n",
       "2                How Costco Became the Anti-Wal-Mart   \n",
       "3  Fortune Favors Big Turds | Screw The Money, Th...   \n",
       "4  StartupWeekend: 70 Founders Create One Company...   \n",
       "\n",
       "                                            comments  \n",
       "0  [{'text': 'Going back to school is not identic...  \n",
       "1  [{'text': 'It will be curious to see where thi...  \n",
       "2  [{'text': 'I really hate it when people falsel...  \n",
       "3  [{'text': 'His real point is that something ca...  \n",
       "4  [{'text': 'Looks like someone hasn't read The ...  "
      ]
     },
     "execution_count": 3,
     "metadata": {},
     "output_type": "execute_result"
    }
   ],
   "source": [
    "df.head()"
   ]
  },
  {
   "cell_type": "code",
   "execution_count": 4,
   "id": "19878e8f",
   "metadata": {},
   "outputs": [
    {
     "name": "stdout",
     "output_type": "stream",
     "text": [
      "<class 'pandas.core.frame.DataFrame'>\n",
      "RangeIndex: 88107 entries, 0 to 88106\n",
      "Data columns (total 2 columns):\n",
      " #   Column    Non-Null Count  Dtype \n",
      "---  ------    --------------  ----- \n",
      " 0   text      88107 non-null  object\n",
      " 1   comments  88107 non-null  object\n",
      "dtypes: object(2)\n",
      "memory usage: 1.3+ MB\n"
     ]
    }
   ],
   "source": [
    "df.info()"
   ]
  },
  {
   "cell_type": "code",
   "execution_count": 5,
   "id": "b902655e",
   "metadata": {},
   "outputs": [],
   "source": [
    "posts = df.copy()"
   ]
  },
  {
   "cell_type": "markdown",
   "id": "9ecf683b",
   "metadata": {},
   "source": [
    "### Очистка от спецсимволов, замена гиперссылок"
   ]
  },
  {
   "cell_type": "markdown",
   "id": "308a201b",
   "metadata": {},
   "source": [
    "Выполним обработку текста в постах: удалим большинство небуквенных и не-цифровых символов, заменим гиперссылки на http"
   ]
  },
  {
   "cell_type": "code",
   "execution_count": 6,
   "id": "6b537224",
   "metadata": {},
   "outputs": [],
   "source": [
    "#меняем гиперссылки на http\n",
    "posts['text'] = posts['text'].replace(r\"http\\S+\", \"http\", regex=True)\n",
    "#оставляем буквы, цифры, некоторые символы (чтобы учесть темы финансов, эл адреса, интонации)\n",
    "posts['text'] = posts['text'].replace(r\"[^a-zA-Z0-9$@'?+!]\", \" \", regex=True)\n",
    "# убираем символы переноса строки\n",
    "posts[\"text\"] = posts[\"text\"].replace(r\"[\\n]\", \" \", regex=True)\n",
    "# переведем в нижний регистр\n",
    "posts[\"text\"] = posts[\"text\"].str.lower()\n",
    "posts[\"text\"] = posts[\"text\"].replace(r\"\\?\", \" ? \", regex=True)\n",
    "posts[\"text\"] = posts[\"text\"].replace(r\"\\!\", \" ! \", regex=True)\n",
    "posts[\"text\"] = posts[\"text\"].replace(r\"\\@\", \" @ \", regex=True)\n",
    "posts[\"text\"] = posts[\"text\"].replace(r\"\\$\", \" $ \", regex=True)"
   ]
  },
  {
   "cell_type": "markdown",
   "id": "0c35c6ee",
   "metadata": {},
   "source": [
    "Добавим столбец с длиной текста в постах, проверим минмальную длину"
   ]
  },
  {
   "cell_type": "code",
   "execution_count": 1219,
   "id": "470e538f",
   "metadata": {
    "scrolled": false
   },
   "outputs": [
    {
     "data": {
      "text/plain": [
       "0"
      ]
     },
     "execution_count": 1219,
     "metadata": {},
     "output_type": "execute_result"
    }
   ],
   "source": [
    "posts['length'] = posts['text'].apply(lambda x: len(x))\n",
    "posts['length'].min()"
   ]
  },
  {
   "cell_type": "markdown",
   "id": "1b3777fc",
   "metadata": {},
   "source": [
    "Проверим, сколько постов длиной менее 10:"
   ]
  },
  {
   "cell_type": "code",
   "execution_count": 1220,
   "id": "3da9b74a",
   "metadata": {
    "scrolled": true
   },
   "outputs": [
    {
     "data": {
      "text/plain": [
       "1850"
      ]
     },
     "execution_count": 1220,
     "metadata": {},
     "output_type": "execute_result"
    }
   ],
   "source": [
    "len(posts.query('length <10'))"
   ]
  },
  {
   "cell_type": "markdown",
   "id": "b8333cfb",
   "metadata": {},
   "source": [
    "Удалим записи со слишком короткими постами"
   ]
  },
  {
   "cell_type": "code",
   "execution_count": 9,
   "id": "3f576cd8",
   "metadata": {},
   "outputs": [],
   "source": [
    "posts = posts.query('length >=10')"
   ]
  },
  {
   "cell_type": "code",
   "execution_count": 10,
   "id": "914c76bb",
   "metadata": {},
   "outputs": [
    {
     "name": "stdout",
     "output_type": "stream",
     "text": [
      "<class 'pandas.core.frame.DataFrame'>\n",
      "Int64Index: 87525 entries, 0 to 88106\n",
      "Data columns (total 3 columns):\n",
      " #   Column    Non-Null Count  Dtype \n",
      "---  ------    --------------  ----- \n",
      " 0   text      87525 non-null  object\n",
      " 1   comments  87525 non-null  object\n",
      " 2   length    87525 non-null  int64 \n",
      "dtypes: int64(1), object(2)\n",
      "memory usage: 2.7+ MB\n"
     ]
    }
   ],
   "source": [
    "posts.info()"
   ]
  },
  {
   "cell_type": "markdown",
   "id": "53bd7860",
   "metadata": {},
   "source": [
    "Выведем в новом датафрейме комментарии и ранги в отдельных столбцах:"
   ]
  },
  {
   "cell_type": "code",
   "execution_count": 11,
   "id": "b8cee5c0",
   "metadata": {},
   "outputs": [],
   "source": [
    "d = [{f'{k}{i}': v for i,y in enumerate(x, 1) for k,v in y.items()} for x in posts['comments']]\n",
    "df1 = pd.DataFrame(d, index=posts.index).sort_index(axis=1)"
   ]
  },
  {
   "cell_type": "code",
   "execution_count": 12,
   "id": "cafb7e02",
   "metadata": {
    "scrolled": true
   },
   "outputs": [
    {
     "data": {
      "text/html": [
       "<div>\n",
       "<style scoped>\n",
       "    .dataframe tbody tr th:only-of-type {\n",
       "        vertical-align: middle;\n",
       "    }\n",
       "\n",
       "    .dataframe tbody tr th {\n",
       "        vertical-align: top;\n",
       "    }\n",
       "\n",
       "    .dataframe thead th {\n",
       "        text-align: right;\n",
       "    }\n",
       "</style>\n",
       "<table border=\"1\" class=\"dataframe\">\n",
       "  <thead>\n",
       "    <tr style=\"text-align: right;\">\n",
       "      <th></th>\n",
       "      <th>score1</th>\n",
       "      <th>score2</th>\n",
       "      <th>score3</th>\n",
       "      <th>score4</th>\n",
       "      <th>score5</th>\n",
       "      <th>text1</th>\n",
       "      <th>text2</th>\n",
       "      <th>text3</th>\n",
       "      <th>text4</th>\n",
       "      <th>text5</th>\n",
       "    </tr>\n",
       "  </thead>\n",
       "  <tbody>\n",
       "    <tr>\n",
       "      <th>0</th>\n",
       "      <td>0</td>\n",
       "      <td>1</td>\n",
       "      <td>2</td>\n",
       "      <td>3</td>\n",
       "      <td>4</td>\n",
       "      <td>Going back to school is not identical with giv...</td>\n",
       "      <td>There will invariably be those who don't see t...</td>\n",
       "      <td>For me school is a way to be connected to what...</td>\n",
       "      <td>I guess it really depends on how hungry you ar...</td>\n",
       "      <td>I know pollground decided to go back to school...</td>\n",
       "    </tr>\n",
       "    <tr>\n",
       "      <th>1</th>\n",
       "      <td>0</td>\n",
       "      <td>1</td>\n",
       "      <td>2</td>\n",
       "      <td>3</td>\n",
       "      <td>4</td>\n",
       "      <td>It will be curious to see where this heads in ...</td>\n",
       "      <td>Does this mean that there's now a big-name com...</td>\n",
       "      <td>Also on BBC News:  http://news.bbc.co.uk/1/low...</td>\n",
       "      <td>I don't understand what they do that is worth ...</td>\n",
       "      <td>sold out too cheaply. given their leadership p...</td>\n",
       "    </tr>\n",
       "    <tr>\n",
       "      <th>2</th>\n",
       "      <td>0</td>\n",
       "      <td>1</td>\n",
       "      <td>2</td>\n",
       "      <td>3</td>\n",
       "      <td>4</td>\n",
       "      <td>I really hate it when people falsely claim tha...</td>\n",
       "      <td>I love Costco.  For me, the best quote of the ...</td>\n",
       "      <td>\"But Mr. Sinegal warned that if Costco increas...</td>\n",
       "      <td>While Costco does treat its employees a little...</td>\n",
       "      <td>I'd like to know more about their \"don't adver...</td>\n",
       "    </tr>\n",
       "  </tbody>\n",
       "</table>\n",
       "</div>"
      ],
      "text/plain": [
       "   score1  score2  score3  score4  score5  \\\n",
       "0       0       1       2       3       4   \n",
       "1       0       1       2       3       4   \n",
       "2       0       1       2       3       4   \n",
       "\n",
       "                                               text1  \\\n",
       "0  Going back to school is not identical with giv...   \n",
       "1  It will be curious to see where this heads in ...   \n",
       "2  I really hate it when people falsely claim tha...   \n",
       "\n",
       "                                               text2  \\\n",
       "0  There will invariably be those who don't see t...   \n",
       "1  Does this mean that there's now a big-name com...   \n",
       "2  I love Costco.  For me, the best quote of the ...   \n",
       "\n",
       "                                               text3  \\\n",
       "0  For me school is a way to be connected to what...   \n",
       "1  Also on BBC News:  http://news.bbc.co.uk/1/low...   \n",
       "2  \"But Mr. Sinegal warned that if Costco increas...   \n",
       "\n",
       "                                               text4  \\\n",
       "0  I guess it really depends on how hungry you ar...   \n",
       "1  I don't understand what they do that is worth ...   \n",
       "2  While Costco does treat its employees a little...   \n",
       "\n",
       "                                               text5  \n",
       "0  I know pollground decided to go back to school...  \n",
       "1  sold out too cheaply. given their leadership p...  \n",
       "2  I'd like to know more about their \"don't adver...  "
      ]
     },
     "execution_count": 12,
     "metadata": {},
     "output_type": "execute_result"
    }
   ],
   "source": [
    "df1.head(3)"
   ]
  },
  {
   "cell_type": "code",
   "execution_count": 13,
   "id": "11f61a76",
   "metadata": {},
   "outputs": [
    {
     "name": "stdout",
     "output_type": "stream",
     "text": [
      "<class 'pandas.core.frame.DataFrame'>\n",
      "Int64Index: 87525 entries, 0 to 88106\n",
      "Data columns (total 10 columns):\n",
      " #   Column  Non-Null Count  Dtype \n",
      "---  ------  --------------  ----- \n",
      " 0   score1  87525 non-null  int64 \n",
      " 1   score2  87525 non-null  int64 \n",
      " 2   score3  87525 non-null  int64 \n",
      " 3   score4  87525 non-null  int64 \n",
      " 4   score5  87525 non-null  int64 \n",
      " 5   text1   87525 non-null  object\n",
      " 6   text2   87525 non-null  object\n",
      " 7   text3   87525 non-null  object\n",
      " 8   text4   87525 non-null  object\n",
      " 9   text5   87525 non-null  object\n",
      "dtypes: int64(5), object(5)\n",
      "memory usage: 7.3+ MB\n"
     ]
    }
   ],
   "source": [
    "df1.info()"
   ]
  },
  {
   "cell_type": "markdown",
   "id": "739897eb",
   "metadata": {},
   "source": [
    "Проверим уникальные значения в столбцах с оценками"
   ]
  },
  {
   "cell_type": "code",
   "execution_count": 14,
   "id": "a1b070a5",
   "metadata": {
    "scrolled": true
   },
   "outputs": [
    {
     "data": {
      "text/plain": [
       "(array([0], dtype=int64),\n",
       " array([1], dtype=int64),\n",
       " array([2], dtype=int64),\n",
       " array([3], dtype=int64),\n",
       " array([3], dtype=int64))"
      ]
     },
     "execution_count": 14,
     "metadata": {},
     "output_type": "execute_result"
    }
   ],
   "source": [
    "df1.score1.unique(), df1.score2.unique(), df1.score3.unique(), df1.score4.unique(), df1.score4.unique()"
   ]
  },
  {
   "cell_type": "markdown",
   "id": "72b7dc83",
   "metadata": {},
   "source": [
    "В каждом столбце - только один тип оценки, то есть оценки идут подряд от 0 до 1 для каждой записи. Это значит, что вектор с оценками легко сгенерировать, поэтому исключим оценки:"
   ]
  },
  {
   "cell_type": "code",
   "execution_count": 15,
   "id": "d894c05e",
   "metadata": {},
   "outputs": [],
   "source": [
    "df1 = df1.drop(columns = ['score1', 'score2', 'score3', 'score4', 'score5'], axis = 1)"
   ]
  },
  {
   "cell_type": "markdown",
   "id": "42f2d00f",
   "metadata": {},
   "source": [
    "Подготовим текст в столбцах с комментами также, как и для постов:"
   ]
  },
  {
   "cell_type": "code",
   "execution_count": 16,
   "id": "825d0bc4",
   "metadata": {},
   "outputs": [],
   "source": [
    "cols = ['text1', 'text2', 'text3', 'text4', 'text5']\n",
    "for col in cols:\n",
    "    df1[col] = df1[col].replace(r\"http\\S+\", \"http\", regex=True)\n",
    "    df1[col] = df1[col].replace(r\"[^a-zA-Z0-9$@'?+!]\", \" \", regex=True)\n",
    "    df1[col] = df1[col].replace(r\"[\\n]\", \" \", regex=True)\n",
    "    df1[col] = df1[col].str.lower()\n",
    "    df1[col] = df1[col].replace(r\"\\?\", \" ? \", regex=True)\n",
    "    df1[col] = df1[col].replace(r\"\\!\", \" ! \", regex=True)\n",
    "    df1[col] = df1[col].replace(r\"\\@\", \" @ \", regex=True)\n",
    "    df1[col] = df1[col].replace(r\"\\$\", \" $ \", regex=True)"
   ]
  },
  {
   "cell_type": "code",
   "execution_count": 17,
   "id": "c26c0523",
   "metadata": {},
   "outputs": [
    {
     "data": {
      "text/html": [
       "<div>\n",
       "<style scoped>\n",
       "    .dataframe tbody tr th:only-of-type {\n",
       "        vertical-align: middle;\n",
       "    }\n",
       "\n",
       "    .dataframe tbody tr th {\n",
       "        vertical-align: top;\n",
       "    }\n",
       "\n",
       "    .dataframe thead th {\n",
       "        text-align: right;\n",
       "    }\n",
       "</style>\n",
       "<table border=\"1\" class=\"dataframe\">\n",
       "  <thead>\n",
       "    <tr style=\"text-align: right;\">\n",
       "      <th></th>\n",
       "      <th>text1</th>\n",
       "      <th>text2</th>\n",
       "      <th>text3</th>\n",
       "      <th>text4</th>\n",
       "      <th>text5</th>\n",
       "    </tr>\n",
       "  </thead>\n",
       "  <tbody>\n",
       "    <tr>\n",
       "      <th>0</th>\n",
       "      <td>going back to school is not identical with giv...</td>\n",
       "      <td>there will invariably be those who don't see t...</td>\n",
       "      <td>for me school is a way to be connected to what...</td>\n",
       "      <td>i guess it really depends on how hungry you ar...</td>\n",
       "      <td>i know pollground decided to go back to school...</td>\n",
       "    </tr>\n",
       "    <tr>\n",
       "      <th>1</th>\n",
       "      <td>it will be curious to see where this heads in ...</td>\n",
       "      <td>does this mean that there's now a big name com...</td>\n",
       "      <td>also on bbc news   http  nice to see a london ...</td>\n",
       "      <td>i don't understand what they do that is worth ...</td>\n",
       "      <td>sold out too cheaply  given their leadership p...</td>\n",
       "    </tr>\n",
       "    <tr>\n",
       "      <th>2</th>\n",
       "      <td>i really hate it when people falsely claim tha...</td>\n",
       "      <td>i love costco   for me  the best quote of the ...</td>\n",
       "      <td>but mr  sinegal warned that if costco increas...</td>\n",
       "      <td>while costco does treat its employees a little...</td>\n",
       "      <td>i'd like to know more about their  don't adver...</td>\n",
       "    </tr>\n",
       "    <tr>\n",
       "      <th>3</th>\n",
       "      <td>his real point is that something can be  simpl...</td>\n",
       "      <td>so i'm thinking   well  i've never heard of th...</td>\n",
       "      <td>i've never seen a single blog post wander in s...</td>\n",
       "      <td>it was a rant on a personal blog  it's there t...</td>\n",
       "      <td>in the eternal words of the geico caveman   wh...</td>\n",
       "    </tr>\n",
       "    <tr>\n",
       "      <th>4</th>\n",
       "      <td>looks like someone hasn't read the mythical ma...</td>\n",
       "      <td>any chances for recreating this in a telecommu...</td>\n",
       "      <td>you know  if they started with 70 and eliminat...</td>\n",
       "      <td>and what did you do this weekend ? i'd love to...</td>\n",
       "      <td>very interesting  i would join an event like t...</td>\n",
       "    </tr>\n",
       "  </tbody>\n",
       "</table>\n",
       "</div>"
      ],
      "text/plain": [
       "                                               text1  \\\n",
       "0  going back to school is not identical with giv...   \n",
       "1  it will be curious to see where this heads in ...   \n",
       "2  i really hate it when people falsely claim tha...   \n",
       "3  his real point is that something can be  simpl...   \n",
       "4  looks like someone hasn't read the mythical ma...   \n",
       "\n",
       "                                               text2  \\\n",
       "0  there will invariably be those who don't see t...   \n",
       "1  does this mean that there's now a big name com...   \n",
       "2  i love costco   for me  the best quote of the ...   \n",
       "3  so i'm thinking   well  i've never heard of th...   \n",
       "4  any chances for recreating this in a telecommu...   \n",
       "\n",
       "                                               text3  \\\n",
       "0  for me school is a way to be connected to what...   \n",
       "1  also on bbc news   http  nice to see a london ...   \n",
       "2   but mr  sinegal warned that if costco increas...   \n",
       "3  i've never seen a single blog post wander in s...   \n",
       "4  you know  if they started with 70 and eliminat...   \n",
       "\n",
       "                                               text4  \\\n",
       "0  i guess it really depends on how hungry you ar...   \n",
       "1  i don't understand what they do that is worth ...   \n",
       "2  while costco does treat its employees a little...   \n",
       "3  it was a rant on a personal blog  it's there t...   \n",
       "4  and what did you do this weekend ? i'd love to...   \n",
       "\n",
       "                                               text5  \n",
       "0  i know pollground decided to go back to school...  \n",
       "1  sold out too cheaply  given their leadership p...  \n",
       "2  i'd like to know more about their  don't adver...  \n",
       "3  in the eternal words of the geico caveman   wh...  \n",
       "4  very interesting  i would join an event like t...  "
      ]
     },
     "execution_count": 17,
     "metadata": {},
     "output_type": "execute_result"
    }
   ],
   "source": [
    "df1.head()"
   ]
  },
  {
   "cell_type": "markdown",
   "id": "f67b2b12",
   "metadata": {},
   "source": [
    "### Исключение стоп-слов"
   ]
  },
  {
   "cell_type": "code",
   "execution_count": 18,
   "id": "31e6d27a",
   "metadata": {
    "scrolled": true
   },
   "outputs": [],
   "source": [
    "posts['text'] = posts['text'].apply(lambda text: remove_stopwords(text))"
   ]
  },
  {
   "cell_type": "code",
   "execution_count": 19,
   "id": "82153713",
   "metadata": {},
   "outputs": [],
   "source": [
    "cols = ['text1', 'text2', 'text3', 'text4', 'text5']\n",
    "for col in cols:\n",
    "    df1[col] = df1[col].apply(lambda text: remove_stopwords(text))"
   ]
  },
  {
   "cell_type": "markdown",
   "id": "ac376dea",
   "metadata": {},
   "source": [
    "**Комментарий**\n",
    "Не получается убрать стоп слова типа hasn't, хотя они есть в словаре. Придется еще раз убирать после лемматизации"
   ]
  },
  {
   "cell_type": "code",
   "execution_count": 20,
   "id": "ba5281c7",
   "metadata": {},
   "outputs": [
    {
     "data": {
      "text/html": [
       "<div>\n",
       "<style scoped>\n",
       "    .dataframe tbody tr th:only-of-type {\n",
       "        vertical-align: middle;\n",
       "    }\n",
       "\n",
       "    .dataframe tbody tr th {\n",
       "        vertical-align: top;\n",
       "    }\n",
       "\n",
       "    .dataframe thead th {\n",
       "        text-align: right;\n",
       "    }\n",
       "</style>\n",
       "<table border=\"1\" class=\"dataframe\">\n",
       "  <thead>\n",
       "    <tr style=\"text-align: right;\">\n",
       "      <th></th>\n",
       "      <th>text1</th>\n",
       "      <th>text2</th>\n",
       "      <th>text3</th>\n",
       "      <th>text4</th>\n",
       "      <th>text5</th>\n",
       "    </tr>\n",
       "  </thead>\n",
       "  <tbody>\n",
       "    <tr>\n",
       "      <th>0</th>\n",
       "      <td>going school identical giving founders school ...</td>\n",
       "      <td>invariably don't success set fall original pat...</td>\n",
       "      <td>school way connected going real world entered ...</td>\n",
       "      <td>guess depends hungry believe product i'm 24 sc...</td>\n",
       "      <td>know pollground decided school getting y combi...</td>\n",
       "    </tr>\n",
       "    <tr>\n",
       "      <th>1</th>\n",
       "      <td>curious heads long run cbs tear fit image try ...</td>\n",
       "      <td>mean there's big company fight repeal recent s...</td>\n",
       "      <td>bbc news http nice london based hit headlines</td>\n",
       "      <td>don't understand worth $ 70m year</td>\n",
       "      <td>sold cheaply given leadership position ask $ 500m</td>\n",
       "    </tr>\n",
       "    <tr>\n",
       "      <th>2</th>\n",
       "      <td>hate people falsely claim fiduciary responsibi...</td>\n",
       "      <td>love costco best quote article traditional ret...</td>\n",
       "      <td>mr sinegal warned costco increased markups 16 ...</td>\n",
       "      <td>costco treat employees little bit better peopl...</td>\n",
       "      <td>i'd like know don't advertise strategy upscale...</td>\n",
       "    </tr>\n",
       "    <tr>\n",
       "      <th>3</th>\n",
       "      <td>real point simple powerful order sound edgy su...</td>\n",
       "      <td>i'm thinking i've heard bug tracker called 'mo...</td>\n",
       "      <td>i've seen single blog post wander directions f...</td>\n",
       "      <td>rant personal blog it's vent frustration vapid...</td>\n",
       "      <td>eternal words geico caveman ?</td>\n",
       "    </tr>\n",
       "    <tr>\n",
       "      <th>4</th>\n",
       "      <td>looks like hasn't read mythical man month</td>\n",
       "      <td>chances recreating telecommuting way ? loved a...</td>\n",
       "      <td>know started 70 eliminated reality style total...</td>\n",
       "      <td>weekend ? i'd love hear like happens nyc nyc s...</td>\n",
       "      <td>interesting join event like happens sv equity fun</td>\n",
       "    </tr>\n",
       "  </tbody>\n",
       "</table>\n",
       "</div>"
      ],
      "text/plain": [
       "                                               text1  \\\n",
       "0  going school identical giving founders school ...   \n",
       "1  curious heads long run cbs tear fit image try ...   \n",
       "2  hate people falsely claim fiduciary responsibi...   \n",
       "3  real point simple powerful order sound edgy su...   \n",
       "4          looks like hasn't read mythical man month   \n",
       "\n",
       "                                               text2  \\\n",
       "0  invariably don't success set fall original pat...   \n",
       "1  mean there's big company fight repeal recent s...   \n",
       "2  love costco best quote article traditional ret...   \n",
       "3  i'm thinking i've heard bug tracker called 'mo...   \n",
       "4  chances recreating telecommuting way ? loved a...   \n",
       "\n",
       "                                               text3  \\\n",
       "0  school way connected going real world entered ...   \n",
       "1      bbc news http nice london based hit headlines   \n",
       "2  mr sinegal warned costco increased markups 16 ...   \n",
       "3  i've seen single blog post wander directions f...   \n",
       "4  know started 70 eliminated reality style total...   \n",
       "\n",
       "                                               text4  \\\n",
       "0  guess depends hungry believe product i'm 24 sc...   \n",
       "1                  don't understand worth $ 70m year   \n",
       "2  costco treat employees little bit better peopl...   \n",
       "3  rant personal blog it's vent frustration vapid...   \n",
       "4  weekend ? i'd love hear like happens nyc nyc s...   \n",
       "\n",
       "                                               text5  \n",
       "0  know pollground decided school getting y combi...  \n",
       "1  sold cheaply given leadership position ask $ 500m  \n",
       "2  i'd like know don't advertise strategy upscale...  \n",
       "3                      eternal words geico caveman ?  \n",
       "4  interesting join event like happens sv equity fun  "
      ]
     },
     "execution_count": 20,
     "metadata": {},
     "output_type": "execute_result"
    }
   ],
   "source": [
    "df1.head()"
   ]
  },
  {
   "cell_type": "code",
   "execution_count": 21,
   "id": "799946ca",
   "metadata": {},
   "outputs": [
    {
     "name": "stdout",
     "output_type": "stream",
     "text": [
      "<class 'pandas.core.frame.DataFrame'>\n",
      "Int64Index: 87525 entries, 0 to 88106\n",
      "Data columns (total 5 columns):\n",
      " #   Column  Non-Null Count  Dtype \n",
      "---  ------  --------------  ----- \n",
      " 0   text1   87525 non-null  object\n",
      " 1   text2   87525 non-null  object\n",
      " 2   text3   87525 non-null  object\n",
      " 3   text4   87525 non-null  object\n",
      " 4   text5   87525 non-null  object\n",
      "dtypes: object(5)\n",
      "memory usage: 4.0+ MB\n"
     ]
    }
   ],
   "source": [
    "df1.info()"
   ]
  },
  {
   "cell_type": "code",
   "execution_count": null,
   "id": "e3db58fc",
   "metadata": {},
   "outputs": [],
   "source": []
  },
  {
   "cell_type": "markdown",
   "id": "1a514d64",
   "metadata": {},
   "source": [
    "### Лемматизация"
   ]
  },
  {
   "cell_type": "code",
   "execution_count": 22,
   "id": "8a7075a9",
   "metadata": {},
   "outputs": [
    {
     "name": "stderr",
     "output_type": "stream",
     "text": [
      "C:\\Users\\antwo\\AppData\\Roaming\\Python\\Python39\\site-packages\\spacy\\util.py:877: UserWarning: [W095] Model 'en_core_web_sm' (3.3.0) was trained with spaCy v3.3 and may not be 100% compatible with the current version (3.4.3). If you see errors or degraded performance, download a newer compatible model or retrain your custom model with the current spaCy version. For more details and available updates, run: python -m spacy validate\n",
      "  warnings.warn(warn_msg)\n"
     ]
    }
   ],
   "source": [
    "# загружаем модуль для лемматизации\n",
    "nlp = spacy.load(\"en_core_web_sm\")"
   ]
  },
  {
   "cell_type": "code",
   "execution_count": 23,
   "id": "3ebfdd02",
   "metadata": {},
   "outputs": [
    {
     "name": "stderr",
     "output_type": "stream",
     "text": [
      "100%|██████████| 87525/87525 [11:02<00:00, 132.13it/s]\n"
     ]
    }
   ],
   "source": [
    "# применяем лемматизацию к словам в предложениях из столбца датафрейма, исключая пробелы\n",
    "tqdm.pandas()\n",
    "posts['lemm'] = posts['text'].progress_apply(lambda text: \" \".join(token.lemma_ for token in nlp(text)\n",
    "                                                                if not token.is_space))"
   ]
  },
  {
   "cell_type": "code",
   "execution_count": 24,
   "id": "3cbb5fd3",
   "metadata": {},
   "outputs": [],
   "source": [
    "posts['lemm'] = posts['lemm'].apply(lambda text: remove_stopwords(text))"
   ]
  },
  {
   "cell_type": "code",
   "execution_count": 25,
   "id": "2cebf104",
   "metadata": {},
   "outputs": [],
   "source": [
    "# исключаем апострофы (могли остаться, если были в словах, которые не подходят под схемы для лемматизации)\n",
    "posts[\"lemm\"] = posts[\"lemm\"].replace(r\"[']\", \" \", regex=True)"
   ]
  },
  {
   "cell_type": "code",
   "execution_count": 26,
   "id": "669726dd",
   "metadata": {},
   "outputs": [],
   "source": [
    "# удаляем столбец с исходным текстом\n",
    "posts = posts.drop(columns=['text'], axis=1)"
   ]
  },
  {
   "cell_type": "code",
   "execution_count": 27,
   "id": "e7898872",
   "metadata": {},
   "outputs": [],
   "source": [
    "# удаляем столбец с комментариями\n",
    "posts = posts.drop(columns=['comments'], axis=1)"
   ]
  },
  {
   "cell_type": "code",
   "execution_count": 28,
   "id": "a0b91775",
   "metadata": {},
   "outputs": [],
   "source": [
    "posts = posts.rename(columns = {'lemm': 'text'})"
   ]
  },
  {
   "cell_type": "code",
   "execution_count": 29,
   "id": "96820ddf",
   "metadata": {},
   "outputs": [
    {
     "data": {
      "text/html": [
       "<div>\n",
       "<style scoped>\n",
       "    .dataframe tbody tr th:only-of-type {\n",
       "        vertical-align: middle;\n",
       "    }\n",
       "\n",
       "    .dataframe tbody tr th {\n",
       "        vertical-align: top;\n",
       "    }\n",
       "\n",
       "    .dataframe thead th {\n",
       "        text-align: right;\n",
       "    }\n",
       "</style>\n",
       "<table border=\"1\" class=\"dataframe\">\n",
       "  <thead>\n",
       "    <tr style=\"text-align: right;\">\n",
       "      <th></th>\n",
       "      <th>length</th>\n",
       "      <th>text</th>\n",
       "    </tr>\n",
       "  </thead>\n",
       "  <tbody>\n",
       "    <tr>\n",
       "      <th>0</th>\n",
       "      <td>133</td>\n",
       "      <td>summer y combinator fundee decide continue sta...</td>\n",
       "    </tr>\n",
       "    <tr>\n",
       "      <th>1</th>\n",
       "      <td>32</td>\n",
       "      <td>cbs acquires fm $ 280 m</td>\n",
       "    </tr>\n",
       "    <tr>\n",
       "      <th>2</th>\n",
       "      <td>35</td>\n",
       "      <td>costco anti wal mart</td>\n",
       "    </tr>\n",
       "    <tr>\n",
       "      <th>3</th>\n",
       "      <td>58</td>\n",
       "      <td>fortune favor big turd screw money art</td>\n",
       "    </tr>\n",
       "    <tr>\n",
       "      <th>4</th>\n",
       "      <td>59</td>\n",
       "      <td>startupweekend 70 founder create company weekend</td>\n",
       "    </tr>\n",
       "  </tbody>\n",
       "</table>\n",
       "</div>"
      ],
      "text/plain": [
       "   length                                               text\n",
       "0     133  summer y combinator fundee decide continue sta...\n",
       "1      32                            cbs acquires fm $ 280 m\n",
       "2      35                               costco anti wal mart\n",
       "3      58             fortune favor big turd screw money art\n",
       "4      59   startupweekend 70 founder create company weekend"
      ]
     },
     "execution_count": 29,
     "metadata": {},
     "output_type": "execute_result"
    }
   ],
   "source": [
    "posts.head()"
   ]
  },
  {
   "cell_type": "code",
   "execution_count": 30,
   "id": "87df2475",
   "metadata": {},
   "outputs": [],
   "source": [
    "# сохраняем полученный файл\n",
    "filepath = Path('C:/Andrey/datasets/chg/posts_text_lemmatized.csv')\n",
    "filepath.parent.mkdir(parents=True, exist_ok=True)\n",
    "posts.to_csv(filepath, index=False)"
   ]
  },
  {
   "cell_type": "markdown",
   "id": "fc64f410",
   "metadata": {},
   "source": [
    "Загрузка сохраненного файла после лемматизации"
   ]
  },
  {
   "cell_type": "code",
   "execution_count": 93,
   "id": "f784c73e",
   "metadata": {},
   "outputs": [],
   "source": [
    "df_posts = pd.read_csv('C:/Andrey/datasets/chg/posts_text_lemmatized.csv')"
   ]
  },
  {
   "cell_type": "code",
   "execution_count": 94,
   "id": "c75492fa",
   "metadata": {
    "scrolled": true
   },
   "outputs": [
    {
     "name": "stdout",
     "output_type": "stream",
     "text": [
      "<class 'pandas.core.frame.DataFrame'>\n",
      "RangeIndex: 87525 entries, 0 to 87524\n",
      "Data columns (total 2 columns):\n",
      " #   Column  Non-Null Count  Dtype \n",
      "---  ------  --------------  ----- \n",
      " 0   length  87525 non-null  int64 \n",
      " 1   text    87494 non-null  object\n",
      "dtypes: int64(1), object(1)\n",
      "memory usage: 1.3+ MB\n"
     ]
    }
   ],
   "source": [
    "df_posts.info()"
   ]
  },
  {
   "cell_type": "code",
   "execution_count": 95,
   "id": "d4725192",
   "metadata": {},
   "outputs": [],
   "source": [
    "df_posts = df_posts.fillna(' ')"
   ]
  },
  {
   "cell_type": "markdown",
   "id": "a68b8d52",
   "metadata": {},
   "source": [
    "#### Лемматизация комментов"
   ]
  },
  {
   "cell_type": "code",
   "execution_count": 34,
   "id": "6239dda7",
   "metadata": {},
   "outputs": [
    {
     "name": "stderr",
     "output_type": "stream",
     "text": [
      "100%|██████████| 87525/87525 [23:57<00:00, 60.90it/s] \n"
     ]
    }
   ],
   "source": [
    "# применяем лемматизацию к словам в предложениях из столбца датафрейма, исключая пробелы\n",
    "tqdm.pandas()\n",
    "df1['lemm1'] = df1['text1'].progress_apply(lambda text: \" \".join(token.lemma_ for token in nlp(text)\n",
    "                                                                if not token.is_space))"
   ]
  },
  {
   "cell_type": "code",
   "execution_count": 35,
   "id": "55d2c480",
   "metadata": {},
   "outputs": [
    {
     "name": "stderr",
     "output_type": "stream",
     "text": [
      "100%|██████████| 87525/87525 [18:55<00:00, 77.10it/s] \n"
     ]
    }
   ],
   "source": [
    "# применяем лемматизацию к словам в предложениях из столбца датафрейма, исключая пробелы\n",
    "tqdm.pandas()\n",
    "df1['lemm2'] = df1['text2'].progress_apply(lambda text: \" \".join(token.lemma_ for token in nlp(text)\n",
    "                                                                if not token.is_space))"
   ]
  },
  {
   "cell_type": "code",
   "execution_count": 36,
   "id": "fe2907f0",
   "metadata": {},
   "outputs": [
    {
     "name": "stderr",
     "output_type": "stream",
     "text": [
      "100%|██████████| 87525/87525 [19:15<00:00, 75.73it/s] \n"
     ]
    }
   ],
   "source": [
    "# применяем лемматизацию к словам в предложениях из столбца датафрейма, исключая пробелы\n",
    "tqdm.pandas()\n",
    "df1['lemm3'] = df1['text3'].progress_apply(lambda text: \" \".join(token.lemma_ for token in nlp(text)\n",
    "                                                                if not token.is_space))"
   ]
  },
  {
   "cell_type": "code",
   "execution_count": 37,
   "id": "3b232b17",
   "metadata": {},
   "outputs": [
    {
     "name": "stderr",
     "output_type": "stream",
     "text": [
      "100%|██████████| 87525/87525 [21:19<00:00, 68.41it/s]  \n"
     ]
    }
   ],
   "source": [
    "# применяем лемматизацию к словам в предложениях из столбца датафрейма, исключая пробелы\n",
    "tqdm.pandas()\n",
    "df1['lemm4'] = df1['text4'].progress_apply(lambda text: \" \".join(token.lemma_ for token in nlp(text)\n",
    "                                                                if not token.is_space))"
   ]
  },
  {
   "cell_type": "code",
   "execution_count": 38,
   "id": "2f6dfaf2",
   "metadata": {},
   "outputs": [
    {
     "name": "stderr",
     "output_type": "stream",
     "text": [
      "100%|██████████| 87525/87525 [17:30<00:00, 83.35it/s] \n"
     ]
    }
   ],
   "source": [
    "# применяем лемматизацию к словам в предложениях из столбца датафрейма, исключая пробелы\n",
    "tqdm.pandas()\n",
    "df1['lemm5'] = df1['text5'].progress_apply(lambda text: \" \".join(token.lemma_ for token in nlp(text)\n",
    "                                                                if not token.is_space))"
   ]
  },
  {
   "cell_type": "code",
   "execution_count": 40,
   "id": "9527f87f",
   "metadata": {},
   "outputs": [],
   "source": [
    "lmt = [['lemm1', 'lemm2', 'lemm3','lemm4','lemm5']]\n",
    "\n",
    "for col in lmt:\n",
    "    df1[col] = df1[col].replace(r\"[']\", \"\", regex=True)"
   ]
  },
  {
   "cell_type": "code",
   "execution_count": 41,
   "id": "76098d07",
   "metadata": {},
   "outputs": [],
   "source": [
    "# удаляем столбец с исходным текстом\n",
    "df2 = df1.drop(columns=['text1', 'text2','text3','text4','text5'], axis=1)"
   ]
  },
  {
   "cell_type": "code",
   "execution_count": 42,
   "id": "734f8edc",
   "metadata": {},
   "outputs": [],
   "source": [
    "# сохраняем полученный файл\n",
    "filepath = Path('C:/Andrey/datasets/chg/comm_text_lemmatized.csv')\n",
    "filepath.parent.mkdir(parents=True, exist_ok=True)\n",
    "df2.to_csv(filepath, index=False)"
   ]
  },
  {
   "cell_type": "code",
   "execution_count": 96,
   "id": "aead8c58",
   "metadata": {},
   "outputs": [],
   "source": [
    "df_comm = pd.read_csv('C:/Andrey/datasets/chg/comm_text_lemmatized.csv')"
   ]
  },
  {
   "cell_type": "code",
   "execution_count": 97,
   "id": "fe1871fd",
   "metadata": {
    "scrolled": true
   },
   "outputs": [
    {
     "name": "stdout",
     "output_type": "stream",
     "text": [
      "<class 'pandas.core.frame.DataFrame'>\n",
      "RangeIndex: 87525 entries, 0 to 87524\n",
      "Data columns (total 5 columns):\n",
      " #   Column  Non-Null Count  Dtype \n",
      "---  ------  --------------  ----- \n",
      " 0   lemm1   87522 non-null  object\n",
      " 1   lemm2   87521 non-null  object\n",
      " 2   lemm3   87519 non-null  object\n",
      " 3   lemm4   87505 non-null  object\n",
      " 4   lemm5   87496 non-null  object\n",
      "dtypes: object(5)\n",
      "memory usage: 3.3+ MB\n"
     ]
    }
   ],
   "source": [
    "df_comm.info()"
   ]
  },
  {
   "cell_type": "code",
   "execution_count": 98,
   "id": "db16202f",
   "metadata": {},
   "outputs": [],
   "source": [
    "df_comm = df_comm.fillna(' ')"
   ]
  },
  {
   "cell_type": "markdown",
   "id": "d033ee10",
   "metadata": {},
   "source": [
    "#### Очистка от коротких постов и комментариев\n",
    "\n",
    "После лемматизации и удаления стоп-слов появились короткие тексты. Объединим посты и комментарии в один датафрейм:"
   ]
  },
  {
   "cell_type": "code",
   "execution_count": 1474,
   "id": "f3298491",
   "metadata": {},
   "outputs": [],
   "source": [
    "clean = df_posts.join(df_comm)"
   ]
  },
  {
   "cell_type": "code",
   "execution_count": 1475,
   "id": "8ea70f97",
   "metadata": {},
   "outputs": [
    {
     "data": {
      "text/html": [
       "<div>\n",
       "<style scoped>\n",
       "    .dataframe tbody tr th:only-of-type {\n",
       "        vertical-align: middle;\n",
       "    }\n",
       "\n",
       "    .dataframe tbody tr th {\n",
       "        vertical-align: top;\n",
       "    }\n",
       "\n",
       "    .dataframe thead th {\n",
       "        text-align: right;\n",
       "    }\n",
       "</style>\n",
       "<table border=\"1\" class=\"dataframe\">\n",
       "  <thead>\n",
       "    <tr style=\"text-align: right;\">\n",
       "      <th></th>\n",
       "      <th>length</th>\n",
       "      <th>text</th>\n",
       "      <th>lemm1</th>\n",
       "      <th>lemm2</th>\n",
       "      <th>lemm3</th>\n",
       "      <th>lemm4</th>\n",
       "      <th>lemm5</th>\n",
       "    </tr>\n",
       "  </thead>\n",
       "  <tbody>\n",
       "    <tr>\n",
       "      <th>0</th>\n",
       "      <td>133</td>\n",
       "      <td>summer y combinator fundee decide continue sta...</td>\n",
       "      <td>go school identical giving founder school work...</td>\n",
       "      <td>invariably do not success set fall original pa...</td>\n",
       "      <td>school way connect go real world enter school ...</td>\n",
       "      <td>guess depend hungry believe product I be 24 sc...</td>\n",
       "      <td>know pollground decide school get y combinator...</td>\n",
       "    </tr>\n",
       "    <tr>\n",
       "      <th>1</th>\n",
       "      <td>32</td>\n",
       "      <td>cbs acquires fm $ 280 m</td>\n",
       "      <td>curious head long run cbs tear fit image try e...</td>\n",
       "      <td>mean there be big company fight repeal recent ...</td>\n",
       "      <td>bbc news http nice london base hit headline</td>\n",
       "      <td>do not understand worth $ 70 m year</td>\n",
       "      <td>sell cheaply give leadership position ask $ 500 m</td>\n",
       "    </tr>\n",
       "    <tr>\n",
       "      <th>2</th>\n",
       "      <td>35</td>\n",
       "      <td>costco anti wal mart</td>\n",
       "      <td>hate people falsely claim fiduciary responsibi...</td>\n",
       "      <td>love costco good quote article traditional ret...</td>\n",
       "      <td>mr sinegal warn costco increase markup 16 18 p...</td>\n",
       "      <td>costco treat employee little bit well people n...</td>\n",
       "      <td>I would like know do not advertise strategy up...</td>\n",
       "    </tr>\n",
       "    <tr>\n",
       "      <th>3</th>\n",
       "      <td>58</td>\n",
       "      <td>fortune favor big turd screw money art</td>\n",
       "      <td>real point simple powerful order sound edgy su...</td>\n",
       "      <td>I be think I ve hear bug tracker call  mongrel...</td>\n",
       "      <td>I ve see single blog post wander direction fog...</td>\n",
       "      <td>rant personal blog it be vent frustration vapi...</td>\n",
       "      <td>eternal word geico caveman ?</td>\n",
       "    </tr>\n",
       "    <tr>\n",
       "      <th>4</th>\n",
       "      <td>59</td>\n",
       "      <td>startupweekend 70 founder create company weekend</td>\n",
       "      <td>look like have not read mythical man month</td>\n",
       "      <td>chance recreate telecommute way ? love attend ...</td>\n",
       "      <td>know start 70 eliminate reality style totally ...</td>\n",
       "      <td>weekend ? I would love hear like happen nyc ny...</td>\n",
       "      <td>interesting join event like happen sv equity fun</td>\n",
       "    </tr>\n",
       "  </tbody>\n",
       "</table>\n",
       "</div>"
      ],
      "text/plain": [
       "   length                                               text  \\\n",
       "0     133  summer y combinator fundee decide continue sta...   \n",
       "1      32                            cbs acquires fm $ 280 m   \n",
       "2      35                               costco anti wal mart   \n",
       "3      58             fortune favor big turd screw money art   \n",
       "4      59   startupweekend 70 founder create company weekend   \n",
       "\n",
       "                                               lemm1  \\\n",
       "0  go school identical giving founder school work...   \n",
       "1  curious head long run cbs tear fit image try e...   \n",
       "2  hate people falsely claim fiduciary responsibi...   \n",
       "3  real point simple powerful order sound edgy su...   \n",
       "4         look like have not read mythical man month   \n",
       "\n",
       "                                               lemm2  \\\n",
       "0  invariably do not success set fall original pa...   \n",
       "1  mean there be big company fight repeal recent ...   \n",
       "2  love costco good quote article traditional ret...   \n",
       "3  I be think I ve hear bug tracker call  mongrel...   \n",
       "4  chance recreate telecommute way ? love attend ...   \n",
       "\n",
       "                                               lemm3  \\\n",
       "0  school way connect go real world enter school ...   \n",
       "1        bbc news http nice london base hit headline   \n",
       "2  mr sinegal warn costco increase markup 16 18 p...   \n",
       "3  I ve see single blog post wander direction fog...   \n",
       "4  know start 70 eliminate reality style totally ...   \n",
       "\n",
       "                                               lemm4  \\\n",
       "0  guess depend hungry believe product I be 24 sc...   \n",
       "1                do not understand worth $ 70 m year   \n",
       "2  costco treat employee little bit well people n...   \n",
       "3  rant personal blog it be vent frustration vapi...   \n",
       "4  weekend ? I would love hear like happen nyc ny...   \n",
       "\n",
       "                                               lemm5  \n",
       "0  know pollground decide school get y combinator...  \n",
       "1  sell cheaply give leadership position ask $ 500 m  \n",
       "2  I would like know do not advertise strategy up...  \n",
       "3                       eternal word geico caveman ?  \n",
       "4   interesting join event like happen sv equity fun  "
      ]
     },
     "execution_count": 1475,
     "metadata": {},
     "output_type": "execute_result"
    }
   ],
   "source": [
    "clean.head()"
   ]
  },
  {
   "cell_type": "code",
   "execution_count": 1476,
   "id": "d91aa811",
   "metadata": {},
   "outputs": [],
   "source": [
    "clean= clean.fillna(' ')"
   ]
  },
  {
   "cell_type": "markdown",
   "id": "1bd82748",
   "metadata": {},
   "source": [
    "Определим длину для каждого поста и комментария:"
   ]
  },
  {
   "cell_type": "code",
   "execution_count": 1477,
   "id": "61ffba6d",
   "metadata": {},
   "outputs": [],
   "source": [
    "clean['length'] = clean['text'].apply(lambda x: len(x))"
   ]
  },
  {
   "cell_type": "code",
   "execution_count": 1478,
   "id": "6eb53da9",
   "metadata": {},
   "outputs": [],
   "source": [
    "clean['len1'] = clean['lemm1'].apply(lambda x: len(x))\n",
    "clean['len2'] = clean['lemm2'].apply(lambda x: len(x))\n",
    "clean['len3'] = clean['lemm3'].apply(lambda x: len(x))\n",
    "clean['len4'] = clean['lemm4'].apply(lambda x: len(x))\n",
    "clean['len5'] = clean['lemm5'].apply(lambda x: len(x))"
   ]
  },
  {
   "cell_type": "markdown",
   "id": "b528d513",
   "metadata": {},
   "source": [
    "Посты меньше 5 знаков, комменты 1-5 меньше 10 знаков:"
   ]
  },
  {
   "cell_type": "code",
   "execution_count": 1479,
   "id": "5483a7f2",
   "metadata": {},
   "outputs": [
    {
     "data": {
      "text/plain": [
       "(290, 205, 332, 512, 838, 1375)"
      ]
     },
     "execution_count": 1479,
     "metadata": {},
     "output_type": "execute_result"
    }
   ],
   "source": [
    "len(clean.query('length <5')), len(clean.query('len1 <10')), len(clean.query('len2 <10')), len(clean.query('len3 <10')), len(clean.query('len4 <10')), len(clean.query('len5 <10'))"
   ]
  },
  {
   "cell_type": "code",
   "execution_count": 1480,
   "id": "be4808a5",
   "metadata": {
    "scrolled": true
   },
   "outputs": [
    {
     "data": {
      "text/plain": [
       "(49, 111)"
      ]
     },
     "execution_count": 1480,
     "metadata": {},
     "output_type": "execute_result"
    }
   ],
   "source": [
    "len(clean.query('len4 <4')), len(clean.query('len5 <4'))"
   ]
  },
  {
   "cell_type": "markdown",
   "id": "5a80fcf1",
   "metadata": {},
   "source": [
    "Визуализируем распределение постов и комментов по длине:"
   ]
  },
  {
   "cell_type": "code",
   "execution_count": 1481,
   "id": "8fb9bd82",
   "metadata": {
    "scrolled": false
   },
   "outputs": [
    {
     "data": {
      "text/plain": [
       "<AxesSubplot:xlabel='variable', ylabel='value'>"
      ]
     },
     "execution_count": 1481,
     "metadata": {},
     "output_type": "execute_result"
    },
    {
     "data": {
      "image/png": "[encoded data removed]",
      "text/plain": [
       "<Figure size 720x432 with 1 Axes>"
      ]
     },
     "metadata": {
      "needs_background": "light"
     },
     "output_type": "display_data"
    }
   ],
   "source": [
    "plt.figure(figsize=(10, 6))\n",
    "\n",
    "len_data = clean[['length', 'len1', 'len2', 'len3', 'len4','len5']]\n",
    "\n",
    "sns.boxplot(x=\"variable\", y=\"value\", data=pd.melt(len_data))"
   ]
  },
  {
   "cell_type": "code",
   "execution_count": 1482,
   "id": "c5e83fd0",
   "metadata": {
    "scrolled": false
   },
   "outputs": [
    {
     "data": {
      "text/plain": [
       "(0.0, 2000.0)"
      ]
     },
     "execution_count": 1482,
     "metadata": {},
     "output_type": "execute_result"
    },
    {
     "data": {
      "image/png": "[encoded data removed]",
      "text/plain": [
       "<Figure size 720x432 with 1 Axes>"
      ]
     },
     "metadata": {
      "needs_background": "light"
     },
     "output_type": "display_data"
    }
   ],
   "source": [
    "ax = plt.figure(figsize=(10,6))\n",
    "ax = sns.boxplot(x=\"variable\", y=\"value\", data=pd.melt(len_data))\n",
    "ax.set_ylim(0,2000)"
   ]
  },
  {
   "cell_type": "markdown",
   "id": "4336908b",
   "metadata": {},
   "source": [
    "Исключим посты меньше 5 знаков, комменты 1,2 и 3 меньше 10 знаков, комменты 4 и 5 меньше 4 знаков:"
   ]
  },
  {
   "cell_type": "code",
   "execution_count": 1483,
   "id": "150cb660",
   "metadata": {},
   "outputs": [],
   "source": [
    "clean = clean.query('length >=5')\n",
    "clean = clean.query('len1 >=10')\n",
    "clean = clean.query('len2 >=10')\n",
    "clean = clean.query('len3 >=10')\n",
    "clean = clean.query('len4 >=4')\n",
    "clean = clean.query('len5 >=4')"
   ]
  },
  {
   "cell_type": "markdown",
   "id": "28b7df11",
   "metadata": {},
   "source": [
    "Исключим комментарии длиной больше 2000 для первого коммента и больше 1000 для остальных"
   ]
  },
  {
   "cell_type": "code",
   "execution_count": 1484,
   "id": "90bfdd93",
   "metadata": {},
   "outputs": [],
   "source": [
    "clean = clean.query('len1 <=1200')\n",
    "clean = clean.query('len2 <=1000')\n",
    "clean = clean.query('len3 <=750')\n",
    "clean = clean.query('len4 <=750')\n",
    "clean = clean.query('len5 <=750')"
   ]
  },
  {
   "cell_type": "code",
   "execution_count": 1485,
   "id": "96057be4",
   "metadata": {},
   "outputs": [],
   "source": [
    "clean = clean.drop(columns = ['length', 'len1', 'len2', 'len3', 'len4', 'len5'], axis = 1)"
   ]
  },
  {
   "cell_type": "code",
   "execution_count": 1240,
   "id": "aee1b791",
   "metadata": {},
   "outputs": [],
   "source": [
    "# сохраняем полученный файл\n",
    "filepath = Path('C:/Andrey/datasets/chg/clean_text.csv')\n",
    "filepath.parent.mkdir(parents=True, exist_ok=True)\n",
    "clean.to_csv(filepath, index=False)"
   ]
  },
  {
   "cell_type": "code",
   "execution_count": 1241,
   "id": "261c89a0",
   "metadata": {},
   "outputs": [],
   "source": [
    "clean = pd.read_csv('C:/Andrey/datasets/chg/clean_text.csv')"
   ]
  },
  {
   "cell_type": "code",
   "execution_count": 1486,
   "id": "6d3d52b9",
   "metadata": {},
   "outputs": [
    {
     "name": "stdout",
     "output_type": "stream",
     "text": [
      "<class 'pandas.core.frame.DataFrame'>\n",
      "Int64Index: 72010 entries, 0 to 87524\n",
      "Data columns (total 6 columns):\n",
      " #   Column  Non-Null Count  Dtype \n",
      "---  ------  --------------  ----- \n",
      " 0   text    72010 non-null  object\n",
      " 1   lemm1   72010 non-null  object\n",
      " 2   lemm2   72010 non-null  object\n",
      " 3   lemm3   72010 non-null  object\n",
      " 4   lemm4   72010 non-null  object\n",
      " 5   lemm5   72010 non-null  object\n",
      "dtypes: object(6)\n",
      "memory usage: 3.8+ MB\n"
     ]
    }
   ],
   "source": [
    "clean.info()"
   ]
  },
  {
   "cell_type": "markdown",
   "id": "71e9c65f",
   "metadata": {},
   "source": [
    "### Деление на тестовую и обучающую"
   ]
  },
  {
   "cell_type": "code",
   "execution_count": 1487,
   "id": "b7a23d27",
   "metadata": {},
   "outputs": [],
   "source": [
    "# выделим выборки для обучения на векторизации\n",
    "train, test = (train_test_split(clean, train_size=0.8,\n",
    "                                                  random_state=38))"
   ]
  },
  {
   "cell_type": "code",
   "execution_count": 1488,
   "id": "04c68655",
   "metadata": {},
   "outputs": [
    {
     "data": {
      "text/plain": [
       "(57608, 6)"
      ]
     },
     "execution_count": 1488,
     "metadata": {},
     "output_type": "execute_result"
    }
   ],
   "source": [
    "train.shape"
   ]
  },
  {
   "cell_type": "code",
   "execution_count": 1489,
   "id": "2f54b420",
   "metadata": {
    "scrolled": true
   },
   "outputs": [
    {
     "data": {
      "text/plain": [
       "(14402, 6)"
      ]
     },
     "execution_count": 1489,
     "metadata": {},
     "output_type": "execute_result"
    }
   ],
   "source": [
    "test.shape"
   ]
  },
  {
   "cell_type": "code",
   "execution_count": 1246,
   "id": "4c9566f1",
   "metadata": {},
   "outputs": [
    {
     "data": {
      "text/html": [
       "<div>\n",
       "<style scoped>\n",
       "    .dataframe tbody tr th:only-of-type {\n",
       "        vertical-align: middle;\n",
       "    }\n",
       "\n",
       "    .dataframe tbody tr th {\n",
       "        vertical-align: top;\n",
       "    }\n",
       "\n",
       "    .dataframe thead th {\n",
       "        text-align: right;\n",
       "    }\n",
       "</style>\n",
       "<table border=\"1\" class=\"dataframe\">\n",
       "  <thead>\n",
       "    <tr style=\"text-align: right;\">\n",
       "      <th></th>\n",
       "      <th>text</th>\n",
       "      <th>lemm1</th>\n",
       "      <th>lemm2</th>\n",
       "      <th>lemm3</th>\n",
       "      <th>lemm4</th>\n",
       "      <th>lemm5</th>\n",
       "    </tr>\n",
       "  </thead>\n",
       "  <tbody>\n",
       "    <tr>\n",
       "      <th>72401</th>\n",
       "      <td>xwayland xorg</td>\n",
       "      <td>interesting blog post http explain question po...</td>\n",
       "      <td>know explain help use x dependent window manag...</td>\n",
       "      <td>user modern linux distribution expect near fut...</td>\n",
       "      <td>hope driver catch egl x2f wayland support espe...</td>\n",
       "      <td>isn x27 t exact text x27 s quote nvidia reply ...</td>\n",
       "    </tr>\n",
       "    <tr>\n",
       "      <th>61765</th>\n",
       "      <td>light table 0 5 0</td>\n",
       "      <td>love little spinning glider lower leave x27 t ...</td>\n",
       "      <td>great work x27 t wait plugin arrive ! great te...</td>\n",
       "      <td>package lighttable app anymore ? unzip x27 s f...</td>\n",
       "      <td>release lighttable x27 ve experiment promise !...</td>\n",
       "      <td>quot watch quot feature video actually quot wo...</td>\n",
       "    </tr>\n",
       "  </tbody>\n",
       "</table>\n",
       "</div>"
      ],
      "text/plain": [
       "                    text                                              lemm1  \\\n",
       "72401      xwayland xorg  interesting blog post http explain question po...   \n",
       "61765  light table 0 5 0  love little spinning glider lower leave x27 t ...   \n",
       "\n",
       "                                                   lemm2  \\\n",
       "72401  know explain help use x dependent window manag...   \n",
       "61765  great work x27 t wait plugin arrive ! great te...   \n",
       "\n",
       "                                                   lemm3  \\\n",
       "72401  user modern linux distribution expect near fut...   \n",
       "61765  package lighttable app anymore ? unzip x27 s f...   \n",
       "\n",
       "                                                   lemm4  \\\n",
       "72401  hope driver catch egl x2f wayland support espe...   \n",
       "61765  release lighttable x27 ve experiment promise !...   \n",
       "\n",
       "                                                   lemm5  \n",
       "72401  isn x27 t exact text x27 s quote nvidia reply ...  \n",
       "61765  quot watch quot feature video actually quot wo...  "
      ]
     },
     "execution_count": 1246,
     "metadata": {},
     "output_type": "execute_result"
    }
   ],
   "source": [
    "train.head(2)"
   ]
  },
  {
   "cell_type": "code",
   "execution_count": 1247,
   "id": "52b40d72",
   "metadata": {},
   "outputs": [
    {
     "data": {
      "text/html": [
       "<div>\n",
       "<style scoped>\n",
       "    .dataframe tbody tr th:only-of-type {\n",
       "        vertical-align: middle;\n",
       "    }\n",
       "\n",
       "    .dataframe tbody tr th {\n",
       "        vertical-align: top;\n",
       "    }\n",
       "\n",
       "    .dataframe thead th {\n",
       "        text-align: right;\n",
       "    }\n",
       "</style>\n",
       "<table border=\"1\" class=\"dataframe\">\n",
       "  <thead>\n",
       "    <tr style=\"text-align: right;\">\n",
       "      <th></th>\n",
       "      <th>text</th>\n",
       "      <th>lemm1</th>\n",
       "      <th>lemm2</th>\n",
       "      <th>lemm3</th>\n",
       "      <th>lemm4</th>\n",
       "      <th>lemm5</th>\n",
       "    </tr>\n",
       "  </thead>\n",
       "  <tbody>\n",
       "    <tr>\n",
       "      <th>50772</th>\n",
       "      <td>ask hn ?</td>\n",
       "      <td>quit ? use spare time building skill sure lear...</td>\n",
       "      <td>like compsci ? score low take 4 yr have not ma...</td>\n",
       "      <td>thing feel like crap depressed need eat well e...</td>\n",
       "      <td>score percentage do not matter code ? great ! ...</td>\n",
       "      <td>need realize life go kick ass leave bleed floo...</td>\n",
       "    </tr>\n",
       "    <tr>\n",
       "      <th>63359</th>\n",
       "      <td>work home today office loud</td>\n",
       "      <td>topic come hn discuss impact people x27 s heal...</td>\n",
       "      <td>open office line item cost cut measure destroy...</td>\n",
       "      <td>exactly ibm x27 s recommendation 1970s era ana...</td>\n",
       "      <td>open office plan suuuuuuuuuuuck soul crush pro...</td>\n",
       "      <td>maybe flat refuse work office natural light x2...</td>\n",
       "    </tr>\n",
       "  </tbody>\n",
       "</table>\n",
       "</div>"
      ],
      "text/plain": [
       "                              text  \\\n",
       "50772                     ask hn ?   \n",
       "63359  work home today office loud   \n",
       "\n",
       "                                                   lemm1  \\\n",
       "50772  quit ? use spare time building skill sure lear...   \n",
       "63359  topic come hn discuss impact people x27 s heal...   \n",
       "\n",
       "                                                   lemm2  \\\n",
       "50772  like compsci ? score low take 4 yr have not ma...   \n",
       "63359  open office line item cost cut measure destroy...   \n",
       "\n",
       "                                                   lemm3  \\\n",
       "50772  thing feel like crap depressed need eat well e...   \n",
       "63359  exactly ibm x27 s recommendation 1970s era ana...   \n",
       "\n",
       "                                                   lemm4  \\\n",
       "50772  score percentage do not matter code ? great ! ...   \n",
       "63359  open office plan suuuuuuuuuuuck soul crush pro...   \n",
       "\n",
       "                                                   lemm5  \n",
       "50772  need realize life go kick ass leave bleed floo...  \n",
       "63359  maybe flat refuse work office natural light x2...  "
      ]
     },
     "execution_count": 1247,
     "metadata": {},
     "output_type": "execute_result"
    }
   ],
   "source": [
    "test.head(2)"
   ]
  },
  {
   "cell_type": "code",
   "execution_count": null,
   "id": "df10854c",
   "metadata": {},
   "outputs": [],
   "source": []
  },
  {
   "cell_type": "markdown",
   "id": "f9844502",
   "metadata": {},
   "source": [
    "## Подготовка признаков"
   ]
  },
  {
   "cell_type": "markdown",
   "id": "afd0051c",
   "metadata": {},
   "source": [
    "### Признаки с векторизацией TF IDF "
   ]
  },
  {
   "cell_type": "markdown",
   "id": "c8287a0d",
   "metadata": {},
   "source": [
    "#### Подготовка для TF IDF: объединенный текст в новом столбце\n",
    "Для обучения TF IDF используем только обучающую выборку. Чтобы получить корпус текста для обучения, объединим столбцы с текстом комментами"
   ]
  },
  {
   "cell_type": "code",
   "execution_count": 1490,
   "id": "238f9f35",
   "metadata": {},
   "outputs": [],
   "source": [
    "train['all'] = (train['text'] + ' ' + train['lemm1'] + \" \" + train['lemm2'] + \" \" +\n",
    "                     train['lemm3'] + ' ' + train['lemm4'] + \" \" + train['lemm5'])"
   ]
  },
  {
   "cell_type": "code",
   "execution_count": 1491,
   "id": "9538a7f6",
   "metadata": {
    "scrolled": true
   },
   "outputs": [
    {
     "data": {
      "text/html": [
       "<div>\n",
       "<style scoped>\n",
       "    .dataframe tbody tr th:only-of-type {\n",
       "        vertical-align: middle;\n",
       "    }\n",
       "\n",
       "    .dataframe tbody tr th {\n",
       "        vertical-align: top;\n",
       "    }\n",
       "\n",
       "    .dataframe thead th {\n",
       "        text-align: right;\n",
       "    }\n",
       "</style>\n",
       "<table border=\"1\" class=\"dataframe\">\n",
       "  <thead>\n",
       "    <tr style=\"text-align: right;\">\n",
       "      <th></th>\n",
       "      <th>text</th>\n",
       "      <th>lemm1</th>\n",
       "      <th>lemm2</th>\n",
       "      <th>lemm3</th>\n",
       "      <th>lemm4</th>\n",
       "      <th>lemm5</th>\n",
       "      <th>all</th>\n",
       "    </tr>\n",
       "  </thead>\n",
       "  <tbody>\n",
       "    <tr>\n",
       "      <th>58322</th>\n",
       "      <td>launch bootstrappe startup think ?</td>\n",
       "      <td>nice manage church s website do not time const...</td>\n",
       "      <td>curiosity application setup ? whmcs manage dom...</td>\n",
       "      <td>congrat ! approach church process ? pay custom...</td>\n",
       "      <td>def big interesting market what be plan reach ...</td>\n",
       "      <td>look great good luck I ve bookmarke blog</td>\n",
       "      <td>launch bootstrappe startup think ? nice manage...</td>\n",
       "    </tr>\n",
       "    <tr>\n",
       "      <th>5406</th>\n",
       "      <td>ask hn proposal manage addictiveness site</td>\n",
       "      <td>it will pass month time click override procras...</td>\n",
       "      <td>it be fault clear guy miss point post I be ask...</td>\n",
       "      <td>noprocast setting wonderful thing I would chan...</td>\n",
       "      <td>like care people internet think pretty shamele...</td>\n",
       "      <td>problem story time sensitive example lot good ...</td>\n",
       "      <td>ask hn proposal manage addictiveness site it w...</td>\n",
       "    </tr>\n",
       "    <tr>\n",
       "      <th>34229</th>\n",
       "      <td>google+ update real policy</td>\n",
       "      <td>do not actually change policy enforcement you ...</td>\n",
       "      <td>leave g+ week ago delete g+ account profile I ...</td>\n",
       "      <td>listen learn iterate user good experience poss...</td>\n",
       "      <td>lot good comment page policy page list example...</td>\n",
       "      <td>know opinion popular support enforcement real ...</td>\n",
       "      <td>google+ update real policy do not actually cha...</td>\n",
       "    </tr>\n",
       "    <tr>\n",
       "      <th>57460</th>\n",
       "      <td>google smartphone real deal</td>\n",
       "      <td>62 window phone enter dangerous time competito...</td>\n",
       "      <td>killer feature google actually helpful basebal...</td>\n",
       "      <td>google lot promise I ve bite release it be act...</td>\n",
       "      <td>use google I ve get surprised predict go base ...</td>\n",
       "      <td>do not agree thurrott think spot google killer...</td>\n",
       "      <td>google smartphone real deal 62 window phone en...</td>\n",
       "    </tr>\n",
       "    <tr>\n",
       "      <th>12246</th>\n",
       "      <td>22 musical piece write 140 character code</td>\n",
       "      <td>musical piece fascinate algorithmic point view...</td>\n",
       "      <td>I ve spend day far play sclang 1 it be nice la...</td>\n",
       "      <td>remind module music demoscene http</td>\n",
       "      <td>fun language library ? do not understand infor...</td>\n",
       "      <td>argh ear ! loud ! I will stick analogue synth</td>\n",
       "      <td>22 musical piece write 140 character code musi...</td>\n",
       "    </tr>\n",
       "  </tbody>\n",
       "</table>\n",
       "</div>"
      ],
      "text/plain": [
       "                                            text  \\\n",
       "58322         launch bootstrappe startup think ?   \n",
       "5406   ask hn proposal manage addictiveness site   \n",
       "34229                 google+ update real policy   \n",
       "57460                google smartphone real deal   \n",
       "12246  22 musical piece write 140 character code   \n",
       "\n",
       "                                                   lemm1  \\\n",
       "58322  nice manage church s website do not time const...   \n",
       "5406   it will pass month time click override procras...   \n",
       "34229  do not actually change policy enforcement you ...   \n",
       "57460  62 window phone enter dangerous time competito...   \n",
       "12246  musical piece fascinate algorithmic point view...   \n",
       "\n",
       "                                                   lemm2  \\\n",
       "58322  curiosity application setup ? whmcs manage dom...   \n",
       "5406   it be fault clear guy miss point post I be ask...   \n",
       "34229  leave g+ week ago delete g+ account profile I ...   \n",
       "57460  killer feature google actually helpful basebal...   \n",
       "12246  I ve spend day far play sclang 1 it be nice la...   \n",
       "\n",
       "                                                   lemm3  \\\n",
       "58322  congrat ! approach church process ? pay custom...   \n",
       "5406   noprocast setting wonderful thing I would chan...   \n",
       "34229  listen learn iterate user good experience poss...   \n",
       "57460  google lot promise I ve bite release it be act...   \n",
       "12246                 remind module music demoscene http   \n",
       "\n",
       "                                                   lemm4  \\\n",
       "58322  def big interesting market what be plan reach ...   \n",
       "5406   like care people internet think pretty shamele...   \n",
       "34229  lot good comment page policy page list example...   \n",
       "57460  use google I ve get surprised predict go base ...   \n",
       "12246  fun language library ? do not understand infor...   \n",
       "\n",
       "                                                   lemm5  \\\n",
       "58322           look great good luck I ve bookmarke blog   \n",
       "5406   problem story time sensitive example lot good ...   \n",
       "34229  know opinion popular support enforcement real ...   \n",
       "57460  do not agree thurrott think spot google killer...   \n",
       "12246      argh ear ! loud ! I will stick analogue synth   \n",
       "\n",
       "                                                     all  \n",
       "58322  launch bootstrappe startup think ? nice manage...  \n",
       "5406   ask hn proposal manage addictiveness site it w...  \n",
       "34229  google+ update real policy do not actually cha...  \n",
       "57460  google smartphone real deal 62 window phone en...  \n",
       "12246  22 musical piece write 140 character code musi...  "
      ]
     },
     "execution_count": 1491,
     "metadata": {},
     "output_type": "execute_result"
    }
   ],
   "source": [
    "train.head()"
   ]
  },
  {
   "cell_type": "code",
   "execution_count": 1492,
   "id": "63ba7801",
   "metadata": {},
   "outputs": [],
   "source": [
    "# Получим словарь стоп-слов\n",
    "st_words = get_stop_words('english')"
   ]
  },
  {
   "cell_type": "code",
   "execution_count": 1493,
   "id": "0f066f7c",
   "metadata": {},
   "outputs": [],
   "source": [
    "# корпус для обучения\n",
    "corpus = train['all'].values"
   ]
  },
  {
   "cell_type": "code",
   "execution_count": 1494,
   "id": "7c78b00e",
   "metadata": {},
   "outputs": [],
   "source": [
    "# инициализируем TfidfVectorizer\n",
    "count_tf_idf = TfidfVectorizer(stop_words=st_words,  \n",
    "                               min_df= 0.0005, token_pattern=r\"\\S+\")"
   ]
  },
  {
   "cell_type": "code",
   "execution_count": 1495,
   "id": "f5841b75",
   "metadata": {
    "scrolled": true
   },
   "outputs": [
    {
     "data": {
      "text/plain": [
       "(57608, 12801)"
      ]
     },
     "execution_count": 1495,
     "metadata": {},
     "output_type": "execute_result"
    }
   ],
   "source": [
    "# применяем расчет TF IDF к обучающей выборке\n",
    "tf_idf = count_tf_idf.fit_transform(corpus)\n",
    "tf_idf.shape"
   ]
  },
  {
   "cell_type": "markdown",
   "id": "22e1f835",
   "metadata": {},
   "source": [
    "#### Получение \"выпрямленных таблиц\" для трейна и теста\n",
    "\n",
    "Для вычсиления TF IDF на индивидуальных комментариях с целью обучения модели нужно \"выпрямить\" таблицу, развернув все комментарии в один столбец\n",
    "\n",
    "#####  Разворачивание для обучающей выборки:"
   ]
  },
  {
   "cell_type": "markdown",
   "id": "db6b6b72",
   "metadata": {},
   "source": [
    "Составим функцию, которая разворачивает комментарии в один столбец"
   ]
  },
  {
   "cell_type": "code",
   "execution_count": 1496,
   "id": "eac8566e",
   "metadata": {},
   "outputs": [],
   "source": [
    "def get_df(df):\n",
    "    \"\"\"\n",
    "    Функция разворачивает столбцы с комментариями в один стобец\n",
    "    \"\"\"\n",
    "    \n",
    "    \n",
    "    data = {'comment': []}\n",
    "    cols = ['lemm1', 'lemm2', 'lemm3', 'lemm4', 'lemm5']\n",
    "\n",
    "    for i in range(len(df)):    \n",
    "        for col in cols:\n",
    "            data['comment'].append(df.iloc[i][col])\n",
    "    new_df = pd.DataFrame.from_dict(data)\n",
    "    return new_df"
   ]
  },
  {
   "cell_type": "code",
   "execution_count": 1497,
   "id": "7480e671",
   "metadata": {},
   "outputs": [],
   "source": [
    "train_comm = get_df(train)"
   ]
  },
  {
   "cell_type": "code",
   "execution_count": 1498,
   "id": "3e21955d",
   "metadata": {
    "scrolled": false
   },
   "outputs": [
    {
     "data": {
      "text/plain": [
       "(288040, 1)"
      ]
     },
     "execution_count": 1498,
     "metadata": {},
     "output_type": "execute_result"
    }
   ],
   "source": [
    "train_comm.shape"
   ]
  },
  {
   "cell_type": "markdown",
   "id": "cfb2a982",
   "metadata": {},
   "source": [
    "Добавим столбец с оценками:"
   ]
  },
  {
   "cell_type": "code",
   "execution_count": 1499,
   "id": "00b2870d",
   "metadata": {},
   "outputs": [],
   "source": [
    "# таргеты для обучающей выборки\n",
    "y_train = np.tile(np.arange(5), len(train))\n",
    "train_comm['score'] = y_train "
   ]
  },
  {
   "cell_type": "markdown",
   "id": "ada1b4ce",
   "metadata": {},
   "source": [
    "Добавим столбец с бинарными оценками (0 и 1 соответствуют 1, а 2,3 и 4 - 0)"
   ]
  },
  {
   "cell_type": "code",
   "execution_count": 1500,
   "id": "58d43ab6",
   "metadata": {},
   "outputs": [],
   "source": [
    "train_comm['binary_score'] = np.where(train_comm['score'].isin([0,1]), 1, 0)"
   ]
  },
  {
   "cell_type": "code",
   "execution_count": 1501,
   "id": "09dd1c34",
   "metadata": {
    "scrolled": true
   },
   "outputs": [
    {
     "data": {
      "text/html": [
       "<div>\n",
       "<style scoped>\n",
       "    .dataframe tbody tr th:only-of-type {\n",
       "        vertical-align: middle;\n",
       "    }\n",
       "\n",
       "    .dataframe tbody tr th {\n",
       "        vertical-align: top;\n",
       "    }\n",
       "\n",
       "    .dataframe thead th {\n",
       "        text-align: right;\n",
       "    }\n",
       "</style>\n",
       "<table border=\"1\" class=\"dataframe\">\n",
       "  <thead>\n",
       "    <tr style=\"text-align: right;\">\n",
       "      <th></th>\n",
       "      <th>comment</th>\n",
       "      <th>score</th>\n",
       "      <th>binary_score</th>\n",
       "    </tr>\n",
       "  </thead>\n",
       "  <tbody>\n",
       "    <tr>\n",
       "      <th>0</th>\n",
       "      <td>nice manage church s website do not time const...</td>\n",
       "      <td>0</td>\n",
       "      <td>1</td>\n",
       "    </tr>\n",
       "    <tr>\n",
       "      <th>1</th>\n",
       "      <td>curiosity application setup ? whmcs manage dom...</td>\n",
       "      <td>1</td>\n",
       "      <td>1</td>\n",
       "    </tr>\n",
       "    <tr>\n",
       "      <th>2</th>\n",
       "      <td>congrat ! approach church process ? pay custom...</td>\n",
       "      <td>2</td>\n",
       "      <td>0</td>\n",
       "    </tr>\n",
       "  </tbody>\n",
       "</table>\n",
       "</div>"
      ],
      "text/plain": [
       "                                             comment  score  binary_score\n",
       "0  nice manage church s website do not time const...      0             1\n",
       "1  curiosity application setup ? whmcs manage dom...      1             1\n",
       "2  congrat ! approach church process ? pay custom...      2             0"
      ]
     },
     "execution_count": 1501,
     "metadata": {},
     "output_type": "execute_result"
    }
   ],
   "source": [
    "train_comm.head(3)"
   ]
  },
  {
   "cell_type": "markdown",
   "id": "42ad1947",
   "metadata": {},
   "source": [
    "Выделим выборку, содержащую лучшие (0) и худшие (1) посты"
   ]
  },
  {
   "cell_type": "code",
   "execution_count": 1502,
   "id": "791244eb",
   "metadata": {},
   "outputs": [],
   "source": [
    "train_binary = train_comm[train_comm['score'].isin([0, 4])]"
   ]
  },
  {
   "cell_type": "code",
   "execution_count": 1503,
   "id": "c7a3000b",
   "metadata": {
    "scrolled": true
   },
   "outputs": [
    {
     "data": {
      "text/plain": [
       "(115216, 3)"
      ]
     },
     "execution_count": 1503,
     "metadata": {},
     "output_type": "execute_result"
    }
   ],
   "source": [
    "train_binary.shape"
   ]
  },
  {
   "cell_type": "markdown",
   "id": "ae1bd5d8",
   "metadata": {},
   "source": [
    "Получим вектор с целевыми бинарными значениями для обучающей выборки "
   ]
  },
  {
   "cell_type": "code",
   "execution_count": 1504,
   "id": "c11549a9",
   "metadata": {},
   "outputs": [],
   "source": [
    "y_binary = train_binary['binary_score']"
   ]
  },
  {
   "cell_type": "code",
   "execution_count": 1505,
   "id": "d19e29e5",
   "metadata": {},
   "outputs": [
    {
     "data": {
      "text/plain": [
       "(115216,)"
      ]
     },
     "execution_count": 1505,
     "metadata": {},
     "output_type": "execute_result"
    }
   ],
   "source": [
    "y_binary.shape"
   ]
  },
  {
   "cell_type": "markdown",
   "id": "9dc62036",
   "metadata": {},
   "source": [
    "##### Разворачивание для тестовой выборки:"
   ]
  },
  {
   "cell_type": "code",
   "execution_count": 1506,
   "id": "0f66501c",
   "metadata": {},
   "outputs": [],
   "source": [
    "test_comm = get_df(test)"
   ]
  },
  {
   "cell_type": "code",
   "execution_count": 1507,
   "id": "1300dd66",
   "metadata": {
    "scrolled": true
   },
   "outputs": [
    {
     "data": {
      "text/plain": [
       "(72010, 1)"
      ]
     },
     "execution_count": 1507,
     "metadata": {},
     "output_type": "execute_result"
    }
   ],
   "source": [
    "test_comm.shape"
   ]
  },
  {
   "cell_type": "code",
   "execution_count": 1508,
   "id": "1a69595f",
   "metadata": {},
   "outputs": [],
   "source": [
    "# таргеты для тестовой выборки\n",
    "y_test = np.tile(np.arange(5), len(test))\n",
    "test_comm['score'] = y_test"
   ]
  },
  {
   "cell_type": "code",
   "execution_count": 1509,
   "id": "b2d65793",
   "metadata": {},
   "outputs": [
    {
     "data": {
      "text/html": [
       "<div>\n",
       "<style scoped>\n",
       "    .dataframe tbody tr th:only-of-type {\n",
       "        vertical-align: middle;\n",
       "    }\n",
       "\n",
       "    .dataframe tbody tr th {\n",
       "        vertical-align: top;\n",
       "    }\n",
       "\n",
       "    .dataframe thead th {\n",
       "        text-align: right;\n",
       "    }\n",
       "</style>\n",
       "<table border=\"1\" class=\"dataframe\">\n",
       "  <thead>\n",
       "    <tr style=\"text-align: right;\">\n",
       "      <th></th>\n",
       "      <th>comment</th>\n",
       "      <th>score</th>\n",
       "    </tr>\n",
       "  </thead>\n",
       "  <tbody>\n",
       "    <tr>\n",
       "      <th>0</th>\n",
       "      <td>eth z rich http bertrand meyer eiffel ueli mau...</td>\n",
       "      <td>0</td>\n",
       "    </tr>\n",
       "    <tr>\n",
       "      <th>1</th>\n",
       "      <td>imperial college cambridge university excellen...</td>\n",
       "      <td>1</td>\n",
       "    </tr>\n",
       "    <tr>\n",
       "      <th>2</th>\n",
       "      <td>highly depend want study science pretty broad ...</td>\n",
       "      <td>2</td>\n",
       "    </tr>\n",
       "    <tr>\n",
       "      <th>3</th>\n",
       "      <td>probably look middle postgraduate master msc o...</td>\n",
       "      <td>3</td>\n",
       "    </tr>\n",
       "    <tr>\n",
       "      <th>4</th>\n",
       "      <td>base reputation it be undoubtedly cambridge im...</td>\n",
       "      <td>4</td>\n",
       "    </tr>\n",
       "  </tbody>\n",
       "</table>\n",
       "</div>"
      ],
      "text/plain": [
       "                                             comment  score\n",
       "0  eth z rich http bertrand meyer eiffel ueli mau...      0\n",
       "1  imperial college cambridge university excellen...      1\n",
       "2  highly depend want study science pretty broad ...      2\n",
       "3  probably look middle postgraduate master msc o...      3\n",
       "4  base reputation it be undoubtedly cambridge im...      4"
      ]
     },
     "execution_count": 1509,
     "metadata": {},
     "output_type": "execute_result"
    }
   ],
   "source": [
    "test_comm.head(5)"
   ]
  },
  {
   "cell_type": "markdown",
   "id": "66e27b87",
   "metadata": {},
   "source": [
    "#### Вычисление значений TF IDF"
   ]
  },
  {
   "cell_type": "code",
   "execution_count": 1510,
   "id": "57d903b7",
   "metadata": {},
   "outputs": [],
   "source": [
    "train_corpus = train_comm['comment'].values"
   ]
  },
  {
   "cell_type": "code",
   "execution_count": 1511,
   "id": "3751dbfe",
   "metadata": {},
   "outputs": [],
   "source": [
    "test_corpus = test_comm['comment'].values"
   ]
  },
  {
   "cell_type": "code",
   "execution_count": 1512,
   "id": "9d7e5a6f",
   "metadata": {},
   "outputs": [],
   "source": [
    "X_trcorpus = X_tr1['comment'].values"
   ]
  },
  {
   "cell_type": "code",
   "execution_count": 1513,
   "id": "fa082e05",
   "metadata": {},
   "outputs": [],
   "source": [
    "train_bin_corpus = train_binary['comment'].values"
   ]
  },
  {
   "cell_type": "code",
   "execution_count": 1514,
   "id": "093d262c",
   "metadata": {},
   "outputs": [
    {
     "data": {
      "text/plain": [
       "(288040, 12801)"
      ]
     },
     "execution_count": 1514,
     "metadata": {},
     "output_type": "execute_result"
    }
   ],
   "source": [
    "# применяем расчет TF IDF к комментариям для обучающей выборки\n",
    "tf_train = count_tf_idf.transform(train_corpus)\n",
    "tf_train.shape"
   ]
  },
  {
   "cell_type": "code",
   "execution_count": 1515,
   "id": "fd2e69e5",
   "metadata": {},
   "outputs": [
    {
     "data": {
      "text/plain": [
       "(72010, 12801)"
      ]
     },
     "execution_count": 1515,
     "metadata": {},
     "output_type": "execute_result"
    }
   ],
   "source": [
    "# применяем расчет TF IDF к комментариям для тестовой выборки\n",
    "tf_test = count_tf_idf.transform(test_corpus)\n",
    "tf_test.shape"
   ]
  },
  {
   "cell_type": "code",
   "execution_count": 1516,
   "id": "98f26f2c",
   "metadata": {},
   "outputs": [
    {
     "data": {
      "text/plain": [
       "(115216, 12801)"
      ]
     },
     "execution_count": 1516,
     "metadata": {},
     "output_type": "execute_result"
    }
   ],
   "source": [
    "# применяем расчет TF IDF к обучающей выборке с бинарными значениями\n",
    "tf_binary = count_tf_idf.transform(train_bin_corpus)\n",
    "tf_binary.shape"
   ]
  },
  {
   "cell_type": "code",
   "execution_count": null,
   "id": "a869f8ec",
   "metadata": {},
   "outputs": [],
   "source": []
  },
  {
   "cell_type": "code",
   "execution_count": null,
   "id": "2fc7ebee",
   "metadata": {},
   "outputs": [],
   "source": []
  },
  {
   "cell_type": "markdown",
   "id": "edd2f3a1",
   "metadata": {},
   "source": [
    "### Создание признаков по длинам и по векторам CountVectorizer "
   ]
  },
  {
   "cell_type": "markdown",
   "id": "9ff1fffb",
   "metadata": {},
   "source": [
    "Составим функцию, которая извлекает из датафрейма признаки на основе текстов и на основе векторизованных текстов.\n",
    "Признаки: относительные длины комментов и словарей комментов, количество спец символов, гиперссылок, косинальное сходство относительно поста и эвклидово расстояние с вектором поста"
   ]
  },
  {
   "cell_type": "code",
   "execution_count": 1275,
   "id": "1d03a7d8",
   "metadata": {},
   "outputs": [],
   "source": [
    "def get_features(df):\n",
    "    \"\"\"\n",
    "    Функция для получения признаков из характеристик текста и из векторизованных представлений\n",
    "    Принимает датафреймы, в которых имеются столбцы 'lemm1', 'lemm2', 'lemm3', 'lemm4', 'lemm5' для комментов\n",
    "    и столбец 'text' для постов\n",
    "    \"\"\"\n",
    "    data = ({'relative_length': [], 'len_to_vocabulary': [], 'word_count': [], 'word_ratio':[], 'ratio_post': [],\n",
    "          'word_ratio_post': [], 'numbers': [], 'hyperlinks': [], 'dot': [], 'question': [], 'exclamation': [], \n",
    "          'dollars': [], 'cosine': [], 'euclidean': []}\n",
    "          )\n",
    "    vectorizer = CountVectorizer(stop_words = st_words)\n",
    "    cols = ['lemm1', 'lemm2', 'lemm3', 'lemm4', 'lemm5']\n",
    "    \n",
    "    for i in range(len(df)):\n",
    "\n",
    "    # составим список из текста поста и комментов\n",
    "        txt = ([df.iloc[i]['text'], df.iloc[i]['lemm1'], df.iloc[i]['lemm2'],\n",
    "            df.iloc[i]['lemm3'], df.iloc[i]['lemm4'], df.iloc[i]['lemm5']])\n",
    "        X = vectorizer.fit_transform(txt) #векторизация полученного корпуса\n",
    "        vect = X.toarray()\n",
    "        sum_length = np.sum(vect[1]) + np.sum(vect[2]) + np.sum(vect[3]) + np.sum(vect[4]) + np.sum(vect[5])\n",
    "\n",
    "        num = range(1,6)\n",
    "        for k, col in zip(num, cols):\n",
    "            comment = df.iloc[i][col]\n",
    "            # длина коммента относительно суммарной длины комментов\n",
    "            data['relative_length'].append(np.sum(vect[k])/sum_length) \n",
    "            # длина коммента относительно количества уникальных слов в комментариях\n",
    "            data['len_to_vocabulary'].append(np.sum(vect[k])/vect[k].size)\n",
    "            # количество уникальных слов в комментарии\n",
    "            data['word_count'].append(np.count_nonzero(vect[k]))\n",
    "            # отношение количества уникальных слов к словарю записи\n",
    "            data['word_ratio'].append(np.count_nonzero(vect[k])/vect[k].size)\n",
    "            # отношение длины коммента к длине поста\n",
    "            data['ratio_post'].append(np.sum(vect[k])/(np.sum(vect[0])+1))\n",
    "            #  отношение количества уникальных слов в комменте к количеству уникальных слов в посте\n",
    "            data['word_ratio_post'].append(np.count_nonzero(vect[k])/(np.count_nonzero(vect[0])+1))\n",
    "            data['numbers'].append(len(re.findall('[0-9]+', comment))) \n",
    "            data['hyperlinks'].append(len(re.findall(\"(http?)\", comment)))\n",
    "            data['dot'].append(len(re.findall(\"(@)\", comment)))\n",
    "            data['question'].append(len(re.findall(\"(\\?)\", comment)))\n",
    "            data['exclamation'].append(len(re.findall(\"(!)\", comment)))                                              \n",
    "            data['dollars'].append(len(re.findall(\"(\\$)\", comment)))\n",
    "            data['cosine'].append(cosine_similarity(vect[0].reshape(-1,1).T, vect[k].reshape(-1,1).T)[0][0])\n",
    "            data['euclidean'].append(euclidean_distances(vect[0].reshape(-1,1).T, vect[k].reshape(-1,1).T)[0][0])   \n",
    "    return data"
   ]
  },
  {
   "cell_type": "markdown",
   "id": "2663cd67",
   "metadata": {},
   "source": [
    "Получим признаки из обучающей выборки"
   ]
  },
  {
   "cell_type": "code",
   "execution_count": 1517,
   "id": "09e7e0d8",
   "metadata": {},
   "outputs": [
    {
     "name": "stderr",
     "output_type": "stream",
     "text": [
      "C:\\Users\\antwo\\.conda\\envs\\ds_copy\\lib\\site-packages\\sklearn\\feature_extraction\\text.py:409: UserWarning: Your stop_words may be inconsistent with your preprocessing. Tokenizing the stop words generated tokens ['aren', 'can', 'couldn', 'didn', 'doesn', 'don', 'hadn', 'hasn', 'haven', 'isn', 'let', 'll', 'mustn', 're', 'shan', 'shouldn', 've', 'wasn', 'weren', 'won', 'wouldn'] not in stop_words.\n",
      "  warnings.warn(\n"
     ]
    }
   ],
   "source": [
    "train_features = get_features(train)"
   ]
  },
  {
   "cell_type": "code",
   "execution_count": 1518,
   "id": "5b9e2a65",
   "metadata": {},
   "outputs": [],
   "source": [
    "# датафрейм для признаков из обучающей выборки\n",
    "X_train_data = pd.DataFrame.from_dict(train_features)"
   ]
  },
  {
   "cell_type": "code",
   "execution_count": 1519,
   "id": "51e41e6a",
   "metadata": {
    "scrolled": true
   },
   "outputs": [
    {
     "data": {
      "text/plain": [
       "(288040, 14)"
      ]
     },
     "execution_count": 1519,
     "metadata": {},
     "output_type": "execute_result"
    }
   ],
   "source": [
    "X_train_data.shape"
   ]
  },
  {
   "cell_type": "code",
   "execution_count": 1520,
   "id": "aafcf728",
   "metadata": {
    "scrolled": true
   },
   "outputs": [
    {
     "data": {
      "text/html": [
       "<div>\n",
       "<style scoped>\n",
       "    .dataframe tbody tr th:only-of-type {\n",
       "        vertical-align: middle;\n",
       "    }\n",
       "\n",
       "    .dataframe tbody tr th {\n",
       "        vertical-align: top;\n",
       "    }\n",
       "\n",
       "    .dataframe thead th {\n",
       "        text-align: right;\n",
       "    }\n",
       "</style>\n",
       "<table border=\"1\" class=\"dataframe\">\n",
       "  <thead>\n",
       "    <tr style=\"text-align: right;\">\n",
       "      <th></th>\n",
       "      <th>relative_length</th>\n",
       "      <th>len_to_vocabulary</th>\n",
       "      <th>word_count</th>\n",
       "      <th>word_ratio</th>\n",
       "      <th>ratio_post</th>\n",
       "      <th>word_ratio_post</th>\n",
       "      <th>numbers</th>\n",
       "      <th>hyperlinks</th>\n",
       "      <th>dot</th>\n",
       "      <th>question</th>\n",
       "      <th>exclamation</th>\n",
       "      <th>dollars</th>\n",
       "      <th>cosine</th>\n",
       "      <th>euclidean</th>\n",
       "    </tr>\n",
       "  </thead>\n",
       "  <tbody>\n",
       "    <tr>\n",
       "      <th>0</th>\n",
       "      <td>0.827586</td>\n",
       "      <td>1.166667</td>\n",
       "      <td>118</td>\n",
       "      <td>0.819444</td>\n",
       "      <td>33.6</td>\n",
       "      <td>23.6</td>\n",
       "      <td>4</td>\n",
       "      <td>0</td>\n",
       "      <td>0</td>\n",
       "      <td>1</td>\n",
       "      <td>1</td>\n",
       "      <td>3</td>\n",
       "      <td>0.082076</td>\n",
       "      <td>18.220867</td>\n",
       "    </tr>\n",
       "    <tr>\n",
       "      <th>1</th>\n",
       "      <td>0.064039</td>\n",
       "      <td>0.090278</td>\n",
       "      <td>12</td>\n",
       "      <td>0.083333</td>\n",
       "      <td>2.6</td>\n",
       "      <td>2.4</td>\n",
       "      <td>0</td>\n",
       "      <td>0</td>\n",
       "      <td>0</td>\n",
       "      <td>2</td>\n",
       "      <td>0</td>\n",
       "      <td>0</td>\n",
       "      <td>0.000000</td>\n",
       "      <td>4.358899</td>\n",
       "    </tr>\n",
       "    <tr>\n",
       "      <th>2</th>\n",
       "      <td>0.029557</td>\n",
       "      <td>0.041667</td>\n",
       "      <td>6</td>\n",
       "      <td>0.041667</td>\n",
       "      <td>1.2</td>\n",
       "      <td>1.2</td>\n",
       "      <td>0</td>\n",
       "      <td>0</td>\n",
       "      <td>0</td>\n",
       "      <td>2</td>\n",
       "      <td>1</td>\n",
       "      <td>0</td>\n",
       "      <td>0.000000</td>\n",
       "      <td>3.162278</td>\n",
       "    </tr>\n",
       "  </tbody>\n",
       "</table>\n",
       "</div>"
      ],
      "text/plain": [
       "   relative_length  len_to_vocabulary  word_count  word_ratio  ratio_post  \\\n",
       "0         0.827586           1.166667         118    0.819444        33.6   \n",
       "1         0.064039           0.090278          12    0.083333         2.6   \n",
       "2         0.029557           0.041667           6    0.041667         1.2   \n",
       "\n",
       "   word_ratio_post  numbers  hyperlinks  dot  question  exclamation  dollars  \\\n",
       "0             23.6        4           0    0         1            1        3   \n",
       "1              2.4        0           0    0         2            0        0   \n",
       "2              1.2        0           0    0         2            1        0   \n",
       "\n",
       "     cosine  euclidean  \n",
       "0  0.082076  18.220867  \n",
       "1  0.000000   4.358899  \n",
       "2  0.000000   3.162278  "
      ]
     },
     "execution_count": 1520,
     "metadata": {},
     "output_type": "execute_result"
    }
   ],
   "source": [
    "X_train_data.head(3)"
   ]
  },
  {
   "cell_type": "code",
   "execution_count": 1521,
   "id": "2c9c66ed",
   "metadata": {},
   "outputs": [
    {
     "data": {
      "text/plain": [
       "(288040,)"
      ]
     },
     "execution_count": 1521,
     "metadata": {},
     "output_type": "execute_result"
    }
   ],
   "source": [
    "# таргеты для обучающей выборки\n",
    "y_train = np.tile(np.arange(5), len(train))\n",
    "y_train.shape"
   ]
  },
  {
   "cell_type": "code",
   "execution_count": 1522,
   "id": "14fdb79a",
   "metadata": {},
   "outputs": [],
   "source": [
    "# объединенный датафрейм с признаками и таргетом для обучающей выборки\n",
    "train_data = X_train_data.copy()\n",
    "train_data['score'] = y_train"
   ]
  },
  {
   "cell_type": "markdown",
   "id": "d565fb2f",
   "metadata": {},
   "source": [
    "Получим признаки для тестовой выборки"
   ]
  },
  {
   "cell_type": "code",
   "execution_count": 1523,
   "id": "fc7e4c13",
   "metadata": {
    "scrolled": false
   },
   "outputs": [
    {
     "name": "stderr",
     "output_type": "stream",
     "text": [
      "C:\\Users\\antwo\\.conda\\envs\\ds_copy\\lib\\site-packages\\sklearn\\feature_extraction\\text.py:409: UserWarning: Your stop_words may be inconsistent with your preprocessing. Tokenizing the stop words generated tokens ['aren', 'can', 'couldn', 'didn', 'doesn', 'don', 'hadn', 'hasn', 'haven', 'isn', 'let', 'll', 'mustn', 're', 'shan', 'shouldn', 've', 'wasn', 'weren', 'won', 'wouldn'] not in stop_words.\n",
      "  warnings.warn(\n"
     ]
    }
   ],
   "source": [
    "test_features = get_features(test)"
   ]
  },
  {
   "cell_type": "code",
   "execution_count": 1524,
   "id": "1d8a393a",
   "metadata": {},
   "outputs": [
    {
     "data": {
      "text/plain": [
       "(72010, 14)"
      ]
     },
     "execution_count": 1524,
     "metadata": {},
     "output_type": "execute_result"
    }
   ],
   "source": [
    "# датафрейм для признаков из тестовой выборки\n",
    "X_test_data = pd.DataFrame.from_dict(test_features)\n",
    "X_test_data.shape"
   ]
  },
  {
   "cell_type": "code",
   "execution_count": 1525,
   "id": "0d779fcc",
   "metadata": {
    "scrolled": true
   },
   "outputs": [
    {
     "data": {
      "text/plain": [
       "(72010,)"
      ]
     },
     "execution_count": 1525,
     "metadata": {},
     "output_type": "execute_result"
    }
   ],
   "source": [
    "# таргет для тестовой выборки\n",
    "y_test = np.tile(np.arange(5), len(test))\n",
    "y_test.shape"
   ]
  },
  {
   "cell_type": "code",
   "execution_count": 1526,
   "id": "c934d22f",
   "metadata": {},
   "outputs": [],
   "source": [
    "# датафрейм с признаками и таргетом для тестовой выборки\n",
    "test_data = X_test_data.copy()\n",
    "test_data['score'] = y_test"
   ]
  },
  {
   "cell_type": "code",
   "execution_count": 1527,
   "id": "060f9caf",
   "metadata": {
    "scrolled": true
   },
   "outputs": [
    {
     "data": {
      "text/html": [
       "<div>\n",
       "<style scoped>\n",
       "    .dataframe tbody tr th:only-of-type {\n",
       "        vertical-align: middle;\n",
       "    }\n",
       "\n",
       "    .dataframe tbody tr th {\n",
       "        vertical-align: top;\n",
       "    }\n",
       "\n",
       "    .dataframe thead th {\n",
       "        text-align: right;\n",
       "    }\n",
       "</style>\n",
       "<table border=\"1\" class=\"dataframe\">\n",
       "  <thead>\n",
       "    <tr style=\"text-align: right;\">\n",
       "      <th></th>\n",
       "      <th>relative_length</th>\n",
       "      <th>len_to_vocabulary</th>\n",
       "      <th>word_count</th>\n",
       "      <th>word_ratio</th>\n",
       "      <th>ratio_post</th>\n",
       "      <th>word_ratio_post</th>\n",
       "      <th>numbers</th>\n",
       "      <th>hyperlinks</th>\n",
       "      <th>dot</th>\n",
       "      <th>question</th>\n",
       "      <th>exclamation</th>\n",
       "      <th>dollars</th>\n",
       "      <th>cosine</th>\n",
       "      <th>euclidean</th>\n",
       "      <th>score</th>\n",
       "    </tr>\n",
       "  </thead>\n",
       "  <tbody>\n",
       "    <tr>\n",
       "      <th>50</th>\n",
       "      <td>0.195489</td>\n",
       "      <td>0.240741</td>\n",
       "      <td>22</td>\n",
       "      <td>0.203704</td>\n",
       "      <td>5.2</td>\n",
       "      <td>4.4</td>\n",
       "      <td>0</td>\n",
       "      <td>0</td>\n",
       "      <td>0</td>\n",
       "      <td>0</td>\n",
       "      <td>0</td>\n",
       "      <td>0</td>\n",
       "      <td>0.000000</td>\n",
       "      <td>6.164414</td>\n",
       "      <td>0</td>\n",
       "    </tr>\n",
       "    <tr>\n",
       "      <th>51</th>\n",
       "      <td>0.473684</td>\n",
       "      <td>0.583333</td>\n",
       "      <td>51</td>\n",
       "      <td>0.472222</td>\n",
       "      <td>12.6</td>\n",
       "      <td>10.2</td>\n",
       "      <td>3</td>\n",
       "      <td>0</td>\n",
       "      <td>0</td>\n",
       "      <td>0</td>\n",
       "      <td>0</td>\n",
       "      <td>3</td>\n",
       "      <td>0.157243</td>\n",
       "      <td>9.433981</td>\n",
       "      <td>1</td>\n",
       "    </tr>\n",
       "    <tr>\n",
       "      <th>52</th>\n",
       "      <td>0.090226</td>\n",
       "      <td>0.111111</td>\n",
       "      <td>11</td>\n",
       "      <td>0.101852</td>\n",
       "      <td>2.4</td>\n",
       "      <td>2.2</td>\n",
       "      <td>0</td>\n",
       "      <td>0</td>\n",
       "      <td>0</td>\n",
       "      <td>0</td>\n",
       "      <td>0</td>\n",
       "      <td>0</td>\n",
       "      <td>0.133631</td>\n",
       "      <td>4.000000</td>\n",
       "      <td>2</td>\n",
       "    </tr>\n",
       "    <tr>\n",
       "      <th>53</th>\n",
       "      <td>0.067669</td>\n",
       "      <td>0.083333</td>\n",
       "      <td>9</td>\n",
       "      <td>0.083333</td>\n",
       "      <td>1.8</td>\n",
       "      <td>1.8</td>\n",
       "      <td>0</td>\n",
       "      <td>0</td>\n",
       "      <td>0</td>\n",
       "      <td>0</td>\n",
       "      <td>0</td>\n",
       "      <td>0</td>\n",
       "      <td>0.000000</td>\n",
       "      <td>3.605551</td>\n",
       "      <td>3</td>\n",
       "    </tr>\n",
       "    <tr>\n",
       "      <th>54</th>\n",
       "      <td>0.172932</td>\n",
       "      <td>0.212963</td>\n",
       "      <td>22</td>\n",
       "      <td>0.203704</td>\n",
       "      <td>4.6</td>\n",
       "      <td>4.4</td>\n",
       "      <td>1</td>\n",
       "      <td>0</td>\n",
       "      <td>0</td>\n",
       "      <td>0</td>\n",
       "      <td>0</td>\n",
       "      <td>0</td>\n",
       "      <td>0.100000</td>\n",
       "      <td>5.196152</td>\n",
       "      <td>4</td>\n",
       "    </tr>\n",
       "  </tbody>\n",
       "</table>\n",
       "</div>"
      ],
      "text/plain": [
       "    relative_length  len_to_vocabulary  word_count  word_ratio  ratio_post  \\\n",
       "50         0.195489           0.240741          22    0.203704         5.2   \n",
       "51         0.473684           0.583333          51    0.472222        12.6   \n",
       "52         0.090226           0.111111          11    0.101852         2.4   \n",
       "53         0.067669           0.083333           9    0.083333         1.8   \n",
       "54         0.172932           0.212963          22    0.203704         4.6   \n",
       "\n",
       "    word_ratio_post  numbers  hyperlinks  dot  question  exclamation  dollars  \\\n",
       "50              4.4        0           0    0         0            0        0   \n",
       "51             10.2        3           0    0         0            0        3   \n",
       "52              2.2        0           0    0         0            0        0   \n",
       "53              1.8        0           0    0         0            0        0   \n",
       "54              4.4        1           0    0         0            0        0   \n",
       "\n",
       "      cosine  euclidean  score  \n",
       "50  0.000000   6.164414      0  \n",
       "51  0.157243   9.433981      1  \n",
       "52  0.133631   4.000000      2  \n",
       "53  0.000000   3.605551      3  \n",
       "54  0.100000   5.196152      4  "
      ]
     },
     "execution_count": 1527,
     "metadata": {},
     "output_type": "execute_result"
    }
   ],
   "source": [
    "test_data[50:55]"
   ]
  },
  {
   "cell_type": "code",
   "execution_count": 1528,
   "id": "549b67c0",
   "metadata": {},
   "outputs": [],
   "source": [
    "# сохраняем полученный файл\n",
    "filepath = Path('C:/Andrey/datasets/chg/train_data.csv')\n",
    "filepath.parent.mkdir(parents=True, exist_ok=True)\n",
    "train_data.to_csv(filepath, index=False)"
   ]
  },
  {
   "cell_type": "code",
   "execution_count": 152,
   "id": "96614085",
   "metadata": {},
   "outputs": [],
   "source": [
    "# сохраняем полученный файл\n",
    "filepath = Path('C:/Andrey/datasets/chg/test_data.csv')\n",
    "filepath.parent.mkdir(parents=True, exist_ok=True)\n",
    "test_data.to_csv(filepath, index=False)"
   ]
  },
  {
   "cell_type": "code",
   "execution_count": 153,
   "id": "46d8bc9f",
   "metadata": {},
   "outputs": [],
   "source": [
    "# сохраняем полученный файл\n",
    "filepath = Path('C:/Andrey/datasets/chg/X_train_data.csv')\n",
    "filepath.parent.mkdir(parents=True, exist_ok=True)\n",
    "X_train_data.to_csv(filepath, index=False)"
   ]
  },
  {
   "cell_type": "code",
   "execution_count": 154,
   "id": "1e06b37f",
   "metadata": {},
   "outputs": [],
   "source": [
    "# сохраняем полученный файл\n",
    "filepath = Path('C:/Andrey/datasets/chg/X_test_data.csv')\n",
    "filepath.parent.mkdir(parents=True, exist_ok=True)\n",
    "X_test_data.to_csv(filepath, index=False)"
   ]
  },
  {
   "cell_type": "markdown",
   "id": "12cdb7a5",
   "metadata": {},
   "source": [
    "Метки для записей в выборке:"
   ]
  },
  {
   "cell_type": "code",
   "execution_count": 1529,
   "id": "b70a9745",
   "metadata": {},
   "outputs": [],
   "source": [
    "train_ids = np.repeat(np.arange(int(len(X_train_data)/5)), 5)"
   ]
  },
  {
   "cell_type": "code",
   "execution_count": 1530,
   "id": "a6a8ad26",
   "metadata": {},
   "outputs": [
    {
     "data": {
      "text/plain": [
       "(288040,)"
      ]
     },
     "execution_count": 1530,
     "metadata": {},
     "output_type": "execute_result"
    }
   ],
   "source": [
    "train_ids.shape"
   ]
  },
  {
   "cell_type": "code",
   "execution_count": 1531,
   "id": "7399706e",
   "metadata": {
    "scrolled": true
   },
   "outputs": [],
   "source": [
    "val_ids = np.repeat(np.arange(int(len(X_test_data)/5)), 5)"
   ]
  },
  {
   "cell_type": "code",
   "execution_count": 1532,
   "id": "6220bb14",
   "metadata": {
    "scrolled": false
   },
   "outputs": [
    {
     "data": {
      "text/plain": [
       "(72010,)"
      ]
     },
     "execution_count": 1532,
     "metadata": {},
     "output_type": "execute_result"
    }
   ],
   "source": [
    "val_ids.shape"
   ]
  },
  {
   "cell_type": "code",
   "execution_count": null,
   "id": "9f1246e4",
   "metadata": {},
   "outputs": [],
   "source": []
  },
  {
   "cell_type": "code",
   "execution_count": null,
   "id": "faeb2099",
   "metadata": {},
   "outputs": [],
   "source": []
  },
  {
   "cell_type": "markdown",
   "id": "cf24fd12",
   "metadata": {},
   "source": [
    "### Векторизация CountVectorizer с n gram "
   ]
  },
  {
   "cell_type": "markdown",
   "id": "7e29e387",
   "metadata": {},
   "source": [
    "Составим функцию для получения векторов для каждой группы (пост + 5 комментариев), учитывая отдельные слова и комбинации слов по 2, то есть с использованием ngram_range=(1,2):"
   ]
  },
  {
   "cell_type": "code",
   "execution_count": 1290,
   "id": "faca98d6",
   "metadata": {},
   "outputs": [],
   "source": [
    "def get_vectors(df):\n",
    "    vectorizer2 = CountVectorizer(analyzer='word', ngram_range=(1, 2))\n",
    "    data = {'comm_vector': []}\n",
    "    cols = ['lemm1', 'lemm2', 'lemm3', 'lemm4', 'lemm5']\n",
    "\n",
    "    for i in range(len(df)):    \n",
    "        txt = ([df.iloc[i]['text'], df.iloc[i]['lemm1'], df.iloc[i]['lemm2'],\n",
    "            df.iloc[i]['lemm3'], df.iloc[i]['lemm4'], df.iloc[i]['lemm5']])\n",
    "        X2 = vectorizer2.fit_transform(txt)\n",
    "        vectors = X2.toarray()\n",
    "        \n",
    "        for k in range(1,6):\n",
    "            data['comm_vector'].append(vectors[k])\n",
    "    return data"
   ]
  },
  {
   "cell_type": "markdown",
   "id": "0008b1ac",
   "metadata": {},
   "source": [
    "Получим векторы для комментариев в  обучающей и тестовой выборках:"
   ]
  },
  {
   "cell_type": "code",
   "execution_count": 1291,
   "id": "9825641a",
   "metadata": {},
   "outputs": [],
   "source": [
    "vtrain = get_vectors(train)"
   ]
  },
  {
   "cell_type": "code",
   "execution_count": 1292,
   "id": "040cb9a0",
   "metadata": {},
   "outputs": [],
   "source": [
    "vtest = get_vectors(test)"
   ]
  },
  {
   "cell_type": "markdown",
   "id": "bac93f07",
   "metadata": {},
   "source": [
    "Получим векторы для комментариев в обучающей выборке:"
   ]
  },
  {
   "cell_type": "code",
   "execution_count": 1293,
   "id": "e75df943",
   "metadata": {
    "scrolled": true
   },
   "outputs": [
    {
     "data": {
      "text/plain": [
       "79965"
      ]
     },
     "execution_count": 1293,
     "metadata": {},
     "output_type": "execute_result"
    }
   ],
   "source": [
    "len(vtest['comm_vector'])"
   ]
  },
  {
   "cell_type": "code",
   "execution_count": 1294,
   "id": "b19ac2f0",
   "metadata": {
    "scrolled": true
   },
   "outputs": [
    {
     "data": {
      "text/plain": [
       "319840"
      ]
     },
     "execution_count": 1294,
     "metadata": {},
     "output_type": "execute_result"
    }
   ],
   "source": [
    "len(vtrain['comm_vector'])"
   ]
  },
  {
   "cell_type": "markdown",
   "id": "a4eafa59",
   "metadata": {},
   "source": [
    ".... \\\n",
    "...\\\n",
    "???\\\n",
    "PROFIT!\n",
    "\n",
    "(не придумали, что дальше)"
   ]
  },
  {
   "cell_type": "markdown",
   "id": "2e2e679e",
   "metadata": {},
   "source": [
    "## Обучение моделей\n",
    "### Обучение по признакам из характеристик слов и векторов"
   ]
  },
  {
   "cell_type": "markdown",
   "id": "796a0367",
   "metadata": {},
   "source": [
    "#### Регрессия: LGBMRegressor, признаки из характеристик слов и векторов\n",
    "Выполним обучение регрессии, используя значения ранга от 0 до 4 в качестве целевого признака. Затем будем предсказывать значения, сортировать и назначать ранги по возрастанию\n"
   ]
  },
  {
   "cell_type": "code",
   "execution_count": 1533,
   "id": "cee78920",
   "metadata": {},
   "outputs": [],
   "source": [
    "# создадим модель LGBMRegressor\n",
    "lgbm = LGBMRegressor(random_state=38)\n",
    "\n",
    "# создадим список гиперпараметров\n",
    "lgbm_parameters = {\n",
    "    'num_leaves': [15, 20],\n",
    "    'n_estimators': [100, 160],\n",
    "    'learning_rate': [0.05, 0.1],\n",
    "    'max_depth': [9, 10]\n",
    "}\n",
    "\n",
    "# передадим модель и гиперпараметры для обучения с кросс-валидацией и для подбора гиперпаматеров\n",
    "lgbm_cv = GridSearchCV(lgbm,\n",
    "                    param_grid=lgbm_parameters,\n",
    "                    scoring='neg_mean_absolute_error',\n",
    "                    cv=5)"
   ]
  },
  {
   "cell_type": "markdown",
   "id": "0e93956a",
   "metadata": {},
   "source": [
    "Векторы с целевым признаком составлены в соответствии с размером выборок и учитывают упорядоченность меток для каждого поста от 0 к 4:"
   ]
  },
  {
   "cell_type": "code",
   "execution_count": 1534,
   "id": "5ca089d2",
   "metadata": {},
   "outputs": [],
   "source": [
    "y_train = np.array((0,1,2,3,4)*int(len(X_train_data)/5))\n",
    "y_test = np.array((0,1,2,3,4)*int(len(X_test_data)/5))"
   ]
  },
  {
   "cell_type": "code",
   "execution_count": 1535,
   "id": "3cb26a0b",
   "metadata": {},
   "outputs": [
    {
     "data": {
      "text/plain": [
       "((288040,), (72010,))"
      ]
     },
     "execution_count": 1535,
     "metadata": {},
     "output_type": "execute_result"
    }
   ],
   "source": [
    "y_train.shape, y_test.shape "
   ]
  },
  {
   "cell_type": "markdown",
   "id": "181cdae8",
   "metadata": {},
   "source": [
    "Выполним обучение модели"
   ]
  },
  {
   "cell_type": "code",
   "execution_count": 1536,
   "id": "ff353464",
   "metadata": {
    "scrolled": true
   },
   "outputs": [
    {
     "name": "stdout",
     "output_type": "stream",
     "text": [
      "CPU times: total: 5min 33s\n",
      "Wall time: 2min 51s\n"
     ]
    },
    {
     "data": {
      "text/html": [
       "<style>#sk-container-id-51 {color: black;background-color: white;}#sk-container-id-51 pre{padding: 0;}#sk-container-id-51 div.sk-toggleable {background-color: white;}#sk-container-id-51 label.sk-toggleable__label {cursor: pointer;display: block;width: 100%;margin-bottom: 0;padding: 0.3em;box-sizing: border-box;text-align: center;}#sk-container-id-51 label.sk-toggleable__label-arrow:before {content: \"▸\";float: left;margin-right: 0.25em;color: #696969;}#sk-container-id-51 label.sk-toggleable__label-arrow:hover:before {color: black;}#sk-container-id-51 div.sk-estimator:hover label.sk-toggleable__label-arrow:before {color: black;}#sk-container-id-51 div.sk-toggleable__content {max-height: 0;max-width: 0;overflow: hidden;text-align: left;background-color: #f0f8ff;}#sk-container-id-51 div.sk-toggleable__content pre {margin: 0.2em;color: black;border-radius: 0.25em;background-color: #f0f8ff;}#sk-container-id-51 input.sk-toggleable__control:checked~div.sk-toggleable__content {max-height: 200px;max-width: 100%;overflow: auto;}#sk-container-id-51 input.sk-toggleable__control:checked~label.sk-toggleable__label-arrow:before {content: \"▾\";}#sk-container-id-51 div.sk-estimator input.sk-toggleable__control:checked~label.sk-toggleable__label {background-color: #d4ebff;}#sk-container-id-51 div.sk-label input.sk-toggleable__control:checked~label.sk-toggleable__label {background-color: #d4ebff;}#sk-container-id-51 input.sk-hidden--visually {border: 0;clip: rect(1px 1px 1px 1px);clip: rect(1px, 1px, 1px, 1px);height: 1px;margin: -1px;overflow: hidden;padding: 0;position: absolute;width: 1px;}#sk-container-id-51 div.sk-estimator {font-family: monospace;background-color: #f0f8ff;border: 1px dotted black;border-radius: 0.25em;box-sizing: border-box;margin-bottom: 0.5em;}#sk-container-id-51 div.sk-estimator:hover {background-color: #d4ebff;}#sk-container-id-51 div.sk-parallel-item::after {content: \"\";width: 100%;border-bottom: 1px solid gray;flex-grow: 1;}#sk-container-id-51 div.sk-label:hover label.sk-toggleable__label {background-color: #d4ebff;}#sk-container-id-51 div.sk-serial::before {content: \"\";position: absolute;border-left: 1px solid gray;box-sizing: border-box;top: 0;bottom: 0;left: 50%;z-index: 0;}#sk-container-id-51 div.sk-serial {display: flex;flex-direction: column;align-items: center;background-color: white;padding-right: 0.2em;padding-left: 0.2em;position: relative;}#sk-container-id-51 div.sk-item {position: relative;z-index: 1;}#sk-container-id-51 div.sk-parallel {display: flex;align-items: stretch;justify-content: center;background-color: white;position: relative;}#sk-container-id-51 div.sk-item::before, #sk-container-id-51 div.sk-parallel-item::before {content: \"\";position: absolute;border-left: 1px solid gray;box-sizing: border-box;top: 0;bottom: 0;left: 50%;z-index: -1;}#sk-container-id-51 div.sk-parallel-item {display: flex;flex-direction: column;z-index: 1;position: relative;background-color: white;}#sk-container-id-51 div.sk-parallel-item:first-child::after {align-self: flex-end;width: 50%;}#sk-container-id-51 div.sk-parallel-item:last-child::after {align-self: flex-start;width: 50%;}#sk-container-id-51 div.sk-parallel-item:only-child::after {width: 0;}#sk-container-id-51 div.sk-dashed-wrapped {border: 1px dashed gray;margin: 0 0.4em 0.5em 0.4em;box-sizing: border-box;padding-bottom: 0.4em;background-color: white;}#sk-container-id-51 div.sk-label label {font-family: monospace;font-weight: bold;display: inline-block;line-height: 1.2em;}#sk-container-id-51 div.sk-label-container {text-align: center;}#sk-container-id-51 div.sk-container {/* jupyter's `normalize.less` sets `[hidden] { display: none; }` but bootstrap.min.css set `[hidden] { display: none !important; }` so we also need the `!important` here to be able to override the default hidden behavior on the sphinx rendered scikit-learn.org. See: https://github.com/scikit-learn/scikit-learn/issues/21755 */display: inline-block !important;position: relative;}#sk-container-id-51 div.sk-text-repr-fallback {display: none;}</style><div id=\"sk-container-id-51\" class=\"sk-top-container\"><div class=\"sk-text-repr-fallback\"><pre>GridSearchCV(cv=5, estimator=LGBMRegressor(random_state=38),\n",
       "             param_grid={&#x27;learning_rate&#x27;: [0.05, 0.1], &#x27;max_depth&#x27;: [9, 10],\n",
       "                         &#x27;n_estimators&#x27;: [100, 160], &#x27;num_leaves&#x27;: [15, 20]},\n",
       "             scoring=&#x27;neg_mean_absolute_error&#x27;)</pre><b>In a Jupyter environment, please rerun this cell to show the HTML representation or trust the notebook. <br />On GitHub, the HTML representation is unable to render, please try loading this page with nbviewer.org.</b></div><div class=\"sk-container\" hidden><div class=\"sk-item sk-dashed-wrapped\"><div class=\"sk-label-container\"><div class=\"sk-label sk-toggleable\"><input class=\"sk-toggleable__control sk-hidden--visually\" id=\"sk-estimator-id-92\" type=\"checkbox\" ><label for=\"sk-estimator-id-92\" class=\"sk-toggleable__label sk-toggleable__label-arrow\">GridSearchCV</label><div class=\"sk-toggleable__content\"><pre>GridSearchCV(cv=5, estimator=LGBMRegressor(random_state=38),\n",
       "             param_grid={&#x27;learning_rate&#x27;: [0.05, 0.1], &#x27;max_depth&#x27;: [9, 10],\n",
       "                         &#x27;n_estimators&#x27;: [100, 160], &#x27;num_leaves&#x27;: [15, 20]},\n",
       "             scoring=&#x27;neg_mean_absolute_error&#x27;)</pre></div></div></div><div class=\"sk-parallel\"><div class=\"sk-parallel-item\"><div class=\"sk-item\"><div class=\"sk-label-container\"><div class=\"sk-label sk-toggleable\"><input class=\"sk-toggleable__control sk-hidden--visually\" id=\"sk-estimator-id-93\" type=\"checkbox\" ><label for=\"sk-estimator-id-93\" class=\"sk-toggleable__label sk-toggleable__label-arrow\">estimator: LGBMRegressor</label><div class=\"sk-toggleable__content\"><pre>LGBMRegressor(random_state=38)</pre></div></div></div><div class=\"sk-serial\"><div class=\"sk-item\"><div class=\"sk-estimator sk-toggleable\"><input class=\"sk-toggleable__control sk-hidden--visually\" id=\"sk-estimator-id-94\" type=\"checkbox\" ><label for=\"sk-estimator-id-94\" class=\"sk-toggleable__label sk-toggleable__label-arrow\">LGBMRegressor</label><div class=\"sk-toggleable__content\"><pre>LGBMRegressor(random_state=38)</pre></div></div></div></div></div></div></div></div></div></div>"
      ],
      "text/plain": [
       "GridSearchCV(cv=5, estimator=LGBMRegressor(random_state=38),\n",
       "             param_grid={'learning_rate': [0.05, 0.1], 'max_depth': [9, 10],\n",
       "                         'n_estimators': [100, 160], 'num_leaves': [15, 20]},\n",
       "             scoring='neg_mean_absolute_error')"
      ]
     },
     "execution_count": 1536,
     "metadata": {},
     "output_type": "execute_result"
    }
   ],
   "source": [
    "%%time\n",
    "# выполним обучение модели с подбором гиперпараметров\n",
    "lgbm_cv.fit(X_train_data, y_train)"
   ]
  },
  {
   "cell_type": "markdown",
   "id": "d97b9891",
   "metadata": {},
   "source": [
    "Выведем значение метрики MAE при обучении:"
   ]
  },
  {
   "cell_type": "code",
   "execution_count": 1537,
   "id": "3f3740ce",
   "metadata": {
    "scrolled": false
   },
   "outputs": [
    {
     "data": {
      "text/plain": [
       "-1.0541684720540097"
      ]
     },
     "execution_count": 1537,
     "metadata": {},
     "output_type": "execute_result"
    }
   ],
   "source": [
    "lgbm_cv.best_score_"
   ]
  },
  {
   "cell_type": "code",
   "execution_count": 1572,
   "id": "6617ff4a",
   "metadata": {},
   "outputs": [],
   "source": [
    "# сохраним модель LGBMRegressor\n",
    "lgbm_best = lgbm_cv.best_estimator_"
   ]
  },
  {
   "cell_type": "code",
   "execution_count": 1589,
   "id": "1aa29359",
   "metadata": {},
   "outputs": [],
   "source": [
    "lgbm_best_param = lgbm_cv.best_params_"
   ]
  },
  {
   "cell_type": "code",
   "execution_count": 1590,
   "id": "f3e8edb2",
   "metadata": {},
   "outputs": [
    {
     "data": {
      "text/plain": [
       "{'learning_rate': 0.1, 'max_depth': 9, 'n_estimators': 160, 'num_leaves': 20}"
      ]
     },
     "execution_count": 1590,
     "metadata": {},
     "output_type": "execute_result"
    }
   ],
   "source": [
    "lgbm_best_param"
   ]
  },
  {
   "cell_type": "markdown",
   "id": "4fc01d1b",
   "metadata": {},
   "source": [
    "Вычислим вектор предсказаний для тестовой выборки. Поскольку значения установлены от меньшего к большему, будем ранжировать их c помощью функции:"
   ]
  },
  {
   "cell_type": "code",
   "execution_count": 1538,
   "id": "b9986b34",
   "metadata": {},
   "outputs": [],
   "source": [
    "def regress_pred(model, sample):\n",
    "    \"\"\"\n",
    "    Функция вычисляет значения предсказаний регрессии и переводит их в ранги\n",
    "    Аргументы: \n",
    "    model: модель для вычисления предсказаний\n",
    "    sample: выборка, на которой вычисляются предсказания\n",
    "    \n",
    "    \"\"\"\n",
    "    values = model.predict(sample)\n",
    "    num = int(values.shape[0]/5)\n",
    "    reshaped_vals = np.reshape(values, (num, 5))\n",
    "    result = np.zeros((num, 5), dtype = int)\n",
    "    for i in range(num):\n",
    "        result[i] = np.argsort(reshaped_vals[i])\n",
    "    return result"
   ]
  },
  {
   "cell_type": "markdown",
   "id": "28e45c36",
   "metadata": {},
   "source": [
    "Применим функцию для вычисления предсказаний:"
   ]
  },
  {
   "cell_type": "code",
   "execution_count": 1568,
   "id": "7bb0ad46",
   "metadata": {},
   "outputs": [],
   "source": [
    "lgb_pred_scores = regress_pred(lgbm_cv, X_test_data)"
   ]
  },
  {
   "cell_type": "markdown",
   "id": "15aebecd",
   "metadata": {},
   "source": [
    "Реальные значения упорядочены от 0 до 4 для комментариев к каждому посту. Сформируем матрицу с реальными значениями:"
   ]
  },
  {
   "cell_type": "code",
   "execution_count": 1569,
   "id": "72f6e760",
   "metadata": {},
   "outputs": [],
   "source": [
    "real_scr_test = np.reshape(y_test, (int(X_test_data.shape[0]/5), 5))"
   ]
  },
  {
   "cell_type": "markdown",
   "id": "5ccc143b",
   "metadata": {},
   "source": [
    "Составим матрицу с реальными значениями (зная, что комментариии упорядочены по оценкам от 0 до 4)"
   ]
  },
  {
   "cell_type": "code",
   "execution_count": 1570,
   "id": "39f6f656",
   "metadata": {},
   "outputs": [],
   "source": [
    "num = lgb_pred_scores.shape[0]\n",
    "sc = np.tile(np.arange(5),num)\n",
    "real_scr_test = np.reshape(sc, (num, 5))"
   ]
  },
  {
   "cell_type": "markdown",
   "id": "9c8f0b54",
   "metadata": {},
   "source": [
    "Вычислим значение метрики NDCG"
   ]
  },
  {
   "cell_type": "code",
   "execution_count": 1574,
   "id": "bab32e3f",
   "metadata": {
    "scrolled": false
   },
   "outputs": [
    {
     "data": {
      "text/plain": [
       "0.8828266285591865"
      ]
     },
     "execution_count": 1574,
     "metadata": {},
     "output_type": "execute_result"
    }
   ],
   "source": [
    "ndcg_score(real_scr_test, lgb_pred_scores)"
   ]
  },
  {
   "cell_type": "code",
   "execution_count": 1578,
   "id": "642b9197",
   "metadata": {},
   "outputs": [
    {
     "data": {
      "text/plain": [
       "<AxesSubplot:title={'center':'Feature importance'}, xlabel='Feature importance', ylabel='Features'>"
      ]
     },
     "execution_count": 1578,
     "metadata": {},
     "output_type": "execute_result"
    },
    {
     "data": {
      "image/png": "[encoded data removed]",
      "text/plain": [
       "<Figure size 720x720 with 1 Axes>"
      ]
     },
     "metadata": {
      "needs_background": "light"
     },
     "output_type": "display_data"
    }
   ],
   "source": [
    "#построим график для признаков, использованных для обучения модели lgbm_best\n",
    "plot_importance(lgbm_best, height = 0.5, ignore_zero = False, figsize = (10,10), grid = False)"
   ]
  },
  {
   "attachments": {},
   "cell_type": "markdown",
   "id": "f287f3f4",
   "metadata": {},
   "source": [
    "##### Описание признаков\n",
    "Признаки на основе векторных представлений текстов постов и комментариев, полученных при помощи CountVectorizer. Для каждого поста и соответствущих пяти комментариев получен корпус, на основе которого составлены отдельные вектора для поска и каждого комментария.\n",
    "\n",
    "Корпус: уникальные слова для группы из поста и пяти комментариев к нему\n",
    "\n",
    "При этом рассчитаны признаки:\n",
    "* relative_length - отношение количества слов в комментарии к суммарному количеству слов в комментариях \n",
    "* len_to_vocabulary - отношение количества слов к комментарии к размеру корпуса (то есть к количеству уникальных слов, используемых в комментариях)\n",
    "* word_count - количество уникальных слов в отдельном комментарии (без повторов) То есть для поста \"ура ура ура\" значение будет равно 1\n",
    "* word_ratio - отношение уникальных слов в отдельном комментарии к размеру корпуса\n",
    "* ratio_post - отношение количества слов в комментарии к количеству слов в посте (добавлена единица, чтобы избежать деления на ноль для немногих постов в тесте)\n",
    "* word_ratio_post - отношение количества уникальных слов в комментарии к количеству уникальных слов в посте\n",
    "* numbers - количество чисел в комментарии\n",
    "* hyperlinks - количество гиперссылок в комментарии\n",
    "* dot - количество символов @ в комментарии\n",
    "* question - количество вопросительных знаков в комментарии\n",
    "* exclamation - количество восклицательных знаков в комментарии\n",
    "* dollars - количество символов $ в комментарии\n",
    "* cosine - косинусное сходство между комментарием и постом\n",
    "* euclidean - эвклидово расстояние между комментарием и постом"
   ]
  },
  {
   "cell_type": "markdown",
   "id": "17f913da",
   "metadata": {},
   "source": [
    "#### LGBMRanker"
   ]
  },
  {
   "cell_type": "markdown",
   "id": "2fed6f7f",
   "metadata": {},
   "source": [
    "Обучим модель LGBMRanker на подготовленной выборке с признаками, созданными на основе характеристик слов и векторов"
   ]
  },
  {
   "cell_type": "markdown",
   "id": "32014a6e",
   "metadata": {},
   "source": [
    "Подготовим признаки, таргеты и группы:"
   ]
  },
  {
   "cell_type": "markdown",
   "id": "a3344d0e",
   "metadata": {},
   "source": [
    "Признаки: X_train_data и X_test_data, подготовленные ранее "
   ]
  },
  {
   "cell_type": "markdown",
   "id": "7f0cda23",
   "metadata": {},
   "source": [
    "Группы:"
   ]
  },
  {
   "cell_type": "code",
   "execution_count": 1309,
   "id": "dc07ebf1",
   "metadata": {},
   "outputs": [],
   "source": [
    "query_train_lb = [5]*int(len(X_lb_train)/5)"
   ]
  },
  {
   "cell_type": "code",
   "execution_count": 1310,
   "id": "1d92c201",
   "metadata": {},
   "outputs": [],
   "source": [
    "query_valid_lb = [5]*int(len(X_lb_test)/5)"
   ]
  },
  {
   "cell_type": "markdown",
   "id": "52cb6848",
   "metadata": {},
   "source": [
    "LGBMRanker рассматривает более высокий ранг как наилучшую характеристику, а меньший ранг - как худшую. Поэтому обратим порядок оценок (при порядка от 0 к 4 метрика незначительно уменьшается)"
   ]
  },
  {
   "cell_type": "code",
   "execution_count": 1311,
   "id": "1bf58572",
   "metadata": {},
   "outputs": [],
   "source": [
    "y_lb_train = np.array((4,3,2,1,0)*int(len(X_lb_train)/5))"
   ]
  },
  {
   "cell_type": "code",
   "execution_count": 1312,
   "id": "fea2fba6",
   "metadata": {},
   "outputs": [],
   "source": [
    "y_lb_valid = np.array((4,3,2,1,0)*int(len(X_lb_test)/5))"
   ]
  },
  {
   "cell_type": "markdown",
   "id": "b37a8d72",
   "metadata": {},
   "source": [
    "Создадим и обучим модель:"
   ]
  },
  {
   "cell_type": "code",
   "execution_count": 1313,
   "id": "b9606203",
   "metadata": {},
   "outputs": [],
   "source": [
    "gbm = lgb.LGBMRanker(n_estimators  = 250, num_leaves = 30, learning_rate = 0.1)"
   ]
  },
  {
   "cell_type": "code",
   "execution_count": 1314,
   "id": "ed5f8282",
   "metadata": {},
   "outputs": [
    {
     "name": "stderr",
     "output_type": "stream",
     "text": [
      "C:\\Users\\antwo\\.conda\\envs\\ds_copy\\lib\\site-packages\\lightgbm\\sklearn.py:726: UserWarning: 'early_stopping_rounds' argument is deprecated and will be removed in a future release of LightGBM. Pass 'early_stopping()' callback via 'callbacks' argument instead.\n",
      "  _log_warning(\"'early_stopping_rounds' argument is deprecated and will be removed in a future release of LightGBM. \"\n",
      "C:\\Users\\antwo\\.conda\\envs\\ds_copy\\lib\\site-packages\\lightgbm\\sklearn.py:736: UserWarning: 'verbose' argument is deprecated and will be removed in a future release of LightGBM. Pass 'log_evaluation()' callback via 'callbacks' argument instead.\n",
      "  _log_warning(\"'verbose' argument is deprecated and will be removed in a future release of LightGBM. \"\n"
     ]
    },
    {
     "data": {
      "text/html": [
       "<style>#sk-container-id-46 {color: black;background-color: white;}#sk-container-id-46 pre{padding: 0;}#sk-container-id-46 div.sk-toggleable {background-color: white;}#sk-container-id-46 label.sk-toggleable__label {cursor: pointer;display: block;width: 100%;margin-bottom: 0;padding: 0.3em;box-sizing: border-box;text-align: center;}#sk-container-id-46 label.sk-toggleable__label-arrow:before {content: \"▸\";float: left;margin-right: 0.25em;color: #696969;}#sk-container-id-46 label.sk-toggleable__label-arrow:hover:before {color: black;}#sk-container-id-46 div.sk-estimator:hover label.sk-toggleable__label-arrow:before {color: black;}#sk-container-id-46 div.sk-toggleable__content {max-height: 0;max-width: 0;overflow: hidden;text-align: left;background-color: #f0f8ff;}#sk-container-id-46 div.sk-toggleable__content pre {margin: 0.2em;color: black;border-radius: 0.25em;background-color: #f0f8ff;}#sk-container-id-46 input.sk-toggleable__control:checked~div.sk-toggleable__content {max-height: 200px;max-width: 100%;overflow: auto;}#sk-container-id-46 input.sk-toggleable__control:checked~label.sk-toggleable__label-arrow:before {content: \"▾\";}#sk-container-id-46 div.sk-estimator input.sk-toggleable__control:checked~label.sk-toggleable__label {background-color: #d4ebff;}#sk-container-id-46 div.sk-label input.sk-toggleable__control:checked~label.sk-toggleable__label {background-color: #d4ebff;}#sk-container-id-46 input.sk-hidden--visually {border: 0;clip: rect(1px 1px 1px 1px);clip: rect(1px, 1px, 1px, 1px);height: 1px;margin: -1px;overflow: hidden;padding: 0;position: absolute;width: 1px;}#sk-container-id-46 div.sk-estimator {font-family: monospace;background-color: #f0f8ff;border: 1px dotted black;border-radius: 0.25em;box-sizing: border-box;margin-bottom: 0.5em;}#sk-container-id-46 div.sk-estimator:hover {background-color: #d4ebff;}#sk-container-id-46 div.sk-parallel-item::after {content: \"\";width: 100%;border-bottom: 1px solid gray;flex-grow: 1;}#sk-container-id-46 div.sk-label:hover label.sk-toggleable__label {background-color: #d4ebff;}#sk-container-id-46 div.sk-serial::before {content: \"\";position: absolute;border-left: 1px solid gray;box-sizing: border-box;top: 0;bottom: 0;left: 50%;z-index: 0;}#sk-container-id-46 div.sk-serial {display: flex;flex-direction: column;align-items: center;background-color: white;padding-right: 0.2em;padding-left: 0.2em;position: relative;}#sk-container-id-46 div.sk-item {position: relative;z-index: 1;}#sk-container-id-46 div.sk-parallel {display: flex;align-items: stretch;justify-content: center;background-color: white;position: relative;}#sk-container-id-46 div.sk-item::before, #sk-container-id-46 div.sk-parallel-item::before {content: \"\";position: absolute;border-left: 1px solid gray;box-sizing: border-box;top: 0;bottom: 0;left: 50%;z-index: -1;}#sk-container-id-46 div.sk-parallel-item {display: flex;flex-direction: column;z-index: 1;position: relative;background-color: white;}#sk-container-id-46 div.sk-parallel-item:first-child::after {align-self: flex-end;width: 50%;}#sk-container-id-46 div.sk-parallel-item:last-child::after {align-self: flex-start;width: 50%;}#sk-container-id-46 div.sk-parallel-item:only-child::after {width: 0;}#sk-container-id-46 div.sk-dashed-wrapped {border: 1px dashed gray;margin: 0 0.4em 0.5em 0.4em;box-sizing: border-box;padding-bottom: 0.4em;background-color: white;}#sk-container-id-46 div.sk-label label {font-family: monospace;font-weight: bold;display: inline-block;line-height: 1.2em;}#sk-container-id-46 div.sk-label-container {text-align: center;}#sk-container-id-46 div.sk-container {/* jupyter's `normalize.less` sets `[hidden] { display: none; }` but bootstrap.min.css set `[hidden] { display: none !important; }` so we also need the `!important` here to be able to override the default hidden behavior on the sphinx rendered scikit-learn.org. See: https://github.com/scikit-learn/scikit-learn/issues/21755 */display: inline-block !important;position: relative;}#sk-container-id-46 div.sk-text-repr-fallback {display: none;}</style><div id=\"sk-container-id-46\" class=\"sk-top-container\"><div class=\"sk-text-repr-fallback\"><pre>LGBMRanker(n_estimators=250, num_leaves=30)</pre><b>In a Jupyter environment, please rerun this cell to show the HTML representation or trust the notebook. <br />On GitHub, the HTML representation is unable to render, please try loading this page with nbviewer.org.</b></div><div class=\"sk-container\" hidden><div class=\"sk-item\"><div class=\"sk-estimator sk-toggleable\"><input class=\"sk-toggleable__control sk-hidden--visually\" id=\"sk-estimator-id-79\" type=\"checkbox\" checked><label for=\"sk-estimator-id-79\" class=\"sk-toggleable__label sk-toggleable__label-arrow\">LGBMRanker</label><div class=\"sk-toggleable__content\"><pre>LGBMRanker(n_estimators=250, num_leaves=30)</pre></div></div></div></div></div>"
      ],
      "text/plain": [
       "LGBMRanker(n_estimators=250, num_leaves=30)"
      ]
     },
     "execution_count": 1314,
     "metadata": {},
     "output_type": "execute_result"
    }
   ],
   "source": [
    "gbm.fit(X_lb_train, y_lb_train, group=query_train_lb,\n",
    "        eval_set=[(X_lb_valid, y_lb_valid)], eval_group=[query_valid_lb],\n",
    "        eval_at=[5, 10, 40], early_stopping_rounds=200, verbose = False)"
   ]
  },
  {
   "cell_type": "code",
   "execution_count": 1315,
   "id": "fd0672aa",
   "metadata": {},
   "outputs": [],
   "source": [
    "preds_gbm = gbm.predict(X_lb_test, raw_score = True)"
   ]
  },
  {
   "cell_type": "markdown",
   "id": "f1489c9c",
   "metadata": {},
   "source": [
    "Выведем значение метрики NDCG, полученное при обучении:"
   ]
  },
  {
   "cell_type": "code",
   "execution_count": 1316,
   "id": "5b10cf4a",
   "metadata": {},
   "outputs": [
    {
     "data": {
      "text/plain": [
       "defaultdict(collections.OrderedDict,\n",
       "            {'valid_0': OrderedDict([('ndcg@5', 0.8417070809406322),\n",
       "                          ('ndcg@10', 0.8417070809406322),\n",
       "                          ('ndcg@40', 0.8417070809406322)])})"
      ]
     },
     "execution_count": 1316,
     "metadata": {},
     "output_type": "execute_result"
    }
   ],
   "source": [
    "gbm.best_score_"
   ]
  },
  {
   "cell_type": "code",
   "execution_count": 1317,
   "id": "b60b60e1",
   "metadata": {
    "scrolled": false
   },
   "outputs": [
    {
     "data": {
      "text/plain": [
       "array([-0.07277306, -0.11839459, -0.09422707,  0.13443489, -0.0264254 ])"
      ]
     },
     "execution_count": 1317,
     "metadata": {},
     "output_type": "execute_result"
    }
   ],
   "source": [
    "preds_gbm[50:55]"
   ]
  },
  {
   "cell_type": "markdown",
   "id": "3fb74bf6",
   "metadata": {},
   "source": [
    "**Комментарий** Не разобрались, как преобразовать в значения меток"
   ]
  },
  {
   "cell_type": "markdown",
   "id": "f256f5e1",
   "metadata": {},
   "source": [
    "#### Catboost Ranker"
   ]
  },
  {
   "cell_type": "code",
   "execution_count": 1117,
   "id": "d472bd89",
   "metadata": {},
   "outputs": [],
   "source": [
    "from catboost import CatBoostRanker, Pool, MetricVisualizer"
   ]
  },
  {
   "cell_type": "markdown",
   "id": "22b6d0b4",
   "metadata": {},
   "source": [
    " Используем ранее подготовленные признаки X_train_data и X_test_data"
   ]
  },
  {
   "cell_type": "code",
   "execution_count": 1168,
   "id": "2c02f1b2",
   "metadata": {},
   "outputs": [],
   "source": [
    "#признаки\n",
    "X_cb_train = X_train_data.values\n",
    "#таргет\n",
    "y_cb_train = train_data['score'].values\n",
    "#идентификаторы\n",
    "queries_train = train_ids"
   ]
  },
  {
   "cell_type": "code",
   "execution_count": 1169,
   "id": "f2404177",
   "metadata": {
    "scrolled": true
   },
   "outputs": [
    {
     "data": {
      "text/plain": [
       "(344420, 14)"
      ]
     },
     "execution_count": 1169,
     "metadata": {},
     "output_type": "execute_result"
    }
   ],
   "source": [
    "X_cb_train.shape"
   ]
  },
  {
   "cell_type": "code",
   "execution_count": 1170,
   "id": "1fd2ee90",
   "metadata": {},
   "outputs": [],
   "source": [
    "#признаки\n",
    "X_cb_valid = X_test_data.values\n",
    "#таргет\n",
    "y_cb_valid = test_data['score'].values\n",
    "#идентификаторы\n",
    "queries_valid = val_ids"
   ]
  },
  {
   "cell_type": "code",
   "execution_count": 1171,
   "id": "c6cc0821",
   "metadata": {},
   "outputs": [
    {
     "data": {
      "text/plain": [
       "(86105, 14)"
      ]
     },
     "execution_count": 1171,
     "metadata": {},
     "output_type": "execute_result"
    }
   ],
   "source": [
    "X_cb_val.shape"
   ]
  },
  {
   "cell_type": "markdown",
   "id": "262011e7",
   "metadata": {},
   "source": [
    "Приведем оценки к диапазону от 0 до 1:"
   ]
  },
  {
   "cell_type": "code",
   "execution_count": 1179,
   "id": "c29a015a",
   "metadata": {},
   "outputs": [],
   "source": [
    "y_cb_train = y_cb_train/4\n",
    "y_cb_valid = y_cb_val/4"
   ]
  },
  {
   "cell_type": "markdown",
   "id": "4c7c7344",
   "metadata": {},
   "source": [
    "Пулы для обучения модели:"
   ]
  },
  {
   "cell_type": "code",
   "execution_count": 1181,
   "id": "e7da964e",
   "metadata": {},
   "outputs": [],
   "source": [
    "tr_pool = Pool(\n",
    "    data=X_cb_train,\n",
    "    label=y_cb_train,\n",
    "    group_id=queries_train\n",
    ")\n",
    "\n",
    "val_pool = Pool(\n",
    "    data=X_cb_valid,\n",
    "    label=y_cb_valid,\n",
    "    group_id=queries_valid\n",
    ")"
   ]
  },
  {
   "cell_type": "code",
   "execution_count": 1182,
   "id": "23502aef",
   "metadata": {},
   "outputs": [],
   "source": [
    "default_parameters = {\n",
    "    'iterations': 2000,\n",
    "    'custom_metric': ['NDCG', 'PFound', 'AverageGain:top=10'],\n",
    "    'verbose': False,\n",
    "    'random_seed': 0,\n",
    "}\n",
    "\n",
    "parameters = {}"
   ]
  },
  {
   "cell_type": "code",
   "execution_count": 1183,
   "id": "35f74c11",
   "metadata": {},
   "outputs": [],
   "source": [
    "def fit_model(loss_function, additional_params=None, train_pool=tr_pool, test_pool=val_pool):\n",
    "    parameters = deepcopy(default_parameters)\n",
    "    parameters['loss_function'] = loss_function\n",
    "    parameters['train_dir'] = loss_function\n",
    "    \n",
    "    if additional_params is not None:\n",
    "        parameters.update(additional_params)\n",
    "        \n",
    "    model = CatBoostRanker(**parameters)\n",
    "    model.fit(tr_pool, eval_set=val_pool, plot=True)\n",
    "    \n",
    "    return model"
   ]
  },
  {
   "cell_type": "code",
   "execution_count": 1184,
   "id": "0327db98",
   "metadata": {},
   "outputs": [
    {
     "data": {
      "application/vnd.jupyter.widget-view+json": {
       "model_id": "adddcd76bb634c32b24342202e11929a",
       "version_major": 2,
       "version_minor": 0
      },
      "text/plain": [
       "MetricVisualizer(layout=Layout(align_self='stretch', height='500px'))"
      ]
     },
     "metadata": {},
     "output_type": "display_data"
    }
   ],
   "source": [
    "model = fit_model('PairLogit', {'custom_metric': ['NDCG']})"
   ]
  },
  {
   "cell_type": "code",
   "execution_count": 1185,
   "id": "cb1da0f0",
   "metadata": {
    "scrolled": false
   },
   "outputs": [
    {
     "name": "stdout",
     "output_type": "stream",
     "text": [
      "{'learn': {'PairLogit': 0.5956154568179094}, 'validation': {'NDCG:type=Base': 0.886433971525708, 'PairLogit': 0.6036515992534413}}\n"
     ]
    }
   ],
   "source": [
    "print(model.get_best_score())"
   ]
  },
  {
   "cell_type": "code",
   "execution_count": 1186,
   "id": "783b981e",
   "metadata": {},
   "outputs": [],
   "source": [
    "preds = model.predict(X_cb_val)"
   ]
  },
  {
   "cell_type": "code",
   "execution_count": 1187,
   "id": "5a6d6225",
   "metadata": {
    "scrolled": true
   },
   "outputs": [
    {
     "data": {
      "text/plain": [
       "array([ 0.04148832,  0.1491929 , -0.30291415, -0.55261498, -0.24219519,\n",
       "        0.61186584,  0.79449197, -0.22202989,  0.57793946, -0.59758079,\n",
       "        0.41830673,  0.45075937, -0.87036289, -0.09558715, -0.18790265,\n",
       "       -0.85470317,  0.69454838,  0.19323311,  0.22360351,  0.53495115])"
      ]
     },
     "execution_count": 1187,
     "metadata": {},
     "output_type": "execute_result"
    }
   ],
   "source": [
    "preds[0:20]"
   ]
  },
  {
   "cell_type": "markdown",
   "id": "b1e65a8b",
   "metadata": {},
   "source": [
    "### Обучение по признакам TF IDF"
   ]
  },
  {
   "cell_type": "markdown",
   "id": "5b589f3e",
   "metadata": {},
   "source": [
    "#### Регрессия: LGBMRegressor, признаки TF IDF\n",
    "Выполним обучение модели регрессии, используя значения от 0 до 4 в качестве целевого признака. Затем будем предсказывать значения, сортировать и назначать ранг в соответствии с порядком"
   ]
  },
  {
   "cell_type": "code",
   "execution_count": 1318,
   "id": "959b7bbf",
   "metadata": {},
   "outputs": [],
   "source": [
    "# создадим модель LGBMRegressor\n",
    "lgbm = LGBMRegressor(random_state=38)\n",
    "\n",
    "# создадим список гиперпараметров\n",
    "lgbm_parameters = {\n",
    "    'num_leaves': [15, 20],\n",
    "    'n_estimators': [100, 300],\n",
    "    'learning_rate': [0.1, 0.3],\n",
    "    'max_depth': [9, 20]\n",
    "}\n",
    "\n",
    "# передадим модель и гиперпараметры для обучения с кросс-валидацией и для подбора гиперпаматеров\n",
    "lgbm_tf_cv = GridSearchCV(lgbm,\n",
    "                    param_grid=lgbm_parameters,\n",
    "                    scoring='neg_mean_absolute_error',\n",
    "                    cv=5)"
   ]
  },
  {
   "cell_type": "code",
   "execution_count": 1319,
   "id": "c4061b2b",
   "metadata": {
    "scrolled": true
   },
   "outputs": [
    {
     "name": "stdout",
     "output_type": "stream",
     "text": [
      "CPU times: total: 4h 4min 24s\n",
      "Wall time: 2h 25min 3s\n"
     ]
    },
    {
     "data": {
      "text/html": [
       "<style>#sk-container-id-47 {color: black;background-color: white;}#sk-container-id-47 pre{padding: 0;}#sk-container-id-47 div.sk-toggleable {background-color: white;}#sk-container-id-47 label.sk-toggleable__label {cursor: pointer;display: block;width: 100%;margin-bottom: 0;padding: 0.3em;box-sizing: border-box;text-align: center;}#sk-container-id-47 label.sk-toggleable__label-arrow:before {content: \"▸\";float: left;margin-right: 0.25em;color: #696969;}#sk-container-id-47 label.sk-toggleable__label-arrow:hover:before {color: black;}#sk-container-id-47 div.sk-estimator:hover label.sk-toggleable__label-arrow:before {color: black;}#sk-container-id-47 div.sk-toggleable__content {max-height: 0;max-width: 0;overflow: hidden;text-align: left;background-color: #f0f8ff;}#sk-container-id-47 div.sk-toggleable__content pre {margin: 0.2em;color: black;border-radius: 0.25em;background-color: #f0f8ff;}#sk-container-id-47 input.sk-toggleable__control:checked~div.sk-toggleable__content {max-height: 200px;max-width: 100%;overflow: auto;}#sk-container-id-47 input.sk-toggleable__control:checked~label.sk-toggleable__label-arrow:before {content: \"▾\";}#sk-container-id-47 div.sk-estimator input.sk-toggleable__control:checked~label.sk-toggleable__label {background-color: #d4ebff;}#sk-container-id-47 div.sk-label input.sk-toggleable__control:checked~label.sk-toggleable__label {background-color: #d4ebff;}#sk-container-id-47 input.sk-hidden--visually {border: 0;clip: rect(1px 1px 1px 1px);clip: rect(1px, 1px, 1px, 1px);height: 1px;margin: -1px;overflow: hidden;padding: 0;position: absolute;width: 1px;}#sk-container-id-47 div.sk-estimator {font-family: monospace;background-color: #f0f8ff;border: 1px dotted black;border-radius: 0.25em;box-sizing: border-box;margin-bottom: 0.5em;}#sk-container-id-47 div.sk-estimator:hover {background-color: #d4ebff;}#sk-container-id-47 div.sk-parallel-item::after {content: \"\";width: 100%;border-bottom: 1px solid gray;flex-grow: 1;}#sk-container-id-47 div.sk-label:hover label.sk-toggleable__label {background-color: #d4ebff;}#sk-container-id-47 div.sk-serial::before {content: \"\";position: absolute;border-left: 1px solid gray;box-sizing: border-box;top: 0;bottom: 0;left: 50%;z-index: 0;}#sk-container-id-47 div.sk-serial {display: flex;flex-direction: column;align-items: center;background-color: white;padding-right: 0.2em;padding-left: 0.2em;position: relative;}#sk-container-id-47 div.sk-item {position: relative;z-index: 1;}#sk-container-id-47 div.sk-parallel {display: flex;align-items: stretch;justify-content: center;background-color: white;position: relative;}#sk-container-id-47 div.sk-item::before, #sk-container-id-47 div.sk-parallel-item::before {content: \"\";position: absolute;border-left: 1px solid gray;box-sizing: border-box;top: 0;bottom: 0;left: 50%;z-index: -1;}#sk-container-id-47 div.sk-parallel-item {display: flex;flex-direction: column;z-index: 1;position: relative;background-color: white;}#sk-container-id-47 div.sk-parallel-item:first-child::after {align-self: flex-end;width: 50%;}#sk-container-id-47 div.sk-parallel-item:last-child::after {align-self: flex-start;width: 50%;}#sk-container-id-47 div.sk-parallel-item:only-child::after {width: 0;}#sk-container-id-47 div.sk-dashed-wrapped {border: 1px dashed gray;margin: 0 0.4em 0.5em 0.4em;box-sizing: border-box;padding-bottom: 0.4em;background-color: white;}#sk-container-id-47 div.sk-label label {font-family: monospace;font-weight: bold;display: inline-block;line-height: 1.2em;}#sk-container-id-47 div.sk-label-container {text-align: center;}#sk-container-id-47 div.sk-container {/* jupyter's `normalize.less` sets `[hidden] { display: none; }` but bootstrap.min.css set `[hidden] { display: none !important; }` so we also need the `!important` here to be able to override the default hidden behavior on the sphinx rendered scikit-learn.org. See: https://github.com/scikit-learn/scikit-learn/issues/21755 */display: inline-block !important;position: relative;}#sk-container-id-47 div.sk-text-repr-fallback {display: none;}</style><div id=\"sk-container-id-47\" class=\"sk-top-container\"><div class=\"sk-text-repr-fallback\"><pre>GridSearchCV(cv=5, estimator=LGBMRegressor(random_state=38),\n",
       "             param_grid={&#x27;learning_rate&#x27;: [0.1, 0.3], &#x27;max_depth&#x27;: [9, 20],\n",
       "                         &#x27;n_estimators&#x27;: [100, 300], &#x27;num_leaves&#x27;: [15, 20]},\n",
       "             scoring=&#x27;neg_mean_absolute_error&#x27;)</pre><b>In a Jupyter environment, please rerun this cell to show the HTML representation or trust the notebook. <br />On GitHub, the HTML representation is unable to render, please try loading this page with nbviewer.org.</b></div><div class=\"sk-container\" hidden><div class=\"sk-item sk-dashed-wrapped\"><div class=\"sk-label-container\"><div class=\"sk-label sk-toggleable\"><input class=\"sk-toggleable__control sk-hidden--visually\" id=\"sk-estimator-id-80\" type=\"checkbox\" ><label for=\"sk-estimator-id-80\" class=\"sk-toggleable__label sk-toggleable__label-arrow\">GridSearchCV</label><div class=\"sk-toggleable__content\"><pre>GridSearchCV(cv=5, estimator=LGBMRegressor(random_state=38),\n",
       "             param_grid={&#x27;learning_rate&#x27;: [0.1, 0.3], &#x27;max_depth&#x27;: [9, 20],\n",
       "                         &#x27;n_estimators&#x27;: [100, 300], &#x27;num_leaves&#x27;: [15, 20]},\n",
       "             scoring=&#x27;neg_mean_absolute_error&#x27;)</pre></div></div></div><div class=\"sk-parallel\"><div class=\"sk-parallel-item\"><div class=\"sk-item\"><div class=\"sk-label-container\"><div class=\"sk-label sk-toggleable\"><input class=\"sk-toggleable__control sk-hidden--visually\" id=\"sk-estimator-id-81\" type=\"checkbox\" ><label for=\"sk-estimator-id-81\" class=\"sk-toggleable__label sk-toggleable__label-arrow\">estimator: LGBMRegressor</label><div class=\"sk-toggleable__content\"><pre>LGBMRegressor(random_state=38)</pre></div></div></div><div class=\"sk-serial\"><div class=\"sk-item\"><div class=\"sk-estimator sk-toggleable\"><input class=\"sk-toggleable__control sk-hidden--visually\" id=\"sk-estimator-id-82\" type=\"checkbox\" ><label for=\"sk-estimator-id-82\" class=\"sk-toggleable__label sk-toggleable__label-arrow\">LGBMRegressor</label><div class=\"sk-toggleable__content\"><pre>LGBMRegressor(random_state=38)</pre></div></div></div></div></div></div></div></div></div></div>"
      ],
      "text/plain": [
       "GridSearchCV(cv=5, estimator=LGBMRegressor(random_state=38),\n",
       "             param_grid={'learning_rate': [0.1, 0.3], 'max_depth': [9, 20],\n",
       "                         'n_estimators': [100, 300], 'num_leaves': [15, 20]},\n",
       "             scoring='neg_mean_absolute_error')"
      ]
     },
     "execution_count": 1319,
     "metadata": {},
     "output_type": "execute_result"
    }
   ],
   "source": [
    "%%time\n",
    "# выполним обучение модели с подбором гиперпараметров\n",
    "lgbm_tf_cv.fit(tf_train, y_lbreg_train)"
   ]
  },
  {
   "cell_type": "markdown",
   "id": "015754f6",
   "metadata": {},
   "source": [
    "Значение метрики MAE при кросс валидации"
   ]
  },
  {
   "cell_type": "code",
   "execution_count": 1322,
   "id": "7cca5afc",
   "metadata": {},
   "outputs": [
    {
     "data": {
      "text/plain": [
       "-1.1361488766646013"
      ]
     },
     "execution_count": 1322,
     "metadata": {},
     "output_type": "execute_result"
    }
   ],
   "source": [
    "lgbm_tf_cv.best_score_"
   ]
  },
  {
   "cell_type": "code",
   "execution_count": 1591,
   "id": "72f7ce55",
   "metadata": {},
   "outputs": [],
   "source": [
    "lgbm_tf_best = lgbm_tf_cv.best_estimator_"
   ]
  },
  {
   "cell_type": "code",
   "execution_count": 1592,
   "id": "3e0e33f4",
   "metadata": {},
   "outputs": [],
   "source": [
    "lgbm_tf_param = lgbm_tf_cv.best_params_"
   ]
  },
  {
   "cell_type": "code",
   "execution_count": 1593,
   "id": "1fc072cc",
   "metadata": {},
   "outputs": [
    {
     "data": {
      "text/plain": [
       "{'learning_rate': 0.1, 'max_depth': 20, 'n_estimators': 300, 'num_leaves': 20}"
      ]
     },
     "execution_count": 1593,
     "metadata": {},
     "output_type": "execute_result"
    }
   ],
   "source": [
    "lgbm_tf_param"
   ]
  },
  {
   "cell_type": "markdown",
   "id": "4c7eb9c4",
   "metadata": {},
   "source": [
    "Вычислим предсказания на тестовой выборке, используя подготовленную ранее функцию:"
   ]
  },
  {
   "cell_type": "code",
   "execution_count": 1448,
   "id": "0a31c0a9",
   "metadata": {
    "scrolled": true
   },
   "outputs": [],
   "source": [
    "lgb_pred_scores = regress_pred(lgbm_tf_cv, tf_test)"
   ]
  },
  {
   "cell_type": "markdown",
   "id": "a4d3b7b7",
   "metadata": {},
   "source": [
    "Вычислим значение NDCG для тестовой выборки"
   ]
  },
  {
   "cell_type": "code",
   "execution_count": 1453,
   "id": "38c8f289",
   "metadata": {},
   "outputs": [
    {
     "data": {
      "text/plain": [
       "0.8759816881708969"
      ]
     },
     "execution_count": 1453,
     "metadata": {},
     "output_type": "execute_result"
    }
   ],
   "source": [
    "ndcg_score(real_scr_test, lgb_pred_scores)"
   ]
  },
  {
   "cell_type": "markdown",
   "id": "45113c5e",
   "metadata": {},
   "source": [
    "#### Бинарная классификация с пересчетом вероятностей в ранги: логистическая регрессия\n",
    "\n",
    "Проведем обучение модели, используя комментарии с рейтингом 0 и рейтингом 4 (данные подготовлены ранее). Затем будем использовать вероятности классов в предсказаниях для сортировки значений и вычисления ранга"
   ]
  },
  {
   "cell_type": "code",
   "execution_count": 1543,
   "id": "4e1ee4b3",
   "metadata": {},
   "outputs": [],
   "source": [
    "# записываем возможные значения гиперпараметров для логистической регрессии\n",
    "parameters = {\n",
    "    'C': [1, 9, 10]\n",
    "}"
   ]
  },
  {
   "cell_type": "markdown",
   "id": "786c31fd",
   "metadata": {},
   "source": [
    "Обучим модель на матрице TF IDF для обучающей выборки, используя кросс-валидацию"
   ]
  },
  {
   "cell_type": "code",
   "execution_count": 1544,
   "id": "db8200e1",
   "metadata": {},
   "outputs": [],
   "source": [
    "# создадим модель логистической регрессии:\n",
    "# , class_weight = 'balanced')\n",
    "logreg = LogisticRegression(random_state=38, max_iter=1000)\n",
    "# для инструмента GridSearhCV передадим модель, значения гиперпараметров, метод оценки\n",
    "clf_logreg = GridSearchCV(logreg,               \n",
    "                          param_grid=parameters,  \n",
    "                          scoring='f1',        \n",
    "                          cv=5)"
   ]
  },
  {
   "cell_type": "code",
   "execution_count": 1545,
   "id": "b4b10359",
   "metadata": {},
   "outputs": [
    {
     "name": "stdout",
     "output_type": "stream",
     "text": [
      "CPU times: total: 1min 44s\n",
      "Wall time: 1min 55s\n"
     ]
    },
    {
     "data": {
      "text/html": [
       "<style>#sk-container-id-52 {color: black;background-color: white;}#sk-container-id-52 pre{padding: 0;}#sk-container-id-52 div.sk-toggleable {background-color: white;}#sk-container-id-52 label.sk-toggleable__label {cursor: pointer;display: block;width: 100%;margin-bottom: 0;padding: 0.3em;box-sizing: border-box;text-align: center;}#sk-container-id-52 label.sk-toggleable__label-arrow:before {content: \"▸\";float: left;margin-right: 0.25em;color: #696969;}#sk-container-id-52 label.sk-toggleable__label-arrow:hover:before {color: black;}#sk-container-id-52 div.sk-estimator:hover label.sk-toggleable__label-arrow:before {color: black;}#sk-container-id-52 div.sk-toggleable__content {max-height: 0;max-width: 0;overflow: hidden;text-align: left;background-color: #f0f8ff;}#sk-container-id-52 div.sk-toggleable__content pre {margin: 0.2em;color: black;border-radius: 0.25em;background-color: #f0f8ff;}#sk-container-id-52 input.sk-toggleable__control:checked~div.sk-toggleable__content {max-height: 200px;max-width: 100%;overflow: auto;}#sk-container-id-52 input.sk-toggleable__control:checked~label.sk-toggleable__label-arrow:before {content: \"▾\";}#sk-container-id-52 div.sk-estimator input.sk-toggleable__control:checked~label.sk-toggleable__label {background-color: #d4ebff;}#sk-container-id-52 div.sk-label input.sk-toggleable__control:checked~label.sk-toggleable__label {background-color: #d4ebff;}#sk-container-id-52 input.sk-hidden--visually {border: 0;clip: rect(1px 1px 1px 1px);clip: rect(1px, 1px, 1px, 1px);height: 1px;margin: -1px;overflow: hidden;padding: 0;position: absolute;width: 1px;}#sk-container-id-52 div.sk-estimator {font-family: monospace;background-color: #f0f8ff;border: 1px dotted black;border-radius: 0.25em;box-sizing: border-box;margin-bottom: 0.5em;}#sk-container-id-52 div.sk-estimator:hover {background-color: #d4ebff;}#sk-container-id-52 div.sk-parallel-item::after {content: \"\";width: 100%;border-bottom: 1px solid gray;flex-grow: 1;}#sk-container-id-52 div.sk-label:hover label.sk-toggleable__label {background-color: #d4ebff;}#sk-container-id-52 div.sk-serial::before {content: \"\";position: absolute;border-left: 1px solid gray;box-sizing: border-box;top: 0;bottom: 0;left: 50%;z-index: 0;}#sk-container-id-52 div.sk-serial {display: flex;flex-direction: column;align-items: center;background-color: white;padding-right: 0.2em;padding-left: 0.2em;position: relative;}#sk-container-id-52 div.sk-item {position: relative;z-index: 1;}#sk-container-id-52 div.sk-parallel {display: flex;align-items: stretch;justify-content: center;background-color: white;position: relative;}#sk-container-id-52 div.sk-item::before, #sk-container-id-52 div.sk-parallel-item::before {content: \"\";position: absolute;border-left: 1px solid gray;box-sizing: border-box;top: 0;bottom: 0;left: 50%;z-index: -1;}#sk-container-id-52 div.sk-parallel-item {display: flex;flex-direction: column;z-index: 1;position: relative;background-color: white;}#sk-container-id-52 div.sk-parallel-item:first-child::after {align-self: flex-end;width: 50%;}#sk-container-id-52 div.sk-parallel-item:last-child::after {align-self: flex-start;width: 50%;}#sk-container-id-52 div.sk-parallel-item:only-child::after {width: 0;}#sk-container-id-52 div.sk-dashed-wrapped {border: 1px dashed gray;margin: 0 0.4em 0.5em 0.4em;box-sizing: border-box;padding-bottom: 0.4em;background-color: white;}#sk-container-id-52 div.sk-label label {font-family: monospace;font-weight: bold;display: inline-block;line-height: 1.2em;}#sk-container-id-52 div.sk-label-container {text-align: center;}#sk-container-id-52 div.sk-container {/* jupyter's `normalize.less` sets `[hidden] { display: none; }` but bootstrap.min.css set `[hidden] { display: none !important; }` so we also need the `!important` here to be able to override the default hidden behavior on the sphinx rendered scikit-learn.org. See: https://github.com/scikit-learn/scikit-learn/issues/21755 */display: inline-block !important;position: relative;}#sk-container-id-52 div.sk-text-repr-fallback {display: none;}</style><div id=\"sk-container-id-52\" class=\"sk-top-container\"><div class=\"sk-text-repr-fallback\"><pre>GridSearchCV(cv=5, estimator=LogisticRegression(max_iter=1000, random_state=38),\n",
       "             param_grid={&#x27;C&#x27;: [1, 9, 10]}, scoring=&#x27;f1&#x27;)</pre><b>In a Jupyter environment, please rerun this cell to show the HTML representation or trust the notebook. <br />On GitHub, the HTML representation is unable to render, please try loading this page with nbviewer.org.</b></div><div class=\"sk-container\" hidden><div class=\"sk-item sk-dashed-wrapped\"><div class=\"sk-label-container\"><div class=\"sk-label sk-toggleable\"><input class=\"sk-toggleable__control sk-hidden--visually\" id=\"sk-estimator-id-95\" type=\"checkbox\" ><label for=\"sk-estimator-id-95\" class=\"sk-toggleable__label sk-toggleable__label-arrow\">GridSearchCV</label><div class=\"sk-toggleable__content\"><pre>GridSearchCV(cv=5, estimator=LogisticRegression(max_iter=1000, random_state=38),\n",
       "             param_grid={&#x27;C&#x27;: [1, 9, 10]}, scoring=&#x27;f1&#x27;)</pre></div></div></div><div class=\"sk-parallel\"><div class=\"sk-parallel-item\"><div class=\"sk-item\"><div class=\"sk-label-container\"><div class=\"sk-label sk-toggleable\"><input class=\"sk-toggleable__control sk-hidden--visually\" id=\"sk-estimator-id-96\" type=\"checkbox\" ><label for=\"sk-estimator-id-96\" class=\"sk-toggleable__label sk-toggleable__label-arrow\">estimator: LogisticRegression</label><div class=\"sk-toggleable__content\"><pre>LogisticRegression(max_iter=1000, random_state=38)</pre></div></div></div><div class=\"sk-serial\"><div class=\"sk-item\"><div class=\"sk-estimator sk-toggleable\"><input class=\"sk-toggleable__control sk-hidden--visually\" id=\"sk-estimator-id-97\" type=\"checkbox\" ><label for=\"sk-estimator-id-97\" class=\"sk-toggleable__label sk-toggleable__label-arrow\">LogisticRegression</label><div class=\"sk-toggleable__content\"><pre>LogisticRegression(max_iter=1000, random_state=38)</pre></div></div></div></div></div></div></div></div></div></div>"
      ],
      "text/plain": [
       "GridSearchCV(cv=5, estimator=LogisticRegression(max_iter=1000, random_state=38),\n",
       "             param_grid={'C': [1, 9, 10]}, scoring='f1')"
      ]
     },
     "execution_count": 1545,
     "metadata": {},
     "output_type": "execute_result"
    }
   ],
   "source": [
    "%%time\n",
    "# обучаем модель логистической регрессии на полной обучающей выборке\n",
    "clf_logreg.fit(tf_binary, y_binary)"
   ]
  },
  {
   "cell_type": "code",
   "execution_count": 1546,
   "id": "c10d0e61",
   "metadata": {},
   "outputs": [
    {
     "name": "stdout",
     "output_type": "stream",
     "text": [
      "Гиперпараметры : {'C': 1}\n",
      "Значение F1: 0.6782004709597153\n"
     ]
    }
   ],
   "source": [
    "print(\"Гиперпараметры :\", clf_logreg.best_params_)\n",
    "print(\"Значение F1:\",clf_logreg.best_score_)"
   ]
  },
  {
   "cell_type": "code",
   "execution_count": 1547,
   "id": "e4398bc3",
   "metadata": {},
   "outputs": [],
   "source": [
    "# сохраним модель с лучшим результатом\n",
    "lr = clf_logreg.best_estimator_"
   ]
  },
  {
   "cell_type": "markdown",
   "id": "91a06a9b",
   "metadata": {},
   "source": [
    "Вычисление предсказаний для бинарной классификации, преобразование в ранги и вычисление метрики\n",
    "\n",
    "Составим функцию, которая вычисляет вероятности для классов, сортирует их и преобразует\n",
    "в array со значениями ранга от 0 до 4"
   ]
  },
  {
   "cell_type": "code",
   "execution_count": 1548,
   "id": "c1f6b6dc",
   "metadata": {},
   "outputs": [],
   "source": [
    "def convert_pred(model, sample):\n",
    "    \"\"\"\n",
    "    Функция вычисляет вероятности предсказаний и переводит их в ранги\n",
    "    Аргументы: \n",
    "    model: модель для вычисления предсказаний\n",
    "    sample: выборка, на которой вычисляются предсказания\n",
    "    \n",
    "    \"\"\"\n",
    "    pr_proba = model.predict_proba(sample)\n",
    "    probabilities = pr_proba[:,0]\n",
    "    num = int(probabilities.shape[0]/5)\n",
    "    reshaped_probs = np.reshape(probabilities, (num, 5))\n",
    "    result = np.zeros((num, 5), dtype = int)\n",
    "    for i in range(num):\n",
    "        result[i] = np.argsort(reshaped_probs[i])\n",
    "    return result"
   ]
  },
  {
   "cell_type": "markdown",
   "id": "aae7affe",
   "metadata": {},
   "source": [
    "Применим функцию к тестовой выборке:"
   ]
  },
  {
   "cell_type": "code",
   "execution_count": 1549,
   "id": "056843db",
   "metadata": {},
   "outputs": [],
   "source": [
    "pred_scores = convert_pred(lr, tf_test)"
   ]
  },
  {
   "cell_type": "markdown",
   "id": "63873cf1",
   "metadata": {},
   "source": [
    "Сформируем матрицу с реальными значениями, используя данные об упорядоченности комментариев по рангу от 0 к 4: "
   ]
  },
  {
   "cell_type": "code",
   "execution_count": 1550,
   "id": "a6458f79",
   "metadata": {},
   "outputs": [],
   "source": [
    "real_scores_test = np.reshape(y_test, (int(tf_test.shape[0]/5), 5))"
   ]
  },
  {
   "cell_type": "markdown",
   "id": "00ea887d",
   "metadata": {},
   "source": [
    "Вычислим значение метрики NDCG для тестовой выборки"
   ]
  },
  {
   "cell_type": "code",
   "execution_count": 1551,
   "id": "44fe6edf",
   "metadata": {
    "scrolled": true
   },
   "outputs": [
    {
     "data": {
      "text/plain": [
       "0.8710075377916576"
      ]
     },
     "execution_count": 1551,
     "metadata": {},
     "output_type": "execute_result"
    }
   ],
   "source": [
    "ndcg_score(real_scores_test, pred_scores)"
   ]
  },
  {
   "cell_type": "markdown",
   "id": "2b4934b2",
   "metadata": {},
   "source": [
    "### Предсказание ранга комментария по его длине"
   ]
  },
  {
   "cell_type": "markdown",
   "id": "57ea64ca",
   "metadata": {},
   "source": [
    "По данным можно заметить, что чем длинне комментарий, тем лучше ранг. Поэтому ранг можно предсказывать только по длине. Вычислим длину комментариев в тестовой (валидационной) выборке."
   ]
  },
  {
   "cell_type": "code",
   "execution_count": 1561,
   "id": "82afc1de",
   "metadata": {},
   "outputs": [],
   "source": [
    "train_comm['length'] = train_comm['comment'].apply(lambda x: len(x))\n",
    "test_comm['length'] = test_comm['comment'].apply(lambda x: len(x))"
   ]
  },
  {
   "cell_type": "code",
   "execution_count": 1562,
   "id": "0a07c2d3",
   "metadata": {},
   "outputs": [
    {
     "data": {
      "text/plain": [
       "1200"
      ]
     },
     "execution_count": 1562,
     "metadata": {},
     "output_type": "execute_result"
    }
   ],
   "source": [
    "test_comm['length'].max()"
   ]
  },
  {
   "cell_type": "markdown",
   "id": "1a3cc128",
   "metadata": {},
   "source": [
    "Составим функцию, которая для каждых 5 комментариев сортирует длину комментариев и назначает ранги: 0 - самый длинный, 4 - самый короткий"
   ]
  },
  {
   "cell_type": "code",
   "execution_count": 1563,
   "id": "20a47786",
   "metadata": {},
   "outputs": [],
   "source": [
    "def length_pred(sample):\n",
    "    \"\"\"\n",
    "    Функция сортирует записи по длине комментариев и назначает ранги\n",
    "    Аргументы: \n",
    "    sample: выборка, на которой вычисляются предсказания\n",
    "    \n",
    "    \"\"\"\n",
    "    length = sample.values\n",
    "    num = int(length.shape[0]/5)\n",
    "    reshaped_length = np.reshape(length, (num, 5))\n",
    "    result = np.zeros((num, 5), dtype = int)\n",
    "    for i in range(num):\n",
    "        result[i] = np.argsort(reshaped_length[i])#[::-1]\n",
    "    return result"
   ]
  },
  {
   "cell_type": "code",
   "execution_count": 1564,
   "id": "8e10cc8a",
   "metadata": {},
   "outputs": [],
   "source": [
    "pred_by_length = length_pred(test_comm['length'])"
   ]
  },
  {
   "cell_type": "markdown",
   "id": "b05fa89e",
   "metadata": {},
   "source": [
    "Вычислим значение метрики"
   ]
  },
  {
   "cell_type": "code",
   "execution_count": 1565,
   "id": "9c979bf8",
   "metadata": {},
   "outputs": [
    {
     "data": {
      "text/plain": [
       "0.732297236162167"
      ]
     },
     "execution_count": 1565,
     "metadata": {},
     "output_type": "execute_result"
    }
   ],
   "source": [
    "ndcg_score(real_scores_test, pred_by_length)"
   ]
  },
  {
   "cell_type": "markdown",
   "id": "0d24b762",
   "metadata": {},
   "source": [
    "## Выводы по обучению моделей"
   ]
  },
  {
   "cell_type": "markdown",
   "id": "d4be7767",
   "metadata": {},
   "source": [
    "Применены два подхода для получения признаков:\n",
    "* вычисление производных признаков после преобразования тестов в векторы (относительные длины текстов и словарей, косинальное сходство и эвклидово расстояние) с использованием также дополнительных характеристик (гиперссылки, некоторые спецсимволы)\n",
    "* расчет значений TF IDF на корпусе, включающем все тексты, с последующим расчетом значений для комментариев в обучающей и валидационной выборках.\n",
    "\n",
    "Проведено обучение моделей регрессии и классификации. Полученные предсказания ранжировались по величине в случае регрессии и по вероятности положительного класса в случае классификации.\n",
    "\n",
    "На выборках с вычисленными производными признаками обучены модели:\n",
    "* LGBMRegressor, значение метрики NDCG на валидационной выборке 0.882\n",
    "* LGBMRanker, значение метрики NDCG при обучении 0.84\n",
    "* CatboostRanker, значение метрики NDCG при обучении 0.886\n",
    "\n",
    "На выборках с признаками TF IDF обучены модели:\n",
    "* LGBMRegressor, значение на валидационной выборке 0.876\n",
    "* логистическая регрессия для бинарной классификации, с пересчетом вероятностей в ранги, значение на валидационной выборке 0.87\n",
    "\n",
    "При анализе данных выявлена связь между длиной комментария и оценкой. Поэтому составлена \"модель\" предсказаний ранга путем ранжирования по длине в каждой пятерке. Получено значение метрики NDCG 0.73"
   ]
  },
  {
   "cell_type": "markdown",
   "id": "d44cd15f",
   "metadata": {},
   "source": [
    "Для вычисления предказаний на тестовой выборке в задании выбрана модель **LGBMRegressor**, обученная на выборке с вычисленными признаками"
   ]
  },
  {
   "cell_type": "markdown",
   "id": "cc5af414",
   "metadata": {},
   "source": [
    "## Подготовка тестовой выборки и формирование предсказаний"
   ]
  },
  {
   "cell_type": "markdown",
   "id": "391aa7ea",
   "metadata": {},
   "source": [
    "### Загрузка  файла и предобработка данных"
   ]
  },
  {
   "cell_type": "code",
   "execution_count": 1398,
   "id": "adff8fd5",
   "metadata": {},
   "outputs": [],
   "source": [
    "df_test = pd.read_json('C:/Andrey/datasets/chg/ranking_test.jsonl', lines = True)"
   ]
  },
  {
   "cell_type": "code",
   "execution_count": 1399,
   "id": "fa2d558e",
   "metadata": {},
   "outputs": [
    {
     "data": {
      "text/html": [
       "<div>\n",
       "<style scoped>\n",
       "    .dataframe tbody tr th:only-of-type {\n",
       "        vertical-align: middle;\n",
       "    }\n",
       "\n",
       "    .dataframe tbody tr th {\n",
       "        vertical-align: top;\n",
       "    }\n",
       "\n",
       "    .dataframe thead th {\n",
       "        text-align: right;\n",
       "    }\n",
       "</style>\n",
       "<table border=\"1\" class=\"dataframe\">\n",
       "  <thead>\n",
       "    <tr style=\"text-align: right;\">\n",
       "      <th></th>\n",
       "      <th>text</th>\n",
       "      <th>comments</th>\n",
       "    </tr>\n",
       "  </thead>\n",
       "  <tbody>\n",
       "    <tr>\n",
       "      <th>0</th>\n",
       "      <td>iOS 8.0.1 released, broken on iPhone 6 models,...</td>\n",
       "      <td>[{'text': 'I&amp;#x27;m still waiting for them to ...</td>\n",
       "    </tr>\n",
       "    <tr>\n",
       "      <th>1</th>\n",
       "      <td>Ask HN: How do US HNers get their health insur...</td>\n",
       "      <td>[{'text': 'Get it from your employer. It&amp;#x27;...</td>\n",
       "    </tr>\n",
       "    <tr>\n",
       "      <th>2</th>\n",
       "      <td>San Diego Researcher Crowdfunding Patent-Free ...</td>\n",
       "      <td>[{'text': 'What I don&amp;#x27;t understand is why...</td>\n",
       "    </tr>\n",
       "    <tr>\n",
       "      <th>3</th>\n",
       "      <td>Rethinking the origins of the universe</td>\n",
       "      <td>[{'text': 'I&amp;#x27;m not a physicist.  I imagin...</td>\n",
       "    </tr>\n",
       "    <tr>\n",
       "      <th>4</th>\n",
       "      <td>SlackTextViewController: A new growing text in...</td>\n",
       "      <td>[{'text': 'As someone that doesn&amp;#x27;t do iOS...</td>\n",
       "    </tr>\n",
       "  </tbody>\n",
       "</table>\n",
       "</div>"
      ],
      "text/plain": [
       "                                                text  \\\n",
       "0  iOS 8.0.1 released, broken on iPhone 6 models,...   \n",
       "1  Ask HN: How do US HNers get their health insur...   \n",
       "2  San Diego Researcher Crowdfunding Patent-Free ...   \n",
       "3             Rethinking the origins of the universe   \n",
       "4  SlackTextViewController: A new growing text in...   \n",
       "\n",
       "                                            comments  \n",
       "0  [{'text': 'I&#x27;m still waiting for them to ...  \n",
       "1  [{'text': 'Get it from your employer. It&#x27;...  \n",
       "2  [{'text': 'What I don&#x27;t understand is why...  \n",
       "3  [{'text': 'I&#x27;m not a physicist.  I imagin...  \n",
       "4  [{'text': 'As someone that doesn&#x27;t do iOS...  "
      ]
     },
     "execution_count": 1399,
     "metadata": {},
     "output_type": "execute_result"
    }
   ],
   "source": [
    "df_test.head()"
   ]
  },
  {
   "cell_type": "code",
   "execution_count": 1400,
   "id": "7df8b3bd",
   "metadata": {},
   "outputs": [
    {
     "name": "stdout",
     "output_type": "stream",
     "text": [
      "<class 'pandas.core.frame.DataFrame'>\n",
      "RangeIndex: 14004 entries, 0 to 14003\n",
      "Data columns (total 2 columns):\n",
      " #   Column    Non-Null Count  Dtype \n",
      "---  ------    --------------  ----- \n",
      " 0   text      14004 non-null  object\n",
      " 1   comments  14004 non-null  object\n",
      "dtypes: object(2)\n",
      "memory usage: 218.9+ KB\n"
     ]
    }
   ],
   "source": [
    "df_test.info()"
   ]
  },
  {
   "cell_type": "code",
   "execution_count": 1401,
   "id": "6288d623",
   "metadata": {},
   "outputs": [],
   "source": [
    "test_posts = df_test.copy()"
   ]
  },
  {
   "cell_type": "code",
   "execution_count": 1402,
   "id": "1e7ec617",
   "metadata": {},
   "outputs": [],
   "source": [
    "#меняем гиперссылки на http\n",
    "test_posts['text'] = test_posts['text'].replace(r\"http\\S+\", \"http\", regex=True)\n",
    "#оставляем буквы, цифры, некоторые символы (чтобы учесть темы финансов, эл адреса, интонации)\n",
    "test_posts['text'] = test_posts['text'].replace(r\"[^a-zA-Z0-9$@'?+!]\", \" \", regex=True)\n",
    "# убираем символы переноса строки\n",
    "test_posts[\"text\"] = test_posts[\"text\"].replace(r\"[\\n]\", \" \", regex=True)\n",
    "# переведем в нижний регистр\n",
    "test_posts[\"text\"] = test_posts[\"text\"].str.lower()\n",
    "test_posts[\"text\"] = test_posts[\"text\"].replace(r\"\\?\", \" ? \", regex=True)\n",
    "test_posts[\"text\"] = test_posts[\"text\"].replace(r\"\\!\", \" ! \", regex=True)\n",
    "test_posts[\"text\"] = test_posts[\"text\"].replace(r\"\\@\", \" @ \", regex=True)\n",
    "test_posts[\"text\"] = test_posts[\"text\"].replace(r\"\\$\", \" $ \", regex=True)"
   ]
  },
  {
   "cell_type": "markdown",
   "id": "13bc0e1f",
   "metadata": {},
   "source": [
    "Выведем в новом датафрейме комментарии и ранги в отдельных столбцах:"
   ]
  },
  {
   "cell_type": "code",
   "execution_count": 1403,
   "id": "30d9fccd",
   "metadata": {},
   "outputs": [],
   "source": [
    "dt = [{f'{k}{i}': v for i,y in enumerate(x, 1) for k,v in y.items()} for x in test_posts['comments']]\n",
    "dft = pd.DataFrame(dt, index=test_posts.index).sort_index(axis=1)"
   ]
  },
  {
   "cell_type": "code",
   "execution_count": 1404,
   "id": "d24d27bd",
   "metadata": {},
   "outputs": [
    {
     "data": {
      "text/html": [
       "<div>\n",
       "<style scoped>\n",
       "    .dataframe tbody tr th:only-of-type {\n",
       "        vertical-align: middle;\n",
       "    }\n",
       "\n",
       "    .dataframe tbody tr th {\n",
       "        vertical-align: top;\n",
       "    }\n",
       "\n",
       "    .dataframe thead th {\n",
       "        text-align: right;\n",
       "    }\n",
       "</style>\n",
       "<table border=\"1\" class=\"dataframe\">\n",
       "  <thead>\n",
       "    <tr style=\"text-align: right;\">\n",
       "      <th></th>\n",
       "      <th>score1</th>\n",
       "      <th>score2</th>\n",
       "      <th>score3</th>\n",
       "      <th>score4</th>\n",
       "      <th>score5</th>\n",
       "      <th>text1</th>\n",
       "      <th>text2</th>\n",
       "      <th>text3</th>\n",
       "      <th>text4</th>\n",
       "      <th>text5</th>\n",
       "    </tr>\n",
       "  </thead>\n",
       "  <tbody>\n",
       "    <tr>\n",
       "      <th>0</th>\n",
       "      <td>None</td>\n",
       "      <td>None</td>\n",
       "      <td>None</td>\n",
       "      <td>None</td>\n",
       "      <td>None</td>\n",
       "      <td>I&amp;#x27;m still waiting for them to stabilize w...</td>\n",
       "      <td>For those who upgraded, no need to do a restor...</td>\n",
       "      <td>Upgraded shortly after it was released and suf...</td>\n",
       "      <td>I think they were under a lot of pressure on t...</td>\n",
       "      <td>Fix for those who already updated:  http:&amp;#x2F...</td>\n",
       "    </tr>\n",
       "    <tr>\n",
       "      <th>1</th>\n",
       "      <td>None</td>\n",
       "      <td>None</td>\n",
       "      <td>None</td>\n",
       "      <td>None</td>\n",
       "      <td>None</td>\n",
       "      <td>Get it from your employer. It&amp;#x27;s better an...</td>\n",
       "      <td>As someone who moved from the UK to US under a...</td>\n",
       "      <td>I went to http:&amp;#x2F;&amp;#x2F;healthcare.gov, fil...</td>\n",
       "      <td>Full time employed, health insurance through m...</td>\n",
       "      <td>Your options depend on where you live.I signed...</td>\n",
       "    </tr>\n",
       "    <tr>\n",
       "      <th>2</th>\n",
       "      <td>None</td>\n",
       "      <td>None</td>\n",
       "      <td>None</td>\n",
       "      <td>None</td>\n",
       "      <td>None</td>\n",
       "      <td>What I don&amp;#x27;t understand is why drugs deve...</td>\n",
       "      <td>To everyone sure this will fail because of the...</td>\n",
       "      <td>People don&amp;#x27;t seem to realize how expensiv...</td>\n",
       "      <td>Many years ago, I worked in a lab where I synt...</td>\n",
       "      <td>I think the negative comments on here have got...</td>\n",
       "    </tr>\n",
       "    <tr>\n",
       "      <th>3</th>\n",
       "      <td>None</td>\n",
       "      <td>None</td>\n",
       "      <td>None</td>\n",
       "      <td>None</td>\n",
       "      <td>None</td>\n",
       "      <td>I&amp;#x27;m not a physicist.  I imagine that if I...</td>\n",
       "      <td>I&amp;#x27;m not at all acquainted with astrophysi...</td>\n",
       "      <td>This paper claims that black holes can&amp;#x27;t ...</td>\n",
       "      <td>Interesting; if the paper finds general accept...</td>\n",
       "      <td>Ethan Siegel just posted a detailed response t...</td>\n",
       "    </tr>\n",
       "    <tr>\n",
       "      <th>4</th>\n",
       "      <td>None</td>\n",
       "      <td>None</td>\n",
       "      <td>None</td>\n",
       "      <td>None</td>\n",
       "      <td>None</td>\n",
       "      <td>As someone that doesn&amp;#x27;t do iOS developmen...</td>\n",
       "      <td>Apple developed Swift to make developer&amp;#x27;s...</td>\n",
       "      <td>So I&amp;#x27;m making iOS apps sometimes, but hav...</td>\n",
       "      <td>&amp;gt; Inverted mode for displaying cells upside...</td>\n",
       "      <td>cool.  I was just shopping for a new growing t...</td>\n",
       "    </tr>\n",
       "  </tbody>\n",
       "</table>\n",
       "</div>"
      ],
      "text/plain": [
       "  score1 score2 score3 score4 score5  \\\n",
       "0   None   None   None   None   None   \n",
       "1   None   None   None   None   None   \n",
       "2   None   None   None   None   None   \n",
       "3   None   None   None   None   None   \n",
       "4   None   None   None   None   None   \n",
       "\n",
       "                                               text1  \\\n",
       "0  I&#x27;m still waiting for them to stabilize w...   \n",
       "1  Get it from your employer. It&#x27;s better an...   \n",
       "2  What I don&#x27;t understand is why drugs deve...   \n",
       "3  I&#x27;m not a physicist.  I imagine that if I...   \n",
       "4  As someone that doesn&#x27;t do iOS developmen...   \n",
       "\n",
       "                                               text2  \\\n",
       "0  For those who upgraded, no need to do a restor...   \n",
       "1  As someone who moved from the UK to US under a...   \n",
       "2  To everyone sure this will fail because of the...   \n",
       "3  I&#x27;m not at all acquainted with astrophysi...   \n",
       "4  Apple developed Swift to make developer&#x27;s...   \n",
       "\n",
       "                                               text3  \\\n",
       "0  Upgraded shortly after it was released and suf...   \n",
       "1  I went to http:&#x2F;&#x2F;healthcare.gov, fil...   \n",
       "2  People don&#x27;t seem to realize how expensiv...   \n",
       "3  This paper claims that black holes can&#x27;t ...   \n",
       "4  So I&#x27;m making iOS apps sometimes, but hav...   \n",
       "\n",
       "                                               text4  \\\n",
       "0  I think they were under a lot of pressure on t...   \n",
       "1  Full time employed, health insurance through m...   \n",
       "2  Many years ago, I worked in a lab where I synt...   \n",
       "3  Interesting; if the paper finds general accept...   \n",
       "4  &gt; Inverted mode for displaying cells upside...   \n",
       "\n",
       "                                               text5  \n",
       "0  Fix for those who already updated:  http:&#x2F...  \n",
       "1  Your options depend on where you live.I signed...  \n",
       "2  I think the negative comments on here have got...  \n",
       "3  Ethan Siegel just posted a detailed response t...  \n",
       "4  cool.  I was just shopping for a new growing t...  "
      ]
     },
     "execution_count": 1404,
     "metadata": {},
     "output_type": "execute_result"
    }
   ],
   "source": [
    "dft.head()"
   ]
  },
  {
   "cell_type": "code",
   "execution_count": 1405,
   "id": "d20f0c5f",
   "metadata": {},
   "outputs": [
    {
     "name": "stdout",
     "output_type": "stream",
     "text": [
      "<class 'pandas.core.frame.DataFrame'>\n",
      "RangeIndex: 14004 entries, 0 to 14003\n",
      "Data columns (total 10 columns):\n",
      " #   Column  Non-Null Count  Dtype \n",
      "---  ------  --------------  ----- \n",
      " 0   score1  0 non-null      object\n",
      " 1   score2  0 non-null      object\n",
      " 2   score3  0 non-null      object\n",
      " 3   score4  0 non-null      object\n",
      " 4   score5  0 non-null      object\n",
      " 5   text1   14004 non-null  object\n",
      " 6   text2   14004 non-null  object\n",
      " 7   text3   14004 non-null  object\n",
      " 8   text4   14004 non-null  object\n",
      " 9   text5   14004 non-null  object\n",
      "dtypes: object(10)\n",
      "memory usage: 1.1+ MB\n"
     ]
    }
   ],
   "source": [
    "dft.info()"
   ]
  },
  {
   "cell_type": "markdown",
   "id": "864fe88c",
   "metadata": {},
   "source": [
    "Подготовим текст в столбцах с комментами также, как и для постов:"
   ]
  },
  {
   "cell_type": "code",
   "execution_count": 1406,
   "id": "1ec9cb83",
   "metadata": {},
   "outputs": [],
   "source": [
    "cols = ['text1', 'text2', 'text3', 'text4', 'text5']\n",
    "for col in cols:\n",
    "    dft[col] = dft[col].replace(r\"http\\S+\", \"http\", regex=True)\n",
    "    dft[col] = dft[col].replace(r\"[^a-zA-Z0-9$@'?+!]\", \" \", regex=True)\n",
    "    dft[col] = dft[col].replace(r\"[\\n]\", \" \", regex=True)\n",
    "    dft[col] = dft[col].str.lower()\n",
    "    dft[col] = dft[col].replace(r\"\\?\", \" ? \", regex=True)\n",
    "    dft[col] = dft[col].replace(r\"\\!\", \" ! \", regex=True)\n",
    "    dft[col] = dft[col].replace(r\"\\@\", \" @ \", regex=True)\n",
    "    dft[col] = dft[col].replace(r\"\\$\", \" $ \", regex=True)"
   ]
  },
  {
   "cell_type": "code",
   "execution_count": 1407,
   "id": "30be680b",
   "metadata": {},
   "outputs": [
    {
     "data": {
      "text/html": [
       "<div>\n",
       "<style scoped>\n",
       "    .dataframe tbody tr th:only-of-type {\n",
       "        vertical-align: middle;\n",
       "    }\n",
       "\n",
       "    .dataframe tbody tr th {\n",
       "        vertical-align: top;\n",
       "    }\n",
       "\n",
       "    .dataframe thead th {\n",
       "        text-align: right;\n",
       "    }\n",
       "</style>\n",
       "<table border=\"1\" class=\"dataframe\">\n",
       "  <thead>\n",
       "    <tr style=\"text-align: right;\">\n",
       "      <th></th>\n",
       "      <th>score1</th>\n",
       "      <th>score2</th>\n",
       "      <th>score3</th>\n",
       "      <th>score4</th>\n",
       "      <th>score5</th>\n",
       "      <th>text1</th>\n",
       "      <th>text2</th>\n",
       "      <th>text3</th>\n",
       "      <th>text4</th>\n",
       "      <th>text5</th>\n",
       "    </tr>\n",
       "  </thead>\n",
       "  <tbody>\n",
       "    <tr>\n",
       "      <th>0</th>\n",
       "      <td>None</td>\n",
       "      <td>None</td>\n",
       "      <td>None</td>\n",
       "      <td>None</td>\n",
       "      <td>None</td>\n",
       "      <td>i  x27 m still waiting for them to stabilize w...</td>\n",
       "      <td>for those who upgraded  no need to do a restor...</td>\n",
       "      <td>upgraded shortly after it was released and suf...</td>\n",
       "      <td>i think they were under a lot of pressure on t...</td>\n",
       "      <td>fix for those who already updated   http</td>\n",
       "    </tr>\n",
       "    <tr>\n",
       "      <th>1</th>\n",
       "      <td>None</td>\n",
       "      <td>None</td>\n",
       "      <td>None</td>\n",
       "      <td>None</td>\n",
       "      <td>None</td>\n",
       "      <td>get it from your employer  it  x27 s better an...</td>\n",
       "      <td>as someone who moved from the uk to us under a...</td>\n",
       "      <td>i went to http filled out some online forms an...</td>\n",
       "      <td>full time employed  health insurance through m...</td>\n",
       "      <td>your options depend on where you live i signed...</td>\n",
       "    </tr>\n",
       "    <tr>\n",
       "      <th>2</th>\n",
       "      <td>None</td>\n",
       "      <td>None</td>\n",
       "      <td>None</td>\n",
       "      <td>None</td>\n",
       "      <td>None</td>\n",
       "      <td>what i don  x27 t understand is why drugs deve...</td>\n",
       "      <td>to everyone sure this will fail because of the...</td>\n",
       "      <td>people don  x27 t seem to realize how expensiv...</td>\n",
       "      <td>many years ago  i worked in a lab where i synt...</td>\n",
       "      <td>i think the negative comments on here have got...</td>\n",
       "    </tr>\n",
       "    <tr>\n",
       "      <th>3</th>\n",
       "      <td>None</td>\n",
       "      <td>None</td>\n",
       "      <td>None</td>\n",
       "      <td>None</td>\n",
       "      <td>None</td>\n",
       "      <td>i  x27 m not a physicist   i imagine that if i...</td>\n",
       "      <td>i  x27 m not at all acquainted with astrophysi...</td>\n",
       "      <td>this paper claims that black holes can  x27 t ...</td>\n",
       "      <td>interesting  if the paper finds general accept...</td>\n",
       "      <td>ethan siegel just posted a detailed response t...</td>\n",
       "    </tr>\n",
       "    <tr>\n",
       "      <th>4</th>\n",
       "      <td>None</td>\n",
       "      <td>None</td>\n",
       "      <td>None</td>\n",
       "      <td>None</td>\n",
       "      <td>None</td>\n",
       "      <td>as someone that doesn  x27 t do ios developmen...</td>\n",
       "      <td>apple developed swift to make developer  x27 s...</td>\n",
       "      <td>so i  x27 m making ios apps sometimes  but hav...</td>\n",
       "      <td>gt  inverted mode for displaying cells upside...</td>\n",
       "      <td>cool   i was just shopping for a new growing t...</td>\n",
       "    </tr>\n",
       "  </tbody>\n",
       "</table>\n",
       "</div>"
      ],
      "text/plain": [
       "  score1 score2 score3 score4 score5  \\\n",
       "0   None   None   None   None   None   \n",
       "1   None   None   None   None   None   \n",
       "2   None   None   None   None   None   \n",
       "3   None   None   None   None   None   \n",
       "4   None   None   None   None   None   \n",
       "\n",
       "                                               text1  \\\n",
       "0  i  x27 m still waiting for them to stabilize w...   \n",
       "1  get it from your employer  it  x27 s better an...   \n",
       "2  what i don  x27 t understand is why drugs deve...   \n",
       "3  i  x27 m not a physicist   i imagine that if i...   \n",
       "4  as someone that doesn  x27 t do ios developmen...   \n",
       "\n",
       "                                               text2  \\\n",
       "0  for those who upgraded  no need to do a restor...   \n",
       "1  as someone who moved from the uk to us under a...   \n",
       "2  to everyone sure this will fail because of the...   \n",
       "3  i  x27 m not at all acquainted with astrophysi...   \n",
       "4  apple developed swift to make developer  x27 s...   \n",
       "\n",
       "                                               text3  \\\n",
       "0  upgraded shortly after it was released and suf...   \n",
       "1  i went to http filled out some online forms an...   \n",
       "2  people don  x27 t seem to realize how expensiv...   \n",
       "3  this paper claims that black holes can  x27 t ...   \n",
       "4  so i  x27 m making ios apps sometimes  but hav...   \n",
       "\n",
       "                                               text4  \\\n",
       "0  i think they were under a lot of pressure on t...   \n",
       "1  full time employed  health insurance through m...   \n",
       "2  many years ago  i worked in a lab where i synt...   \n",
       "3  interesting  if the paper finds general accept...   \n",
       "4   gt  inverted mode for displaying cells upside...   \n",
       "\n",
       "                                               text5  \n",
       "0           fix for those who already updated   http  \n",
       "1  your options depend on where you live i signed...  \n",
       "2  i think the negative comments on here have got...  \n",
       "3  ethan siegel just posted a detailed response t...  \n",
       "4  cool   i was just shopping for a new growing t...  "
      ]
     },
     "execution_count": 1407,
     "metadata": {},
     "output_type": "execute_result"
    }
   ],
   "source": [
    "dft.head()"
   ]
  },
  {
   "cell_type": "markdown",
   "id": "e1fc04b9",
   "metadata": {},
   "source": [
    "### Исключение стоп слов из тестовой выборки"
   ]
  },
  {
   "cell_type": "code",
   "execution_count": 1408,
   "id": "9deddada",
   "metadata": {},
   "outputs": [],
   "source": [
    "test_posts['text'] = test_posts['text'].apply(lambda text: remove_stopwords(text))"
   ]
  },
  {
   "cell_type": "code",
   "execution_count": 1409,
   "id": "0cd3261d",
   "metadata": {},
   "outputs": [],
   "source": [
    "cols = ['text1', 'text2', 'text3', 'text4', 'text5']\n",
    "for col in cols:\n",
    "    dft[col] = dft[col].apply(lambda text: remove_stopwords(text))"
   ]
  },
  {
   "cell_type": "markdown",
   "id": "92363e4a",
   "metadata": {},
   "source": [
    "### Лемматизация в тестовой выборке\n",
    "\n",
    "#### Лемматизация постов"
   ]
  },
  {
   "cell_type": "code",
   "execution_count": null,
   "id": "d54b9ffa",
   "metadata": {},
   "outputs": [],
   "source": [
    "# применяем лемматизацию к словам в предложениях из столбца датафрейма, исключая пробелы\n",
    "tqdm.pandas()\n",
    "test_posts['lemm'] = test_posts['text'].progress_apply(lambda text: \" \".join(token.lemma_ for token in nlp(text)\n",
    "                                                                if not token.is_space))"
   ]
  },
  {
   "cell_type": "code",
   "execution_count": 24,
   "id": "fc8641c5",
   "metadata": {},
   "outputs": [],
   "source": [
    "test_posts['lemm'] = test_posts['lemm'].apply(lambda text: remove_stopwords(text))"
   ]
  },
  {
   "cell_type": "code",
   "execution_count": 25,
   "id": "2f5d1443",
   "metadata": {},
   "outputs": [],
   "source": [
    "# исключаем апострофы (могли остаться, если были в словах, которые не подходят под схемы для лемматизации)\n",
    "test_posts[\"lemm\"] = test_posts[\"lemm\"].replace(r\"[']\", \" \", regex=True)"
   ]
  },
  {
   "cell_type": "code",
   "execution_count": 26,
   "id": "670c8579",
   "metadata": {},
   "outputs": [],
   "source": [
    "# удаляем столбец с исходным текстом\n",
    "test_posts = test_posts.drop(columns=['text'], axis=1)"
   ]
  },
  {
   "cell_type": "code",
   "execution_count": 27,
   "id": "0f43765f",
   "metadata": {},
   "outputs": [],
   "source": [
    "# удаляем столбец с комментариями\n",
    "test_posts = test_posts.drop(columns=['comments'], axis=1)"
   ]
  },
  {
   "cell_type": "code",
   "execution_count": 28,
   "id": "e18ba48e",
   "metadata": {},
   "outputs": [],
   "source": [
    "test_posts = test_posts.rename(columns = {'lemm': 'text'})"
   ]
  },
  {
   "cell_type": "code",
   "execution_count": 29,
   "id": "8bacb773",
   "metadata": {},
   "outputs": [
    {
     "data": {
      "text/html": [
       "<div>\n",
       "<style scoped>\n",
       "    .dataframe tbody tr th:only-of-type {\n",
       "        vertical-align: middle;\n",
       "    }\n",
       "\n",
       "    .dataframe tbody tr th {\n",
       "        vertical-align: top;\n",
       "    }\n",
       "\n",
       "    .dataframe thead th {\n",
       "        text-align: right;\n",
       "    }\n",
       "</style>\n",
       "<table border=\"1\" class=\"dataframe\">\n",
       "  <thead>\n",
       "    <tr style=\"text-align: right;\">\n",
       "      <th></th>\n",
       "      <th>length</th>\n",
       "      <th>text</th>\n",
       "    </tr>\n",
       "  </thead>\n",
       "  <tbody>\n",
       "    <tr>\n",
       "      <th>0</th>\n",
       "      <td>133</td>\n",
       "      <td>summer y combinator fundee decide continue sta...</td>\n",
       "    </tr>\n",
       "    <tr>\n",
       "      <th>1</th>\n",
       "      <td>32</td>\n",
       "      <td>cbs acquires fm $ 280 m</td>\n",
       "    </tr>\n",
       "    <tr>\n",
       "      <th>2</th>\n",
       "      <td>35</td>\n",
       "      <td>costco anti wal mart</td>\n",
       "    </tr>\n",
       "    <tr>\n",
       "      <th>3</th>\n",
       "      <td>58</td>\n",
       "      <td>fortune favor big turd screw money art</td>\n",
       "    </tr>\n",
       "    <tr>\n",
       "      <th>4</th>\n",
       "      <td>59</td>\n",
       "      <td>startupweekend 70 founder create company weekend</td>\n",
       "    </tr>\n",
       "  </tbody>\n",
       "</table>\n",
       "</div>"
      ],
      "text/plain": [
       "   length                                               text\n",
       "0     133  summer y combinator fundee decide continue sta...\n",
       "1      32                            cbs acquires fm $ 280 m\n",
       "2      35                               costco anti wal mart\n",
       "3      58             fortune favor big turd screw money art\n",
       "4      59   startupweekend 70 founder create company weekend"
      ]
     },
     "execution_count": 29,
     "metadata": {},
     "output_type": "execute_result"
    }
   ],
   "source": [
    "test_posts.head()"
   ]
  },
  {
   "cell_type": "code",
   "execution_count": 30,
   "id": "4b1a1fc1",
   "metadata": {},
   "outputs": [],
   "source": [
    "# сохраняем полученный файл\n",
    "filepath = Path('C:/Andrey/datasets/chg/test_posts_lemmatized.csv')\n",
    "filepath.parent.mkdir(parents=True, exist_ok=True)\n",
    "test_posts.to_csv(filepath, index=False)"
   ]
  },
  {
   "cell_type": "markdown",
   "id": "d8b169b3",
   "metadata": {},
   "source": [
    "Загрузка сохраненного файла после лемматизации"
   ]
  },
  {
   "cell_type": "code",
   "execution_count": 1410,
   "id": "aabd0da4",
   "metadata": {},
   "outputs": [],
   "source": [
    "df_test_posts = pd.read_csv('C:/Andrey/datasets/chg/test_posts_lemmatized.csv')"
   ]
  },
  {
   "cell_type": "code",
   "execution_count": 1411,
   "id": "e75a24d6",
   "metadata": {
    "scrolled": true
   },
   "outputs": [
    {
     "name": "stdout",
     "output_type": "stream",
     "text": [
      "<class 'pandas.core.frame.DataFrame'>\n",
      "RangeIndex: 14004 entries, 0 to 14003\n",
      "Data columns (total 1 columns):\n",
      " #   Column  Non-Null Count  Dtype \n",
      "---  ------  --------------  ----- \n",
      " 0   text    13999 non-null  object\n",
      "dtypes: object(1)\n",
      "memory usage: 109.5+ KB\n"
     ]
    }
   ],
   "source": [
    "df_test_posts.info()"
   ]
  },
  {
   "cell_type": "code",
   "execution_count": 1412,
   "id": "f5c9abd2",
   "metadata": {},
   "outputs": [],
   "source": [
    "df_test_posts = df_test_posts.fillna(' ')"
   ]
  },
  {
   "cell_type": "markdown",
   "id": "15f08638",
   "metadata": {},
   "source": [
    "#### Лемматизация комментов (в отдельных ячейках, так как требуется много времени на каждый столбец)"
   ]
  },
  {
   "cell_type": "code",
   "execution_count": 34,
   "id": "99923f72",
   "metadata": {},
   "outputs": [
    {
     "name": "stderr",
     "output_type": "stream",
     "text": [
      "100%|██████████| 87525/87525 [23:57<00:00, 60.90it/s] \n"
     ]
    }
   ],
   "source": [
    "# применяем лемматизацию к словам в предложениях из столбца датафрейма, исключая пробелы\n",
    "tqdm.pandas()\n",
    "dft['lemm1'] = dft['text1'].progress_apply(lambda text: \" \".join(token.lemma_ for token in nlp(text)\n",
    "                                                                if not token.is_space))"
   ]
  },
  {
   "cell_type": "code",
   "execution_count": 35,
   "id": "a23756b1",
   "metadata": {},
   "outputs": [
    {
     "name": "stderr",
     "output_type": "stream",
     "text": [
      "100%|██████████| 87525/87525 [18:55<00:00, 77.10it/s] \n"
     ]
    }
   ],
   "source": [
    "# применяем лемматизацию к словам в предложениях из столбца датафрейма, исключая пробелы\n",
    "tqdm.pandas()\n",
    "dft['lemm2'] = dft['text2'].progress_apply(lambda text: \" \".join(token.lemma_ for token in nlp(text)\n",
    "                                                                if not token.is_space))"
   ]
  },
  {
   "cell_type": "code",
   "execution_count": 36,
   "id": "d6907d6d",
   "metadata": {},
   "outputs": [
    {
     "name": "stderr",
     "output_type": "stream",
     "text": [
      "100%|██████████| 87525/87525 [19:15<00:00, 75.73it/s] \n"
     ]
    }
   ],
   "source": [
    "# применяем лемматизацию к словам в предложениях из столбца датафрейма, исключая пробелы\n",
    "tqdm.pandas()\n",
    "dft['lemm3'] = dft['text3'].progress_apply(lambda text: \" \".join(token.lemma_ for token in nlp(text)\n",
    "                                                                if not token.is_space))"
   ]
  },
  {
   "cell_type": "code",
   "execution_count": 37,
   "id": "bbf355d7",
   "metadata": {},
   "outputs": [
    {
     "name": "stderr",
     "output_type": "stream",
     "text": [
      "100%|██████████| 87525/87525 [21:19<00:00, 68.41it/s]  \n"
     ]
    }
   ],
   "source": [
    "# применяем лемматизацию к словам в предложениях из столбца датафрейма, исключая пробелы\n",
    "tqdm.pandas()\n",
    "dft['lemm4'] = dft['text4'].progress_apply(lambda text: \" \".join(token.lemma_ for token in nlp(text)\n",
    "                                                                if not token.is_space))"
   ]
  },
  {
   "cell_type": "code",
   "execution_count": 38,
   "id": "1abee06f",
   "metadata": {},
   "outputs": [
    {
     "name": "stderr",
     "output_type": "stream",
     "text": [
      "100%|██████████| 87525/87525 [17:30<00:00, 83.35it/s] \n"
     ]
    }
   ],
   "source": [
    "# применяем лемматизацию к словам в предложениях из столбца датафрейма, исключая пробелы\n",
    "tqdm.pandas()\n",
    "dft['lemm5'] = dft['text5'].progress_apply(lambda text: \" \".join(token.lemma_ for token in nlp(text)\n",
    "                                                                if not token.is_space))"
   ]
  },
  {
   "cell_type": "code",
   "execution_count": 40,
   "id": "1ee99b97",
   "metadata": {},
   "outputs": [],
   "source": [
    "lmt = [['lemm1', 'lemm2', 'lemm3','lemm4','lemm5']]\n",
    "\n",
    "for col in lmt:\n",
    "    dft[col] = dft[col].replace(r\"[']\", \"\", regex=True)"
   ]
  },
  {
   "cell_type": "code",
   "execution_count": 41,
   "id": "7354c596",
   "metadata": {},
   "outputs": [],
   "source": [
    "# удаляем столбец с исходным текстом\n",
    "dft = dft.drop(columns=['text1', 'text2','text3','text4','text5'], axis=1)"
   ]
  },
  {
   "cell_type": "code",
   "execution_count": 42,
   "id": "3f9b97c1",
   "metadata": {},
   "outputs": [],
   "source": [
    "# сохраняем полученный файл\n",
    "filepath = Path('C:/Andrey/datasets/chg/test_comm_lemmatized.csv')\n",
    "filepath.parent.mkdir(parents=True, exist_ok=True)\n",
    "dft.to_csv(filepath, index=False)"
   ]
  },
  {
   "cell_type": "code",
   "execution_count": 1413,
   "id": "7602335f",
   "metadata": {},
   "outputs": [],
   "source": [
    "df_test_comm = pd.read_csv('C:/Andrey/datasets/chg/test_comm_lemmatized.csv')"
   ]
  },
  {
   "cell_type": "code",
   "execution_count": 1414,
   "id": "5b717c40",
   "metadata": {
    "scrolled": true
   },
   "outputs": [
    {
     "name": "stdout",
     "output_type": "stream",
     "text": [
      "<class 'pandas.core.frame.DataFrame'>\n",
      "RangeIndex: 14004 entries, 0 to 14003\n",
      "Data columns (total 10 columns):\n",
      " #   Column  Non-Null Count  Dtype  \n",
      "---  ------  --------------  -----  \n",
      " 0   score1  0 non-null      float64\n",
      " 1   score2  0 non-null      float64\n",
      " 2   score3  0 non-null      float64\n",
      " 3   score4  0 non-null      float64\n",
      " 4   score5  0 non-null      float64\n",
      " 5   lemm1   14003 non-null  object \n",
      " 6   lemm2   14002 non-null  object \n",
      " 7   lemm3   14003 non-null  object \n",
      " 8   lemm4   14004 non-null  object \n",
      " 9   lemm5   14001 non-null  object \n",
      "dtypes: float64(5), object(5)\n",
      "memory usage: 1.1+ MB\n"
     ]
    }
   ],
   "source": [
    "df_test_comm.info()"
   ]
  },
  {
   "cell_type": "code",
   "execution_count": 1415,
   "id": "c4150045",
   "metadata": {},
   "outputs": [],
   "source": [
    "df_test_comm = df_test_comm.fillna(' ')"
   ]
  },
  {
   "cell_type": "code",
   "execution_count": null,
   "id": "905b1d07",
   "metadata": {},
   "outputs": [],
   "source": []
  },
  {
   "cell_type": "markdown",
   "id": "d009d2ea",
   "metadata": {},
   "source": [
    "### Объединение постов и комментариев в один датафрейм\n",
    "\n",
    "Объединим посты и комментарии в один датафрейм:"
   ]
  },
  {
   "cell_type": "code",
   "execution_count": 1416,
   "id": "67d541a8",
   "metadata": {},
   "outputs": [],
   "source": [
    "clean_test = df_test_posts.join(df_test_comm)"
   ]
  },
  {
   "cell_type": "code",
   "execution_count": 1417,
   "id": "5e1118c7",
   "metadata": {},
   "outputs": [
    {
     "data": {
      "text/html": [
       "<div>\n",
       "<style scoped>\n",
       "    .dataframe tbody tr th:only-of-type {\n",
       "        vertical-align: middle;\n",
       "    }\n",
       "\n",
       "    .dataframe tbody tr th {\n",
       "        vertical-align: top;\n",
       "    }\n",
       "\n",
       "    .dataframe thead th {\n",
       "        text-align: right;\n",
       "    }\n",
       "</style>\n",
       "<table border=\"1\" class=\"dataframe\">\n",
       "  <thead>\n",
       "    <tr style=\"text-align: right;\">\n",
       "      <th></th>\n",
       "      <th>text</th>\n",
       "      <th>score1</th>\n",
       "      <th>score2</th>\n",
       "      <th>score3</th>\n",
       "      <th>score4</th>\n",
       "      <th>score5</th>\n",
       "      <th>lemm1</th>\n",
       "      <th>lemm2</th>\n",
       "      <th>lemm3</th>\n",
       "      <th>lemm4</th>\n",
       "      <th>lemm5</th>\n",
       "    </tr>\n",
       "  </thead>\n",
       "  <tbody>\n",
       "    <tr>\n",
       "      <th>0</th>\n",
       "      <td>ios 8 0 1 release break iphone 6 model withdraw</td>\n",
       "      <td></td>\n",
       "      <td></td>\n",
       "      <td></td>\n",
       "      <td></td>\n",
       "      <td></td>\n",
       "      <td>x27 m wait stabilize wifi ipad sith ios 8 qual...</td>\n",
       "      <td>upgrade need restore option click quot update ...</td>\n",
       "      <td>upgrade shortly release suffer consequence abl...</td>\n",
       "      <td>think lot pressure healthkit big flagship io 8...</td>\n",
       "      <td>fix update http</td>\n",
       "    </tr>\n",
       "    <tr>\n",
       "      <th>1</th>\n",
       "      <td>ask hn hner health insurance ?</td>\n",
       "      <td></td>\n",
       "      <td></td>\n",
       "      <td></td>\n",
       "      <td></td>\n",
       "      <td></td>\n",
       "      <td>employer x27 s well cheap market allow supplem...</td>\n",
       "      <td>move uk identical condition let job offer heal...</td>\n",
       "      <td>go http fill online form pick plan x27 s like ...</td>\n",
       "      <td>time employ health insurance employer group co...</td>\n",
       "      <td>option depend live sign cover california subsi...</td>\n",
       "    </tr>\n",
       "    <tr>\n",
       "      <th>2</th>\n",
       "      <td>san diego researcher crowdfunde patent free ca...</td>\n",
       "      <td></td>\n",
       "      <td></td>\n",
       "      <td></td>\n",
       "      <td></td>\n",
       "      <td></td>\n",
       "      <td>x27 t understand drug develop public money gov...</td>\n",
       "      <td>sure fail money require ask tell mom neighbor ...</td>\n",
       "      <td>people x27 t realize expensive bring new pharm...</td>\n",
       "      <td>year ago work lab synthesize variant interfero...</td>\n",
       "      <td>think negative comment get upside research tre...</td>\n",
       "    </tr>\n",
       "    <tr>\n",
       "      <th>3</th>\n",
       "      <td>rethink origin universe</td>\n",
       "      <td></td>\n",
       "      <td></td>\n",
       "      <td></td>\n",
       "      <td></td>\n",
       "      <td></td>\n",
       "      <td>x27 m physicist imagine exciting news exciting...</td>\n",
       "      <td>x27 m acquaint astrophysic remember see articl...</td>\n",
       "      <td>paper claim black hole x27 t come existence su...</td>\n",
       "      <td>interesting paper find general acceptance x27 ...</td>\n",
       "      <td>ethan siegel post detailed response http</td>\n",
       "    </tr>\n",
       "    <tr>\n",
       "      <th>4</th>\n",
       "      <td>slacktextviewcontroller new grow text input io</td>\n",
       "      <td></td>\n",
       "      <td></td>\n",
       "      <td></td>\n",
       "      <td></td>\n",
       "      <td></td>\n",
       "      <td>x27 t ios development boggle mind guy build fe...</td>\n",
       "      <td>apple develop swift developer x27 s expressive...</td>\n",
       "      <td>x27 m make ios app implement chat feature want...</td>\n",
       "      <td>gt invert mode display cell upside catransform...</td>\n",
       "      <td>cool shop new grow text view hpgrowingtextview...</td>\n",
       "    </tr>\n",
       "  </tbody>\n",
       "</table>\n",
       "</div>"
      ],
      "text/plain": [
       "                                                text score1 score2 score3  \\\n",
       "0    ios 8 0 1 release break iphone 6 model withdraw                        \n",
       "1                     ask hn hner health insurance ?                        \n",
       "2  san diego researcher crowdfunde patent free ca...                        \n",
       "3                            rethink origin universe                        \n",
       "4     slacktextviewcontroller new grow text input io                        \n",
       "\n",
       "  score4 score5                                              lemm1  \\\n",
       "0                x27 m wait stabilize wifi ipad sith ios 8 qual...   \n",
       "1                employer x27 s well cheap market allow supplem...   \n",
       "2                x27 t understand drug develop public money gov...   \n",
       "3                x27 m physicist imagine exciting news exciting...   \n",
       "4                x27 t ios development boggle mind guy build fe...   \n",
       "\n",
       "                                               lemm2  \\\n",
       "0  upgrade need restore option click quot update ...   \n",
       "1  move uk identical condition let job offer heal...   \n",
       "2  sure fail money require ask tell mom neighbor ...   \n",
       "3  x27 m acquaint astrophysic remember see articl...   \n",
       "4  apple develop swift developer x27 s expressive...   \n",
       "\n",
       "                                               lemm3  \\\n",
       "0  upgrade shortly release suffer consequence abl...   \n",
       "1  go http fill online form pick plan x27 s like ...   \n",
       "2  people x27 t realize expensive bring new pharm...   \n",
       "3  paper claim black hole x27 t come existence su...   \n",
       "4  x27 m make ios app implement chat feature want...   \n",
       "\n",
       "                                               lemm4  \\\n",
       "0  think lot pressure healthkit big flagship io 8...   \n",
       "1  time employ health insurance employer group co...   \n",
       "2  year ago work lab synthesize variant interfero...   \n",
       "3  interesting paper find general acceptance x27 ...   \n",
       "4  gt invert mode display cell upside catransform...   \n",
       "\n",
       "                                               lemm5  \n",
       "0                                    fix update http  \n",
       "1  option depend live sign cover california subsi...  \n",
       "2  think negative comment get upside research tre...  \n",
       "3           ethan siegel post detailed response http  \n",
       "4  cool shop new grow text view hpgrowingtextview...  "
      ]
     },
     "execution_count": 1417,
     "metadata": {},
     "output_type": "execute_result"
    }
   ],
   "source": [
    "clean_test.head()"
   ]
  },
  {
   "cell_type": "code",
   "execution_count": 1418,
   "id": "d13aab95",
   "metadata": {},
   "outputs": [],
   "source": [
    "clean_test = clean_test.fillna(' ')"
   ]
  },
  {
   "cell_type": "markdown",
   "id": "3d9d9d54",
   "metadata": {},
   "source": [
    "Вычисляем длину комментариев в символах:"
   ]
  },
  {
   "cell_type": "code",
   "execution_count": 1597,
   "id": "06e0e281",
   "metadata": {},
   "outputs": [],
   "source": [
    "clean_test['length'] = clean_test['text'].apply(lambda x: len(x))\n",
    "clean_test['len1'] = clean_test['lemm1'].apply(lambda x: len(x))\n",
    "clean_test['len2'] = clean_test['lemm2'].apply(lambda x: len(x))\n",
    "clean_test['len3'] = clean_test['lemm3'].apply(lambda x: len(x))\n",
    "clean_test['len4'] = clean_test['lemm4'].apply(lambda x: len(x))\n",
    "clean_test['len5'] = clean_test['lemm5'].apply(lambda x: len(x))"
   ]
  },
  {
   "cell_type": "code",
   "execution_count": 1599,
   "id": "2072df52",
   "metadata": {
    "scrolled": false
   },
   "outputs": [
    {
     "data": {
      "text/plain": [
       "(0.0, 1500.0)"
      ]
     },
     "execution_count": 1599,
     "metadata": {},
     "output_type": "execute_result"
    },
    {
     "data": {
      "image/png": "[encoded data removed]",
      "text/plain": [
       "<Figure size 720x432 with 1 Axes>"
      ]
     },
     "metadata": {
      "needs_background": "light"
     },
     "output_type": "display_data"
    }
   ],
   "source": [
    "len_test_data = clean_test[['length', 'len1', 'len2', 'len3', 'len4','len5']]\n",
    "ax = plt.figure(figsize=(10,6))\n",
    "ax = sns.boxplot(x=\"variable\", y=\"value\", data=pd.melt(len_test_data))\n",
    "ax.set_ylim(0,1500)"
   ]
  },
  {
   "cell_type": "markdown",
   "id": "8b5fcaab",
   "metadata": {},
   "source": [
    "Комментарии распределены между группами равным образом"
   ]
  },
  {
   "cell_type": "markdown",
   "id": "4372398d",
   "metadata": {},
   "source": [
    "Разворачиваем комментарии в один столбец:"
   ]
  },
  {
   "cell_type": "code",
   "execution_count": 1419,
   "id": "df234cb8",
   "metadata": {},
   "outputs": [],
   "source": [
    "test_fin = get_df(clean_test)"
   ]
  },
  {
   "cell_type": "code",
   "execution_count": 1420,
   "id": "0ee337c0",
   "metadata": {
    "scrolled": true
   },
   "outputs": [
    {
     "data": {
      "text/plain": [
       "(70020, 1)"
      ]
     },
     "execution_count": 1420,
     "metadata": {},
     "output_type": "execute_result"
    }
   ],
   "source": [
    "test_fin.shape"
   ]
  },
  {
   "cell_type": "markdown",
   "id": "e22dc604",
   "metadata": {},
   "source": [
    "### Подготовка признаков в тестовой выборке\n",
    "\n",
    "#### Преобразование TF IDF для тестовой выборки"
   ]
  },
  {
   "cell_type": "code",
   "execution_count": 1566,
   "id": "c2a65cda",
   "metadata": {},
   "outputs": [],
   "source": [
    "test_fin_corpus = test_fin['comment'].values"
   ]
  },
  {
   "cell_type": "code",
   "execution_count": 1567,
   "id": "8158a130",
   "metadata": {},
   "outputs": [
    {
     "data": {
      "text/plain": [
       "(70020, 12801)"
      ]
     },
     "execution_count": 1567,
     "metadata": {},
     "output_type": "execute_result"
    }
   ],
   "source": [
    "# применяем расчет TF IDF к комментариям для тестовой выборки\n",
    "tf_fin_test = count_tf_idf.transform(test_fin_corpus)\n",
    "tf_fin_test.shape"
   ]
  },
  {
   "cell_type": "markdown",
   "id": "9fab6c57",
   "metadata": {},
   "source": [
    "#### Признаки по характеристикам векторов"
   ]
  },
  {
   "cell_type": "code",
   "execution_count": 1426,
   "id": "765d6adc",
   "metadata": {
    "scrolled": false
   },
   "outputs": [
    {
     "name": "stderr",
     "output_type": "stream",
     "text": [
      "C:\\Users\\antwo\\.conda\\envs\\ds_copy\\lib\\site-packages\\sklearn\\feature_extraction\\text.py:409: UserWarning: Your stop_words may be inconsistent with your preprocessing. Tokenizing the stop words generated tokens ['aren', 'can', 'couldn', 'didn', 'doesn', 'don', 'hadn', 'hasn', 'haven', 'isn', 'let', 'll', 'mustn', 're', 'shan', 'shouldn', 've', 'wasn', 'weren', 'won', 'wouldn'] not in stop_words.\n",
      "  warnings.warn(\n"
     ]
    }
   ],
   "source": [
    "test_fin_features = get_features(clean_test)"
   ]
  },
  {
   "cell_type": "code",
   "execution_count": 1471,
   "id": "30797f65",
   "metadata": {
    "scrolled": true
   },
   "outputs": [
    {
     "data": {
      "text/plain": [
       "(70020, 14)"
      ]
     },
     "execution_count": 1471,
     "metadata": {},
     "output_type": "execute_result"
    }
   ],
   "source": [
    "# датафрейм для признаков из тестовой выборки\n",
    "X_test_fin = pd.DataFrame.from_dict(test_fin_features)\n",
    "X_test_fin.shape"
   ]
  },
  {
   "cell_type": "code",
   "execution_count": 1440,
   "id": "19921380",
   "metadata": {},
   "outputs": [
    {
     "data": {
      "text/html": [
       "<div>\n",
       "<style scoped>\n",
       "    .dataframe tbody tr th:only-of-type {\n",
       "        vertical-align: middle;\n",
       "    }\n",
       "\n",
       "    .dataframe tbody tr th {\n",
       "        vertical-align: top;\n",
       "    }\n",
       "\n",
       "    .dataframe thead th {\n",
       "        text-align: right;\n",
       "    }\n",
       "</style>\n",
       "<table border=\"1\" class=\"dataframe\">\n",
       "  <thead>\n",
       "    <tr style=\"text-align: right;\">\n",
       "      <th></th>\n",
       "      <th>relative_length</th>\n",
       "      <th>len_to_vocabulary</th>\n",
       "      <th>word_count</th>\n",
       "      <th>word_ratio</th>\n",
       "      <th>ratio_post</th>\n",
       "      <th>word_ratio_post</th>\n",
       "      <th>numbers</th>\n",
       "      <th>hyperlinks</th>\n",
       "      <th>dot</th>\n",
       "      <th>question</th>\n",
       "      <th>exclamation</th>\n",
       "      <th>dollars</th>\n",
       "      <th>cosine</th>\n",
       "      <th>euclidean</th>\n",
       "    </tr>\n",
       "  </thead>\n",
       "  <tbody>\n",
       "    <tr>\n",
       "      <th>0</th>\n",
       "      <td>0.181818</td>\n",
       "      <td>0.20</td>\n",
       "      <td>12</td>\n",
       "      <td>0.200000</td>\n",
       "      <td>1.714286</td>\n",
       "      <td>1.714286</td>\n",
       "      <td>4</td>\n",
       "      <td>0</td>\n",
       "      <td>0</td>\n",
       "      <td>0</td>\n",
       "      <td>0</td>\n",
       "      <td>0</td>\n",
       "      <td>0.117851</td>\n",
       "      <td>4.000000</td>\n",
       "    </tr>\n",
       "    <tr>\n",
       "      <th>1</th>\n",
       "      <td>0.181818</td>\n",
       "      <td>0.20</td>\n",
       "      <td>11</td>\n",
       "      <td>0.183333</td>\n",
       "      <td>1.714286</td>\n",
       "      <td>1.571429</td>\n",
       "      <td>3</td>\n",
       "      <td>1</td>\n",
       "      <td>0</td>\n",
       "      <td>0</td>\n",
       "      <td>0</td>\n",
       "      <td>0</td>\n",
       "      <td>0.000000</td>\n",
       "      <td>4.472136</td>\n",
       "    </tr>\n",
       "    <tr>\n",
       "      <th>2</th>\n",
       "      <td>0.272727</td>\n",
       "      <td>0.30</td>\n",
       "      <td>18</td>\n",
       "      <td>0.300000</td>\n",
       "      <td>2.571429</td>\n",
       "      <td>2.571429</td>\n",
       "      <td>2</td>\n",
       "      <td>0</td>\n",
       "      <td>0</td>\n",
       "      <td>0</td>\n",
       "      <td>0</td>\n",
       "      <td>0</td>\n",
       "      <td>0.096225</td>\n",
       "      <td>4.690416</td>\n",
       "    </tr>\n",
       "    <tr>\n",
       "      <th>3</th>\n",
       "      <td>0.318182</td>\n",
       "      <td>0.35</td>\n",
       "      <td>19</td>\n",
       "      <td>0.316667</td>\n",
       "      <td>3.000000</td>\n",
       "      <td>2.714286</td>\n",
       "      <td>3</td>\n",
       "      <td>0</td>\n",
       "      <td>0</td>\n",
       "      <td>0</td>\n",
       "      <td>0</td>\n",
       "      <td>0</td>\n",
       "      <td>0.163299</td>\n",
       "      <td>5.196152</td>\n",
       "    </tr>\n",
       "    <tr>\n",
       "      <th>4</th>\n",
       "      <td>0.045455</td>\n",
       "      <td>0.05</td>\n",
       "      <td>3</td>\n",
       "      <td>0.050000</td>\n",
       "      <td>0.428571</td>\n",
       "      <td>0.428571</td>\n",
       "      <td>0</td>\n",
       "      <td>1</td>\n",
       "      <td>0</td>\n",
       "      <td>0</td>\n",
       "      <td>0</td>\n",
       "      <td>0</td>\n",
       "      <td>0.000000</td>\n",
       "      <td>3.000000</td>\n",
       "    </tr>\n",
       "  </tbody>\n",
       "</table>\n",
       "</div>"
      ],
      "text/plain": [
       "   relative_length  len_to_vocabulary  word_count  word_ratio  ratio_post  \\\n",
       "0         0.181818               0.20          12    0.200000    1.714286   \n",
       "1         0.181818               0.20          11    0.183333    1.714286   \n",
       "2         0.272727               0.30          18    0.300000    2.571429   \n",
       "3         0.318182               0.35          19    0.316667    3.000000   \n",
       "4         0.045455               0.05           3    0.050000    0.428571   \n",
       "\n",
       "   word_ratio_post  numbers  hyperlinks  dot  question  exclamation  dollars  \\\n",
       "0         1.714286        4           0    0         0            0        0   \n",
       "1         1.571429        3           1    0         0            0        0   \n",
       "2         2.571429        2           0    0         0            0        0   \n",
       "3         2.714286        3           0    0         0            0        0   \n",
       "4         0.428571        0           1    0         0            0        0   \n",
       "\n",
       "     cosine  euclidean  \n",
       "0  0.117851   4.000000  \n",
       "1  0.000000   4.472136  \n",
       "2  0.096225   4.690416  \n",
       "3  0.163299   5.196152  \n",
       "4  0.000000   3.000000  "
      ]
     },
     "execution_count": 1440,
     "metadata": {},
     "output_type": "execute_result"
    }
   ],
   "source": [
    "X_test_fin.head()"
   ]
  },
  {
   "cell_type": "markdown",
   "id": "21219247",
   "metadata": {},
   "source": [
    "### Вычисление предсказаний:"
   ]
  },
  {
   "cell_type": "code",
   "execution_count": 1458,
   "id": "5c124668",
   "metadata": {},
   "outputs": [],
   "source": [
    "test_scores = regress_pred(lgbm_cv, X_test_fin)"
   ]
  },
  {
   "cell_type": "code",
   "execution_count": 1459,
   "id": "931dd8e7",
   "metadata": {
    "scrolled": false
   },
   "outputs": [
    {
     "data": {
      "text/plain": [
       "(14004, 5)"
      ]
     },
     "execution_count": 1459,
     "metadata": {},
     "output_type": "execute_result"
    }
   ],
   "source": [
    "test_scores.shape"
   ]
  },
  {
   "cell_type": "code",
   "execution_count": 1461,
   "id": "8abbba4c",
   "metadata": {},
   "outputs": [],
   "source": [
    "scores = pd.DataFrame(data=test_scores)"
   ]
  },
  {
   "cell_type": "code",
   "execution_count": 1462,
   "id": "105d2fb8",
   "metadata": {},
   "outputs": [
    {
     "data": {
      "text/html": [
       "<div>\n",
       "<style scoped>\n",
       "    .dataframe tbody tr th:only-of-type {\n",
       "        vertical-align: middle;\n",
       "    }\n",
       "\n",
       "    .dataframe tbody tr th {\n",
       "        vertical-align: top;\n",
       "    }\n",
       "\n",
       "    .dataframe thead th {\n",
       "        text-align: right;\n",
       "    }\n",
       "</style>\n",
       "<table border=\"1\" class=\"dataframe\">\n",
       "  <thead>\n",
       "    <tr style=\"text-align: right;\">\n",
       "      <th></th>\n",
       "      <th>0</th>\n",
       "      <th>1</th>\n",
       "      <th>2</th>\n",
       "      <th>3</th>\n",
       "      <th>4</th>\n",
       "    </tr>\n",
       "  </thead>\n",
       "  <tbody>\n",
       "    <tr>\n",
       "      <th>0</th>\n",
       "      <td>3</td>\n",
       "      <td>2</td>\n",
       "      <td>1</td>\n",
       "      <td>0</td>\n",
       "      <td>4</td>\n",
       "    </tr>\n",
       "    <tr>\n",
       "      <th>1</th>\n",
       "      <td>1</td>\n",
       "      <td>2</td>\n",
       "      <td>4</td>\n",
       "      <td>3</td>\n",
       "      <td>0</td>\n",
       "    </tr>\n",
       "    <tr>\n",
       "      <th>2</th>\n",
       "      <td>4</td>\n",
       "      <td>1</td>\n",
       "      <td>3</td>\n",
       "      <td>2</td>\n",
       "      <td>0</td>\n",
       "    </tr>\n",
       "    <tr>\n",
       "      <th>3</th>\n",
       "      <td>1</td>\n",
       "      <td>0</td>\n",
       "      <td>3</td>\n",
       "      <td>2</td>\n",
       "      <td>4</td>\n",
       "    </tr>\n",
       "    <tr>\n",
       "      <th>4</th>\n",
       "      <td>4</td>\n",
       "      <td>1</td>\n",
       "      <td>2</td>\n",
       "      <td>3</td>\n",
       "      <td>0</td>\n",
       "    </tr>\n",
       "    <tr>\n",
       "      <th>...</th>\n",
       "      <td>...</td>\n",
       "      <td>...</td>\n",
       "      <td>...</td>\n",
       "      <td>...</td>\n",
       "      <td>...</td>\n",
       "    </tr>\n",
       "    <tr>\n",
       "      <th>13999</th>\n",
       "      <td>3</td>\n",
       "      <td>1</td>\n",
       "      <td>0</td>\n",
       "      <td>4</td>\n",
       "      <td>2</td>\n",
       "    </tr>\n",
       "    <tr>\n",
       "      <th>14000</th>\n",
       "      <td>0</td>\n",
       "      <td>3</td>\n",
       "      <td>1</td>\n",
       "      <td>4</td>\n",
       "      <td>2</td>\n",
       "    </tr>\n",
       "    <tr>\n",
       "      <th>14001</th>\n",
       "      <td>3</td>\n",
       "      <td>1</td>\n",
       "      <td>2</td>\n",
       "      <td>4</td>\n",
       "      <td>0</td>\n",
       "    </tr>\n",
       "    <tr>\n",
       "      <th>14002</th>\n",
       "      <td>0</td>\n",
       "      <td>3</td>\n",
       "      <td>2</td>\n",
       "      <td>4</td>\n",
       "      <td>1</td>\n",
       "    </tr>\n",
       "    <tr>\n",
       "      <th>14003</th>\n",
       "      <td>0</td>\n",
       "      <td>3</td>\n",
       "      <td>2</td>\n",
       "      <td>4</td>\n",
       "      <td>1</td>\n",
       "    </tr>\n",
       "  </tbody>\n",
       "</table>\n",
       "<p>14004 rows × 5 columns</p>\n",
       "</div>"
      ],
      "text/plain": [
       "       0  1  2  3  4\n",
       "0      3  2  1  0  4\n",
       "1      1  2  4  3  0\n",
       "2      4  1  3  2  0\n",
       "3      1  0  3  2  4\n",
       "4      4  1  2  3  0\n",
       "...   .. .. .. .. ..\n",
       "13999  3  1  0  4  2\n",
       "14000  0  3  1  4  2\n",
       "14001  3  1  2  4  0\n",
       "14002  0  3  2  4  1\n",
       "14003  0  3  2  4  1\n",
       "\n",
       "[14004 rows x 5 columns]"
      ]
     },
     "execution_count": 1462,
     "metadata": {},
     "output_type": "execute_result"
    }
   ],
   "source": [
    "scores"
   ]
  },
  {
   "cell_type": "code",
   "execution_count": 1472,
   "id": "04f263da",
   "metadata": {},
   "outputs": [],
   "source": [
    "# сохраняем полученный файл\n",
    "filepath = Path('C:/Andrey/datasets/chg/scores.csv')\n",
    "filepath.parent.mkdir(parents=True, exist_ok=True)\n",
    "scores.to_csv(filepath, index=False)"
   ]
  },
  {
   "cell_type": "code",
   "execution_count": 1587,
   "id": "f1135ca0",
   "metadata": {},
   "outputs": [],
   "source": [
    "scrs = pd.read_json('C:/Andrey/datasets/chg/scores.json', orient='index')"
   ]
  },
  {
   "cell_type": "code",
   "execution_count": 1588,
   "id": "1f18a79a",
   "metadata": {},
   "outputs": [
    {
     "data": {
      "text/html": [
       "<div>\n",
       "<style scoped>\n",
       "    .dataframe tbody tr th:only-of-type {\n",
       "        vertical-align: middle;\n",
       "    }\n",
       "\n",
       "    .dataframe tbody tr th {\n",
       "        vertical-align: top;\n",
       "    }\n",
       "\n",
       "    .dataframe thead th {\n",
       "        text-align: right;\n",
       "    }\n",
       "</style>\n",
       "<table border=\"1\" class=\"dataframe\">\n",
       "  <thead>\n",
       "    <tr style=\"text-align: right;\">\n",
       "      <th></th>\n",
       "      <th>0</th>\n",
       "      <th>1</th>\n",
       "      <th>2</th>\n",
       "      <th>3</th>\n",
       "      <th>4</th>\n",
       "    </tr>\n",
       "  </thead>\n",
       "  <tbody>\n",
       "    <tr>\n",
       "      <th>0</th>\n",
       "      <td>3</td>\n",
       "      <td>2</td>\n",
       "      <td>1</td>\n",
       "      <td>0</td>\n",
       "      <td>4</td>\n",
       "    </tr>\n",
       "    <tr>\n",
       "      <th>1</th>\n",
       "      <td>1</td>\n",
       "      <td>2</td>\n",
       "      <td>4</td>\n",
       "      <td>3</td>\n",
       "      <td>0</td>\n",
       "    </tr>\n",
       "    <tr>\n",
       "      <th>2</th>\n",
       "      <td>4</td>\n",
       "      <td>1</td>\n",
       "      <td>3</td>\n",
       "      <td>2</td>\n",
       "      <td>0</td>\n",
       "    </tr>\n",
       "    <tr>\n",
       "      <th>3</th>\n",
       "      <td>1</td>\n",
       "      <td>0</td>\n",
       "      <td>3</td>\n",
       "      <td>2</td>\n",
       "      <td>4</td>\n",
       "    </tr>\n",
       "    <tr>\n",
       "      <th>4</th>\n",
       "      <td>4</td>\n",
       "      <td>1</td>\n",
       "      <td>2</td>\n",
       "      <td>3</td>\n",
       "      <td>0</td>\n",
       "    </tr>\n",
       "    <tr>\n",
       "      <th>...</th>\n",
       "      <td>...</td>\n",
       "      <td>...</td>\n",
       "      <td>...</td>\n",
       "      <td>...</td>\n",
       "      <td>...</td>\n",
       "    </tr>\n",
       "    <tr>\n",
       "      <th>13999</th>\n",
       "      <td>3</td>\n",
       "      <td>1</td>\n",
       "      <td>0</td>\n",
       "      <td>4</td>\n",
       "      <td>2</td>\n",
       "    </tr>\n",
       "    <tr>\n",
       "      <th>14000</th>\n",
       "      <td>0</td>\n",
       "      <td>3</td>\n",
       "      <td>1</td>\n",
       "      <td>4</td>\n",
       "      <td>2</td>\n",
       "    </tr>\n",
       "    <tr>\n",
       "      <th>14001</th>\n",
       "      <td>3</td>\n",
       "      <td>1</td>\n",
       "      <td>2</td>\n",
       "      <td>4</td>\n",
       "      <td>0</td>\n",
       "    </tr>\n",
       "    <tr>\n",
       "      <th>14002</th>\n",
       "      <td>0</td>\n",
       "      <td>3</td>\n",
       "      <td>2</td>\n",
       "      <td>4</td>\n",
       "      <td>1</td>\n",
       "    </tr>\n",
       "    <tr>\n",
       "      <th>14003</th>\n",
       "      <td>0</td>\n",
       "      <td>3</td>\n",
       "      <td>2</td>\n",
       "      <td>4</td>\n",
       "      <td>1</td>\n",
       "    </tr>\n",
       "  </tbody>\n",
       "</table>\n",
       "<p>14004 rows × 5 columns</p>\n",
       "</div>"
      ],
      "text/plain": [
       "       0  1  2  3  4\n",
       "0      3  2  1  0  4\n",
       "1      1  2  4  3  0\n",
       "2      4  1  3  2  0\n",
       "3      1  0  3  2  4\n",
       "4      4  1  2  3  0\n",
       "...   .. .. .. .. ..\n",
       "13999  3  1  0  4  2\n",
       "14000  0  3  1  4  2\n",
       "14001  3  1  2  4  0\n",
       "14002  0  3  2  4  1\n",
       "14003  0  3  2  4  1\n",
       "\n",
       "[14004 rows x 5 columns]"
      ]
     },
     "execution_count": 1588,
     "metadata": {},
     "output_type": "execute_result"
    }
   ],
   "source": [
    "scrs"
   ]
  }
 ],
 "metadata": {
  "kernelspec": {
   "display_name": "Python 3 (ipykernel)",
   "language": "python",
   "name": "python3"
  },
  "language_info": {
   "codemirror_mode": {
    "name": "ipython",
    "version": 3
   },
   "file_extension": ".py",
   "mimetype": "text/x-python",
   "name": "python",
   "nbconvert_exporter": "python",
   "pygments_lexer": "ipython3",
   "version": "3.9.12"
  },
  "toc": {
   "base_numbering": 1,
   "nav_menu": {},
   "number_sections": true,
   "sideBar": true,
   "skip_h1_title": true,
   "title_cell": "Table of Contents",
   "title_sidebar": "Contents",
   "toc_cell": false,
   "toc_position": {
    "height": "calc(100% - 180px)",
    "left": "10px",
    "top": "150px",
    "width": "359px"
   },
   "toc_section_display": true,
   "toc_window_display": true
  }
 },
 "nbformat": 4,
 "nbformat_minor": 5
}
